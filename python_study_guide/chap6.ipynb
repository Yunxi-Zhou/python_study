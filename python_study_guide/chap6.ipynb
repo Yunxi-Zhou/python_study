{
 "cells": [
  {
   "cell_type": "markdown",
   "metadata": {},
   "source": [
    "# 字符串的相关处理方法"
   ]
  },
  {
   "cell_type": "code",
   "execution_count": 3,
   "metadata": {},
   "outputs": [
    {
     "name": "stdout",
     "output_type": "stream",
     "text": [
      "HelloWorld helloworld\n",
      "HELLOWORLD\n"
     ]
    }
   ],
   "source": [
    "# 大小写转换\n",
    "\n",
    "s1 = 'HelloWorld'\n",
    "new_s2 = s1.lower()\n",
    "print(s1,new_s2)\n",
    "\n",
    "new_s3 = s1.upper()\n",
    "print(new_s3)\n",
    "\n",
    "\n"
   ]
  },
  {
   "cell_type": "code",
   "execution_count": 4,
   "metadata": {},
   "outputs": [
    {
     "name": "stdout",
     "output_type": "stream",
     "text": [
      "mail name: zyx ,mail service: gmail.com\n"
     ]
    }
   ],
   "source": [
    "# 字符串的间隔\n",
    "\n",
    "e_mail = 'zyx@gmail.com'\n",
    "lst = e_mail.split('@')\n",
    "print('mail name:',lst[0],',mail service:',lst[1])\n"
   ]
  },
  {
   "cell_type": "code",
   "execution_count": 4,
   "metadata": {},
   "outputs": [
    {
     "name": "stdout",
     "output_type": "stream",
     "text": [
      "2\n"
     ]
    }
   ],
   "source": [
    "# \n",
    "print(s1.count('o'))"
   ]
  },
  {
   "cell_type": "code",
   "execution_count": 10,
   "metadata": {},
   "outputs": [
    {
     "name": "stdout",
     "output_type": "stream",
     "text": [
      "4\n",
      "-1\n",
      "4\n",
      "True\n",
      "False\n",
      "True\n",
      "True\n"
     ]
    }
   ],
   "source": [
    "# 检索操作\n",
    "\n",
    "print(s1.find('o'))\n",
    "print(s1.find('p'))  # 没有找到\n",
    "\n",
    "print(s1.index('o'))\n",
    "#print(s1.index('p')) ValueError: substring not found  字串没有找到\n",
    "\n",
    "\n",
    "# 判断前缀和后缀\n",
    "\n",
    "print(s1.startswith('H'))\n",
    "print(s1.startswith('P'))\n",
    "\n",
    "\n",
    "print('demo.py'.endswith ('.py'))\n",
    "print('text.txt'.endswith ('.txt'))\n",
    "\n",
    "\n"
   ]
  },
  {
   "cell_type": "markdown",
   "metadata": {},
   "source": [
    "# 字符串的相关处理 方法二\n"
   ]
  },
  {
   "cell_type": "code",
   "execution_count": 11,
   "metadata": {},
   "outputs": [
    {
     "name": "stdout",
     "output_type": "stream",
     "text": [
      "hell你好World\n"
     ]
    }
   ],
   "source": [
    "s = 'helloWorld'\n",
    "\n",
    "# 字符串替换\n",
    "new_s = s.replace('o','你好',1)\n",
    "print(new_s)"
   ]
  },
  {
   "cell_type": "code",
   "execution_count": 15,
   "metadata": {},
   "outputs": [
    {
     "name": "stdout",
     "output_type": "stream",
     "text": [
      "--------------------\n",
      "     helloWorld     \n",
      "*****helloWorld*****\n"
     ]
    }
   ],
   "source": [
    "# 字符串在指定的宽度范围中居中\n",
    "print('-'*20)\n",
    "\n",
    "\n",
    "print(s.center(20))\n",
    "print(s.center(20,'*'))\n"
   ]
  },
  {
   "cell_type": "code",
   "execution_count": 17,
   "metadata": {},
   "outputs": [
    {
     "name": "stdout",
     "output_type": "stream",
     "text": [
      "Hello     World\n",
      "Hello     World     \n",
      "     Hello     World\n"
     ]
    }
   ],
   "source": [
    "# 去掉字符串左右空格\n",
    "s='     Hello     World     '\n",
    "print(s.strip())\n",
    "print(s.lstrip())\n",
    "print(s.rstrip())\n",
    "\n"
   ]
  },
  {
   "cell_type": "code",
   "execution_count": 20,
   "metadata": {},
   "outputs": [
    {
     "name": "stdout",
     "output_type": "stream",
     "text": [
      "-Hellowor\n",
      "-Helloworld\n",
      "dl-Hellowor\n"
     ]
    }
   ],
   "source": [
    "# 去掉指定的字符\n",
    "s3='dl-Helloworld'\n",
    "print(s3.strip('ld'))  # 与顺序无关\n",
    "print(s3.lstrip('ld'))\n",
    "print(s3.rstrip('ld'))\n",
    "\n",
    "\n"
   ]
  },
  {
   "cell_type": "markdown",
   "metadata": {},
   "source": [
    "# 格式化字符串\n"
   ]
  },
  {
   "cell_type": "code",
   "execution_count": 29,
   "metadata": {},
   "outputs": [
    {
     "name": "stdout",
     "output_type": "stream",
     "text": [
      "name:yunxizhou,age:18,score:98.500000\n",
      "name:yunxizhou,age:18,score:98.5\n"
     ]
    }
   ],
   "source": [
    "# 1. 使用占位符进行格式化\n",
    "\n",
    "name='yunxizhou'\n",
    "age=18\n",
    "score=98.5\n",
    "print('name:%s,age:%d,score:%f' % (name, age, score))\n",
    "print('name:%s,age:%d,score:%.1f' % (name, age, score))\n",
    "\n",
    "\n"
   ]
  },
  {
   "cell_type": "code",
   "execution_count": 24,
   "metadata": {},
   "outputs": [
    {
     "name": "stdout",
     "output_type": "stream",
     "text": [
      "name:yunxizhou,age:18,score:98.5\n"
     ]
    }
   ],
   "source": [
    "# 2. f-string\n",
    "print(f'name:{name},age:{age},score:{score}')"
   ]
  },
  {
   "cell_type": "code",
   "execution_count": 28,
   "metadata": {},
   "outputs": [
    {
     "name": "stdout",
     "output_type": "stream",
     "text": [
      "name:yunxizhou,age:18,score:98.5\n",
      "name:yunxizhou,age:18,score:98.5,\n"
     ]
    }
   ],
   "source": [
    "# 3. 使用字符串的format方法\n",
    "print('name:{0},age:{1},score:{2}'.format(name,age,score))\n",
    "print('name:{2},age:{0},score:{1}'.format(age,score,name))"
   ]
  },
  {
   "cell_type": "markdown",
   "metadata": {},
   "source": [
    "# format格式控制"
   ]
  },
  {
   "cell_type": "code",
   "execution_count": 40,
   "metadata": {},
   "outputs": [
    {
     "name": "stdout",
     "output_type": "stream",
     "text": [
      "helloworld**********\n",
      "**********helloworld\n",
      "*****helloworld*****\n",
      "*****helloworld*****\n",
      "987,654,321\n",
      "987,654,321.7865\n",
      "3.14\n",
      "hello\n",
      "2:110101001,10:425,8:651,16:1a9\n",
      "3.142,3.14E+00,3.14e+00,314.16%\n"
     ]
    }
   ],
   "source": [
    "s='helloworld'\n",
    "print('{0:*<20}'.format(s))\n",
    "print('{0:*>20}'.format(s))\n",
    "print('{0:*^20}'.format(s))\n",
    "\n",
    "# 居中对齐\n",
    "print(s.center(20,'*'))\n",
    "\n",
    "# 千位分隔符\n",
    "print('{0:,}'.format(987654321))\n",
    "print('{0:,}'.format(987654321.7865))\n",
    "\n",
    "# 浮点数小数部分的精度\n",
    "print('{0:.2f}'.format(3.1415926))\n",
    "\n",
    "\n",
    "# 字符串类型，最大显示长度\n",
    "print('{0:.5}'.format('helloworld'))\n",
    "\n",
    "# 整数类型\n",
    "a = 425\n",
    "print('2:{0:b},10:{0:d},8:{0:o},16:{0:x}'.format(a))\n",
    "\n",
    "# 浮点数类型\n",
    "b=3.1415926\n",
    "print('{0:.3f},{0:.2E},{0:.2e},{0:.2%}'.format(b))\n",
    "\n",
    "\n"
   ]
  },
  {
   "cell_type": "markdown",
   "metadata": {},
   "source": [
    "# 字符串编码和解码\n",
    "strict 严格出错报错  \n",
    "  \n",
    "ignore 出错忽略  \n",
    "  \n",
    "replace 出错？替代  \n",
    "  "
   ]
  },
  {
   "cell_type": "code",
   "execution_count": 65,
   "metadata": {},
   "outputs": [
    {
     "name": "stdout",
     "output_type": "stream",
     "text": [
      "b'hello'\n",
      "b'hello'\n",
      "b'\\xff\\xfeh\\x00e\\x00l\\x00l\\x00o\\x00'\n",
      "--------------------------------------------------\n",
      "b'\\xe4\\xbd\\xa0\\xe5\\xa5\\xbd\\xe5\\x91\\x80'\n",
      "b'\\xc4\\xe3\\xba\\xc3\\xd1\\xbd'\n",
      "b'\\xd2\\xae??'\n",
      "--------------------------------------------------\n",
      "你好呀\n",
      "你好呀\n",
      "你好呀\n"
     ]
    }
   ],
   "source": [
    "#encode str->bytes\n",
    "\n",
    "s='hello'\n",
    "s_code=s.encode('utf-8',errors='replace')\n",
    "print(s_code)\n",
    "\n",
    "s_code=s.encode('gbk',errors='replace')\n",
    "print(s_code)\n",
    "\n",
    "s_code=s.encode('utf-16',errors='replace')\n",
    "\n",
    "print(s_code)\n",
    "\n",
    "print('-'*50)\n",
    "\n",
    "\n",
    "#encode str->bytes\n",
    "s='你好呀'\n",
    "s_code=s.encode(errors='replace') # 中文占三个字节 默认utf-8\n",
    "print(s_code)\n",
    "\n",
    "s_code_gbk=s.encode('gbk', errors='replace') # gbk 中文占两个字节\n",
    "print(s_code_gbk)\n",
    "\n",
    "# 编码中出现错误\n",
    "s='耶✌️'\n",
    "s_code_error=s.encode('gbk',errors='ignore')\n",
    "#s_code_error=s.encode('gbk',errors='strict') \n",
    "# UnicodeEncodeError: 'gbk' codec can't encode character '\\u270c' in position 1: illegal multibyte sequence\n",
    "s_code_error=s.encode('gbk',errors='replace')\n",
    "print(s_code_error)\n",
    "\n",
    "print('-'*50)\n",
    "\n",
    "# decode bytes->str\n",
    "\n",
    "print(bytes.decode(s_code_gbk,'gbk'))\n",
    "print(bytes.decode(s_code,'utf-8'))\n",
    "print(bytes.decode(s_code)) # 默认\n",
    "\n",
    "\n"
   ]
  },
  {
   "cell_type": "markdown",
   "metadata": {},
   "source": [
    "# 数据的验证"
   ]
  },
  {
   "cell_type": "code",
   "execution_count": 21,
   "metadata": {},
   "outputs": [
    {
     "name": "stdout",
     "output_type": "stream",
     "text": [
      "True\n",
      "False\n",
      "False\n",
      "False\n"
     ]
    }
   ],
   "source": [
    "# 十进制的阿拉伯数字\n",
    "print('123'.isdigit())\n",
    "print('一二三'.isdigit())\n",
    "print('0b1010'.isdigit())\n",
    "print('假装罗马数字'.isdigit()) # False\n"
   ]
  },
  {
   "cell_type": "code",
   "execution_count": 10,
   "metadata": {},
   "outputs": [
    {
     "name": "stdout",
     "output_type": "stream",
     "text": [
      "True\n",
      "True\n",
      "False\n",
      "False\n",
      "True\n"
     ]
    }
   ],
   "source": [
    "# 所有字符都是数字\n",
    "print('123'.isnumeric())\n",
    "print('一二三'.isnumeric())\n",
    "print('0b1010'.isnumeric())\n",
    "print('假装罗马数字'.isnumeric()) # True\n",
    "print('壹贰叁'.isnumeric())\n"
   ]
  },
  {
   "cell_type": "code",
   "execution_count": 11,
   "metadata": {},
   "outputs": [
    {
     "name": "stdout",
     "output_type": "stream",
     "text": [
      "True\n",
      "False\n",
      "True\n",
      "True\n",
      "True\n"
     ]
    }
   ],
   "source": [
    "# 所有字符都是字母 中文也是\n",
    "print('hello你好'.isalpha())\n",
    "print('hello你好123'.isalpha())\n",
    "print('hello你好一二三'.isalpha())\n",
    "print('hello你好假装罗马数字'.isalpha()) # False\n",
    "print('hello你好壹贰叁'.isalpha())"
   ]
  },
  {
   "cell_type": "code",
   "execution_count": 3,
   "metadata": {},
   "outputs": [
    {
     "name": "stdout",
     "output_type": "stream",
     "text": [
      "False\n",
      "True\n",
      "True\n",
      "True\n",
      "True\n"
     ]
    }
   ],
   "source": [
    "# 所有字符都是数字或字母\n",
    "print('Hello你好'.isalnum())\n",
    "print('hello你好123'.isalnum())\n",
    "print('hello你好一二三'.isalnum())\n",
    "print('hello你好假装罗马数字'.isalnum()) # True\n",
    "print('hello你好壹贰叁'.isalnum())"
   ]
  },
  {
   "cell_type": "code",
   "execution_count": 13,
   "metadata": {},
   "outputs": [
    {
     "name": "stdout",
     "output_type": "stream",
     "text": [
      "False\n",
      "True\n",
      "True\n"
     ]
    }
   ],
   "source": [
    "# 判断字符大小写\n",
    "\n",
    "#小写\n",
    "\n",
    "print('HelloWorld'.islower())\n",
    "print('helloworld'.islower())\n",
    "print('hello你好'.islower())"
   ]
  },
  {
   "cell_type": "code",
   "execution_count": 14,
   "metadata": {},
   "outputs": [
    {
     "name": "stdout",
     "output_type": "stream",
     "text": [
      "False\n",
      "True\n",
      "True\n"
     ]
    }
   ],
   "source": [
    "# 大写\n",
    "\n",
    "print('HelloWorld'.isupper())\n",
    "print('HELLOWORLD'.isupper())\n",
    "print('HELLO你好'.isupper())"
   ]
  },
  {
   "cell_type": "code",
   "execution_count": 19,
   "metadata": {},
   "outputs": [
    {
     "name": "stdout",
     "output_type": "stream",
     "text": [
      "True\n",
      "False\n",
      "True\n",
      "True\n",
      "False\n"
     ]
    }
   ],
   "source": [
    "# 所有字符都是首字母大写\n",
    "\n",
    "print('Hello'.istitle())\n",
    "print('HelloWorld'.istitle())\n",
    "print('Helloworld'.istitle())\n",
    "print('Hello World'.istitle())\n",
    "print('Hello world'.istitle())\n",
    "\n"
   ]
  },
  {
   "cell_type": "code",
   "execution_count": 20,
   "metadata": {},
   "outputs": [
    {
     "name": "stdout",
     "output_type": "stream",
     "text": [
      "True\n",
      "True\n",
      "True\n"
     ]
    }
   ],
   "source": [
    "# 是否都是空白字符\n",
    "print('\\t'.isspace())\n",
    "print(' '.isspace())\n",
    "print('\\n'.isspace())\n"
   ]
  },
  {
   "cell_type": "markdown",
   "metadata": {},
   "source": [
    "# 字符串的拼接"
   ]
  },
  {
   "cell_type": "code",
   "execution_count": 32,
   "metadata": {},
   "outputs": [
    {
     "name": "stdout",
     "output_type": "stream",
     "text": [
      "helloworld\n",
      "hello world\n",
      "hello*world*java*php\n",
      "hello你好world你好java你好php\n",
      "helloworld\n"
     ]
    }
   ],
   "source": [
    "s1='hello'\n",
    "s2='world'\n",
    "\n",
    "# 1. +\n",
    "print(s1+s2)\n",
    "\n",
    "# 2. join()\n",
    "print(' '.join([s1,s2]))\n",
    "\n",
    "print('*'.join(['hello','world','java','php']))\n",
    "print('你好'.join(['hello','world','java','php']))\n",
    "\n",
    "# 3. 直接拼接\n",
    "print('hello''world')\n",
    "\n"
   ]
  },
  {
   "cell_type": "code",
   "execution_count": 31,
   "metadata": {},
   "outputs": [
    {
     "name": "stdout",
     "output_type": "stream",
     "text": [
      "helloworld\n",
      "helloworld\n",
      "helloworld\n"
     ]
    }
   ],
   "source": [
    "# 4. 使用格式化字符串进行拼接\n",
    "print('%s%s' % (s1,s2))\n",
    "print(f'{s1}{s2}')\n",
    "print('{0}{1}'.format(s1,s2))"
   ]
  },
  {
   "cell_type": "markdown",
   "metadata": {},
   "source": [
    "# 字符串去重操作"
   ]
  },
  {
   "cell_type": "code",
   "execution_count": 37,
   "metadata": {},
   "outputs": [
    {
     "name": "stdout",
     "output_type": "stream",
     "text": [
      "helowrdfa\n"
     ]
    }
   ],
   "source": [
    "s='helloworldhelloworldhelloworldllffeeeea'\n",
    "\n",
    "# 1. 字符串拼接及not in\n",
    "new_s=''\n",
    "for item in s:\n",
    "    if item not in new_s:\n",
    "        new_s += item\n",
    "print(new_s)\n",
    "\n",
    "     "
   ]
  },
  {
   "cell_type": "code",
   "execution_count": 36,
   "metadata": {},
   "outputs": [
    {
     "name": "stdout",
     "output_type": "stream",
     "text": [
      "helowrdfa\n"
     ]
    }
   ],
   "source": [
    "s='helloworldhelloworldhelloworldllffeeeea'\n",
    "\n",
    "# 2. 索引+ not in\n",
    "new_s2=''\n",
    "for i in range(len(s)):\n",
    "    if s[i] not in new_s2:\n",
    "        new_s2+=s[i]\n",
    "print(new_s2)"
   ]
  },
  {
   "cell_type": "code",
   "execution_count": 41,
   "metadata": {},
   "outputs": [
    {
     "name": "stdout",
     "output_type": "stream",
     "text": [
      "{'o', 'f', 'w', 'd', 'e', 'l', 'a', 'h', 'r'}\n",
      "<built-in method index of str object at 0x106637450>\n",
      "helowrdfa\n"
     ]
    }
   ],
   "source": [
    "s='helloworldhelloworldhelloworldllffeeeea'\n",
    "\n",
    "# 3.集合去重+列表排序\n",
    "new_s3=set(s)\n",
    "print(new_s3)\n",
    "lst=list(new_s3)\n",
    "lst.sort(key=s.index)\n",
    "print(''.join(lst))"
   ]
  },
  {
   "cell_type": "markdown",
   "metadata": {},
   "source": [
    "# 正则表达式\n",
    "\n",
    "'^' and \"$' 表示匹配开始结束  \n",
    "  \n",
    ".  -> 匹配任意字符 除了\\n  e.g: 'p\\nytho\\tn' output: p,y,t,h,o,\\t,n  \n",
    "  \n",
    "\\w -> 匹配字母，数字，下划线  \n",
    "  \n",
    "\\W -> 匹配非字母，数字，下划线  e.g: 'python\\n123' output: \\n  \n",
    "  \n",
    "\\s -> 匹配任意空白字符  e.g: 'python\\t123' output: \\t  \n",
    "  \n",
    "\\S -> 匹配任意非空白字符  \n",
    "  \n",
    "\\d -> 匹配任意十进制数  \n"
   ]
  },
  {
   "cell_type": "markdown",
   "metadata": {},
   "source": [
    "# 限定符\n",
    "\n",
    "? -> 匹配前面的字符0次或1次  \n",
    "  \n",
    "'+' -> 匹配前面的字符1次或多次  \n",
    "  \n",
    "'*' -> 匹配前面的字符0次或多次  \n",
    "  \n",
    "{n} -> 匹配前面的字符n次\n",
    "  \n",
    "{n,} -> 匹配前面的字符至少n次  \n",
    "  \n",
    "{n,m} -> 匹配前面的字符至少n次,至多m次    \n"
   ]
  },
  {
   "cell_type": "markdown",
   "metadata": {},
   "source": [
    "# 其他字符\n",
    "区间字符[] 匹配区间内指定的字符 e.g. [.?!] and [0-9]  0-9的字符  \n",
    "  \n",
    "排除字符^ 匹配不在[]中的指定字符 e.g. [^0-9]  除0-9的字符  \n",
    "  \n",
    "选择字符| 用于匹配|左右的任意字符 e.g. \\d{18}|\\d{15} 匹配十八位十进制数或者十五位十进制数  \n",
    "  \n",
    "转义字符 同Python中的转义字符 e.g. \\ . 将.作为普通字符使用  \n",
    "  \n",
    "[u4e00-\\u9fa5] 匹配任意一个汉字  \n",
    "  \n",
    "分组() 改变限定符的作用 e.g. six|fourth 匹配six or fourth, (six|four)th 匹配sixth or fourth  \n",
    "\n"
   ]
  },
  {
   "cell_type": "markdown",
   "metadata": {},
   "source": [
    "# match函数的使用\n",
    "  \n",
    "re.match(pattern,string,flags=0)  "
   ]
  },
  {
   "cell_type": "code",
   "execution_count": 27,
   "metadata": {},
   "outputs": [
    {
     "name": "stdout",
     "output_type": "stream",
     "text": [
      "None\n",
      "<re.Match object; span=(0, 4), match='3.11'>\n",
      "匹配值的开始区间 0\n",
      "匹配值的结束区间 4\n",
      "匹配区间的位置元素 (0, 4)\n",
      "待匹配的字符串 3.11Python I study everyday\n",
      "匹配的数据 3.11\n"
     ]
    }
   ],
   "source": [
    "import re # 导入\n",
    "pattern = '\\d.\\d+' # +限定符， \\d限定符出现1次或者多次\n",
    "s='I study python3.11 every day'  # 待匹配字符串\n",
    "match=re.match(pattern,s,re.I)\n",
    "print(match)\n",
    "\n",
    "s2='3.11Python I study everyday'\n",
    "match2=re.match(pattern,s2)\n",
    "print(match2)\n",
    "\n",
    "print('匹配值的开始区间',match2.start())\n",
    "print('匹配值的结束区间',match2.end())\n",
    "print('匹配区间的位置元素',match2.span())\n",
    "print('待匹配的字符串',match2.string)\n",
    "print('匹配的数据',match2.group())\n",
    "\n"
   ]
  },
  {
   "cell_type": "markdown",
   "metadata": {},
   "source": [
    "# search函数的使用  \n",
    "  \n",
    "re.search(pattern,string,flags=0)  "
   ]
  },
  {
   "cell_type": "code",
   "execution_count": 17,
   "metadata": {},
   "outputs": [
    {
     "name": "stdout",
     "output_type": "stream",
     "text": [
      "<re.Match object; span=(15, 19), match='3.11'>\n",
      "<re.Match object; span=(0, 4), match='4.10'>\n",
      "None\n",
      "3.11\n",
      "4.10\n"
     ]
    }
   ],
   "source": [
    "import re\n",
    "pattern='\\d.\\d+'\n",
    "s='I study Python 3.11 every day Python 2.7 I love you'\n",
    "match=re.search(pattern,s)\n",
    "print(match)\n",
    "\n",
    "\n",
    "s2='4.10 Python I study every day'\n",
    "s3='Python I study every day'\n",
    "\n",
    "match2=re.search(pattern,s2)\n",
    "match3=re.search(pattern,s3)\n",
    "\n",
    "print(match2)\n",
    "print(match3)\n",
    "\n",
    "print(match.group())\n",
    "print(match2.group())\n",
    "#print(match3.group())  AttributeError: 'NoneType' object has no attribute 'group'"
   ]
  },
  {
   "cell_type": "markdown",
   "metadata": {},
   "source": [
    "# findall函数的使用  \n",
    "  \n",
    "re.findall(pattern,string,flags=0)"
   ]
  },
  {
   "cell_type": "code",
   "execution_count": 19,
   "metadata": {},
   "outputs": [
    {
     "name": "stdout",
     "output_type": "stream",
     "text": [
      "['3.11', '2.7']\n",
      "['4.10']\n",
      "[]\n"
     ]
    }
   ],
   "source": [
    "import re\n",
    "pattern='\\d.\\d+'\n",
    "\n",
    "s='I study Python 3.11 every day Python 2.7 I love you'\n",
    "s2='4.10 Python I study every day'\n",
    "s3='Python I study every day'\n",
    "\n",
    "\n",
    "lst=re.findall(pattern,s)\n",
    "lst2=re.findall(pattern,s2)\n",
    "lst3=re.findall(pattern,s3)\n",
    "\n",
    "print(lst)\n",
    "print(lst2)\n",
    "print(lst3)\n"
   ]
  },
  {
   "cell_type": "markdown",
   "metadata": {},
   "source": [
    "# sub函数与split函数的使用  \n",
    "  \n",
    "re.sub(pattern,repl,string,count,flags=0)  \n",
    "  \n",
    "re.split(pattern,string,maxsplit,flags=0)  \n"
   ]
  },
  {
   "cell_type": "code",
   "execution_count": 24,
   "metadata": {},
   "outputs": [
    {
     "name": "stdout",
     "output_type": "stream",
     "text": [
      "我学Python,想XX一些VIP视频请问可以实现无底线XX吗\n",
      "['http://www.baidu.com/s', 'wd=ysj', 'rsv_spt=1']\n"
     ]
    }
   ],
   "source": [
    "import re\n",
    "pattern='黑客|破解|反爬'\n",
    "s='我学Python,想破解一些VIP视频请问可以实现无底线反爬吗'\n",
    "new_s=re.sub(pattern,'XX',s)\n",
    "print(new_s)\n",
    "\n",
    "s2='http://www.baidu.com/s?wd=ysj&rsv_spt=1'\n",
    "pattern2='[?|&]'\n",
    "lst=re.split(pattern2,s2)\n",
    "print(lst)"
   ]
  },
  {
   "cell_type": "markdown",
   "metadata": {},
   "source": [
    "# --------------------------------------------------------------------------\n"
   ]
  },
  {
   "cell_type": "markdown",
   "metadata": {},
   "source": [
    "# 车牌归属地  \n",
    "  \n",
    "需求: 使用列表存储N个车牌号码,通过遍历列表及字符串的切片操作判断车牌的归属于地  "
   ]
  },
  {
   "cell_type": "code",
   "execution_count": 6,
   "metadata": {},
   "outputs": [
    {
     "name": "stdout",
     "output_type": "stream",
     "text": [
      "京A8888 归属地: 京\n",
      "津B66666 归属地: 津\n",
      "吉A77766 归属地: 吉\n"
     ]
    }
   ],
   "source": [
    "import re\n",
    "\n",
    "pattern='[u4e00-\\u9fa5]'\n",
    "lst=['京A8888','津B66666','吉A77766']\n",
    "\n",
    "\n",
    "for item in lst:\n",
    "    match=re.match(pattern,item)\n",
    "    print(item,'归属地:',match.group())\n",
    "        "
   ]
  },
  {
   "cell_type": "code",
   "execution_count": 7,
   "metadata": {},
   "outputs": [
    {
     "name": "stdout",
     "output_type": "stream",
     "text": [
      "京A8888 归属地: 京\n",
      "津B66666 归属地: 津\n",
      "吉A77766 归属地: 吉\n"
     ]
    }
   ],
   "source": [
    "lst=['京A8888','津B66666','吉A77766']\n",
    "\n",
    "for item in lst:\n",
    "    area=item[0:1]\n",
    "    print(item,'归属地:',area)\n"
   ]
  },
  {
   "cell_type": "markdown",
   "metadata": {},
   "source": [
    "# 统计字符串中出现指定字符的意义\n",
    "  \n",
    "声明一个字符串，内容为'HelloPython,HelloJava,hellophp'  \n",
    "  \n",
    "用户从键盘录入要查询的字符，无大小写，统计要查询的字符在字符串中出现的次数  \n"
   ]
  },
  {
   "cell_type": "code",
   "execution_count": 37,
   "metadata": {},
   "outputs": [
    {
     "name": "stdout",
     "output_type": "stream",
     "text": [
      "x does not exits in string, u still have 2 times\n",
      "c does not exits in string, u still have 1 times\n",
      "h in HelloPython,HelloJava,hellophp count: 5\n"
     ]
    }
   ],
   "source": [
    "s='HelloPython,HelloJava,hellophp'\n",
    "\n",
    "i = 0\n",
    "\n",
    "while True:\n",
    "\n",
    "    letter=input('please give a letter u want to check:')\n",
    "\n",
    "    if s.lower().find(letter.lower()) != -1:\n",
    "        print('{0} in {1} count: {2}'.format(letter,s,s.lower().count(letter.lower())))\n",
    "        break\n",
    "\n",
    "\n",
    "\n",
    "    else:\n",
    "\n",
    "        i+=1\n",
    "\n",
    "        \n",
    "        \n",
    "        print('{1} does not exits in string, u still have {0} times'.format(3-i,letter))\n",
    "        if i == 3:\n",
    "            print('u have used 3 times,sorry')\n",
    "            break\n",
    "    \n",
    "    \n",
    "\n",
    "        \n",
    "\n",
    "    "
   ]
  },
  {
   "cell_type": "markdown",
   "metadata": {},
   "source": [
    "# 格式化输出商品的名称和单价\n",
    "\n",
    "使用列表存储一些商品数据，使用循环遍历输出商品信息，要求对商品的编号进行格式化为6位，  \n",
    "  \n",
    "保留2位小数，并在前面添加人民币符号输出"
   ]
  },
  {
   "cell_type": "code",
   "execution_count": 45,
   "metadata": {},
   "outputs": [
    {
     "name": "stdout",
     "output_type": "stream",
     "text": [
      "编号\t名称\tbrand\tprice\t\n",
      "01\t电风扇\t美的\t500\t\n",
      "02\t洗衣机\tTCL\t1000\t\n",
      "03\t微波炉\t老板\t400\t\n",
      "编号\t名称\tbrand\tprice\t\n",
      "0000001\t电风扇\t美的\t¥500.00\t\n",
      "0000002\t洗衣机\tTCL\t¥1000.00\t\n",
      "0000003\t微波炉\t老板\t¥400.00\t\n"
     ]
    }
   ],
   "source": [
    "items=[\n",
    "    ['编号','名称','brand','price'],\n",
    "    ['01','电风扇','美的',500],\n",
    "    ['02','洗衣机','TCL',1000],\n",
    "    ['03','微波炉','老板',400],\n",
    "]\n",
    "\n",
    "\n",
    "for row in items:\n",
    "    for i in row:\n",
    "        print(i,end='\\t')\n",
    "    print()\n",
    "\n",
    "for row in items:\n",
    "    for i in row:\n",
    "        if type(i)==str:\n",
    "            if i.isdigit():\n",
    "                i = '00000{0}'.format(i)\n",
    "            if i.isalpha():\n",
    "                pass\n",
    "        if type(i)==int:\n",
    "            i='¥{0:.2f}'.format(i)\n",
    "        print(i,end='\\t')\n",
    "    print()\n",
    "        \n",
    "        "
   ]
  },
  {
   "cell_type": "markdown",
   "metadata": {},
   "source": [
    "# 提取文本中所有图片的链接地址\n",
    "  \n",
    "从给定的文本中使用正则表达式提取出所有的图片链接地址"
   ]
  },
  {
   "cell_type": "code",
   "execution_count": 48,
   "metadata": {},
   "outputs": [
    {
     "name": "stdout",
     "output_type": "stream",
     "text": [
      "http://img1.baidu.com/it/u=8457825728,3432423546786&fm=26&fmt=auto\n",
      "http://img1.baidu.com/it/u=8457825728,3432423546786&fm=26&fmt=auto\n",
      "http://img1.baidu.com/it/u=8457825728,3432423546786&fm=26&fmt=auto\n",
      "http://img1.baidu.com/it/u=8457825728,3432423546786&fm=26&fmt=auto\n"
     ]
    }
   ],
   "source": [
    "import re\n",
    "\n",
    "s ='http://img1.baidu.com/it/u=8457825728,3432423546786&fm=26&fmt=autohttp://img1.baidu.com/it/u=8457825728,3432423546786&fm=26&fmt=autohttp://img1.baidu.com/it/u=8457825728,3432423546786&fm=26&fmt=autohttp://img1.baidu.com/it/u=8457825728,3432423546786&fm=26&fmt=auto'\n",
    "\n",
    "\n",
    "pattern='http://img\\d{1}.baidu.com/it/u=\\d*,\\d*&fm=\\d*&fmt=auto'\n",
    "\n",
    "lst=re.findall(pattern,s)\n",
    "\n",
    "for i in lst:\n",
    "    print(i)"
   ]
  }
 ],
 "metadata": {
  "kernelspec": {
   "display_name": "Python 3",
   "language": "python",
   "name": "python3"
  },
  "language_info": {
   "codemirror_mode": {
    "name": "ipython",
    "version": 3
   },
   "file_extension": ".py",
   "mimetype": "text/x-python",
   "name": "python",
   "nbconvert_exporter": "python",
   "pygments_lexer": "ipython3",
   "version": "3.9.6"
  }
 },
 "nbformat": 4,
 "nbformat_minor": 2
}
