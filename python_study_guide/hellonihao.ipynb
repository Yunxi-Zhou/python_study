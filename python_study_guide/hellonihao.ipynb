{
 "cells": [
  {
   "cell_type": "code",
   "execution_count": null,
   "metadata": {
    "vscode": {
     "languageId": "cpp"
    }
   },
   "outputs": [
    {
     "ename": "",
     "evalue": "",
     "output_type": "error",
     "traceback": [
      "\u001b[1;31m无法启动 Kernel。 \n",
      "\u001b[1;31mregistering handler for SIGSEGV\n",
      "\u001b[1;31mIn file included from input_line_1:1:\n",
      "\u001b[1;31mIn file included from /Users/xianhuiliu/ENTER/envs/cling-env/bin/../include/c++/v1/new:93:\n",
      "\u001b[1;31mIn file included from /Users/xianhuiliu/ENTER/envs/cling-env/bin/../include/c++/v1/__type_traits/alignment_of.h:14:\n",
      "\u001b[1;31m/Users/xianhuiliu/ENTER/envs/cling-env/bin/../include/c++/v1/cstddef:60:9: error: no member named 'ptrdiff_t' in the global namespace\n",
      "\u001b[1;31musing ::ptrdiff_t _LIBCPP_USING_IF_EXISTS;\n",
      "\u001b[1;31m      ~~^\n",
      "\u001b[1;31m/Users/xianhuiliu/ENTER/envs/cling-env/bin/../include/c++/v1/cstddef:61:9: error: no member named 'size_t' in the global namespace\n",
      "\u001b[1;31musing ::size_t _LIBCPP_USING_IF_EXISTS;\n",
      "\u001b[1;31m      ~~^\n",
      "\u001b[1;31m/Users/xianhuiliu/ENTER/envs/cling-env/bin/../include/c++/v1/cstddef:64:9: error: no member named 'max_align_t' in the global namespace\n",
      "\u001b[1;31musing ::max_align_t _LIBCPP_USING_IF_EXISTS;\n",
      "\u001b[1;31m      ~~^\n",
      "\u001b[1;31mIn file included from input_line_1:1:\n",
      "\u001b[1;31mIn file included from /Users/xianhuiliu/ENTER/envs/cling-env/bin/../include/c++/v1/new:93:\n",
      "\u001b[1;31m/Users/xianhuiliu/ENTER/envs/cling-env/bin/../include/c++/v1/__type_traits/alignment_of.h:23:69: error: use of undeclared identifier 'size_t'; did you mean 'sizeof'?\n",
      "\u001b[1;31mstruct _LIBCPP_TEMPLATE_VIS alignment_of : public integral_constant<size_t, _LIBCPP_ALIGNOF(_Tp)> {};\n",
      "\u001b[1;31m                                                                    ^\n",
      "\u001b[1;31m/Users/xianhuiliu/ENTER/envs/cling-env/bin/../include/c++/v1/__type_traits/alignment_of.h:23:75: error: expected expression\n",
      "\u001b[1;31mstruct _LIBCPP_TEMPLATE_VIS alignment_of : public integral_constant<size_t, _LIBCPP_ALIGNOF(_Tp)> {};\n",
      "\u001b[1;31m                                                                          ^\n",
      "\u001b[1;31m/Users/xianhuiliu/ENTER/envs/cling-env/bin/../include/c++/v1/__type_traits/alignment_of.h:27:18: error: unknown type name 'size_t'\n",
      "\u001b[1;31minline constexpr size_t alignment_of_v = _LIBCPP_ALIGNOF(_Tp);\n",
      "\u001b[1;31m                 ^\n",
      "\u001b[1;31mIn file included from input_line_1:1:\n",
      "\u001b[1;31mIn file included from /Users/xianhuiliu/ENTER/envs/cling-env/bin/../include/c++/v1/new:99:\n",
      "\u001b[1;31mIn file included from /Users/xianhuiliu/ENTER/envs/cling-env/bin/../include/c++/v1/cstdlib:87:\n",
      "\u001b[1;31m/Users/xianhuiliu/ENTER/envs/cling-env/bin/../include/c++/v1/stdlib.h:148:34: error: unknown type name 'ldiv_t'\n",
      "\u001b[1;31minline _LIBCPP_INLINE_VISIBILITY ldiv_t div(long __x, long __y) _NOEXCEPT {\n",
      "\u001b[1;31m                                 ^\n",
      "\u001b[1;31m/Users/xianhuiliu/ENTER/envs/cling-env/bin/../include/c++/v1/stdlib.h:149:12: error: no member named 'ldiv' in the global namespace\n",
      "\u001b[1;31m  return ::ldiv(__x, __y);\n",
      "\u001b[1;31m         ~~^\n",
      "\u001b[1;31m/Users/xianhuiliu/ENTER/envs/cling-env/bin/../include/c++/v1/stdlib.h:152:34: error: unknown type name 'lldiv_t'\n",
      "\u001b[1;31minline _LIBCPP_INLINE_VISIBILITY lldiv_t div(long long __x,\n",
      "\u001b[1;31m                                 ^\n",
      "\u001b[1;31m/Users/xianhuiliu/ENTER/envs/cling-env/bin/../include/c++/v1/stdlib.h:154:12: error: no member named 'lldiv' in the global namespace\n",
      "\u001b[1;31m  return ::lldiv(__x, __y);\n",
      "\u001b[1;31m         ~~^\n",
      "\u001b[1;31mIn file included from input_line_1:1:\n",
      "\u001b[1;31mIn file included from /Users/xianhuiliu/ENTER/envs/cling-env/bin/../include/c++/v1/new:99:\n",
      "\u001b[1;31m/Users/xianhuiliu/ENTER/envs/cling-env/bin/../include/c++/v1/cstdlib:103:9: error: no member named 'size_t' in the global namespace\n",
      "\u001b[1;31musing ::size_t _LIBCPP_USING_IF_EXISTS;\n",
      "\u001b[1;31m      ~~^\n",
      "\u001b[1;31m/Users/xianhuiliu/ENTER/envs/cling-env/bin/../include/c++/v1/cstdlib:104:9: error: no member named 'div_t' in the global namespace\n",
      "\u001b[1;31musing ::div_t _LIBCPP_USING_IF_EXISTS;\n",
      "\u001b[1;31m      ~~^\n",
      "\u001b[1;31m/Users/xianhuiliu/ENTER/envs/cling-env/bin/../include/c++/v1/cstdlib:105:9: error: no member named 'ldiv_t' in the global namespace\n",
      "\u001b[1;31musing ::ldiv_t _LIBCPP_USING_IF_EXISTS;\n",
      "\u001b[1;31m      ~~^\n",
      "\u001b[1;31m/Users/xianhuiliu/ENTER/envs/cling-env/bin/../include/c++/v1/cstdlib:106:9: error: no member named 'lldiv_t' in the global namespace\n",
      "\u001b[1;31musing ::lldiv_t _LIBCPP_USING_IF_EXISTS;\n",
      "\u001b[1;31m      ~~^\n",
      "\u001b[1;31m/Users/xianhuiliu/ENTER/envs/cling-env/bin/../include/c++/v1/cstdlib:107:9: error: no member named 'atof' in the global namespace\n",
      "\u001b[1;31musing ::atof _LIBCPP_USING_IF_EXISTS;\n",
      "\u001b[1;31m      ~~^\n",
      "\u001b[1;31m/Users/xianhuiliu/ENTER/envs/cling-env/bin/../include/c++/v1/cstdlib:108:9: error: no member named 'atoi' in the global namespace\n",
      "\u001b[1;31musing ::atoi _LIBCPP_USING_IF_EXISTS;\n",
      "\u001b[1;31m      ~~^\n",
      "\u001b[1;31m/Users/xianhuiliu/ENTER/envs/cling-env/bin/../include/c++/v1/cstdlib:109:9: error: no member named 'atol' in the global namespace\n",
      "\u001b[1;31musing ::atol _LIBCPP_USING_IF_EXISTS;\n",
      "\u001b[1;31m      ~~^\n",
      "\u001b[1;31m/Users/xianhuiliu/ENTER/envs/cling-env/bin/../include/c++/v1/cstdlib:110:9: error: no member named 'atoll' in the global namespace\n",
      "\u001b[1;31musing ::atoll _LIBCPP_USING_IF_EXISTS;\n",
      "\u001b[1;31m      ~~^\n",
      "\u001b[1;31m/Users/xianhuiliu/ENTER/envs/cling-env/bin/../include/c++/v1/cstdlib:111:9: error: no member named 'strtod' in the global namespace\n",
      "\u001b[1;31musing ::strtod _LIBCPP_USING_IF_EXISTS;\n",
      "\u001b[1;31m      ~~^\n",
      "\u001b[1;31mfatal error: too many errors emitted, stopping now [-ferror-limit=]\n",
      "\u001b[1;31mReplaced symbol atexit cannot be found in JIT!\n",
      "\u001b[1;31mReplaced symbol at_quick_exit cannot be found in JIT!\n",
      "\u001b[1;31mError: signal 11:\n",
      "\u001b[1;31m0   xcpp                                0x00000001001cb8e1 _Z7handleri + 33\n",
      "\u001b[1;31m1   libsystem_platform.dylib            0x00007ff80f5985ed _sigtramp + 29\n",
      "\u001b[1;31m2   ???                                 0x000000000000000d 0x0 + 13\n",
      "\u001b[1;31m3   libxeus-cling.0.15.0.dylib          0x000000010aaf8a01 _ZN5clang19RecursiveASTVisitorIN12_GLOBAL__N_120PointerCheckInjectorEE12TraverseStmtEPNS_4StmtEPN4llvm15SmallVectorImplINS6_14PointerIntPairIS5_Lj1EbNS6_21PointerLikeTypeTraitsIS5_EENS6_18PointerIntPairInfoIS5_Lj1ESA_EEEEEE + 1137\n",
      "\u001b[1;31m4   libxeus-cling.0.15.0.dylib          0x000000010ab0edb7 _ZN5clang19RecursiveASTVisitorIN12_GLOBAL__N_120PointerCheckInjectorEE22TraverseFunctionHelperEPNS_12FunctionDeclE + 567\n",
      "\u001b[1;31m5   libxeus-cling.0.15.0.dylib          0x000000010aaf39a6 _ZN5clang19RecursiveASTVisitorIN12_GLOBAL__N_120PointerCheckInjectorEE12TraverseDeclEPNS_4DeclE + 934\n",
      "\u001b[1;31m6   libxeus-cling.0.15.0.dylib          0x000000010aaf7ddb _ZN5clang19RecursiveASTVisitorIN12_GLOBAL__N_120PointerCheckInjectorEE25TraverseDeclContextHelperEPNS_11DeclContextE + 59\n",
      "\u001b[1;31m7   libxeus-cling.0.15.0.dylib          0x000000010aaf3650 _ZN5clang19RecursiveASTVisitorIN12_GLOBAL__N_120PointerCheckInjectorEE12TraverseDeclEPNS_4DeclE + 80\n",
      "\u001b[1;31m8   libxeus-cling.0.15.0.dylib          0x000000010aaf3585 _ZN5cling30NullDerefProtectionTransformer9TransformEPN5clang4DeclE + 133\n",
      "\u001b[1;31m9   libxeus-cling.0.15.0.dylib          0x000000010aa75379 _ZNK5cling13DeclCollector13TransformDeclEPN5clang4DeclE + 73. \n",
      "\u001b[1;31m有关更多详细信息，请查看 Jupyter <a href='command:jupyter.viewOutput'>log</a>。"
     ]
    }
   ],
   "source": []
  }
 ],
 "metadata": {
  "kernelspec": {
   "display_name": "C++17",
   "language": "C++17",
   "name": "xcpp17"
  },
  "language_info": {
   "name": "C++17"
  }
 },
 "nbformat": 4,
 "nbformat_minor": 2
}
