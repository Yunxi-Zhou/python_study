{
 "cells": [
  {
   "cell_type": "markdown",
   "metadata": {},
   "source": [
    "# 使用索引检索字符串中的元素"
   ]
  },
  {
   "cell_type": "code",
   "execution_count": 3,
   "metadata": {},
   "outputs": [
    {
     "name": "stdout",
     "output_type": "stream",
     "text": [
      "10\n",
      "0 h\t\t1 e\t\t2 l\t\t3 l\t\t4 o\t\t5 w\t\t6 o\t\t7 r\t\t8 l\t\t9 d\t\t"
     ]
    }
   ],
   "source": [
    "# 正向递增\n",
    "\n",
    "s = 'helloworld'\n",
    "print(len(s))  # 元素个数\n",
    "for i in range(0,len(s)):\n",
    "    print(i,s[i],end='\\t\\t')\n"
   ]
  },
  {
   "cell_type": "code",
   "execution_count": 4,
   "metadata": {},
   "outputs": [
    {
     "name": "stdout",
     "output_type": "stream",
     "text": [
      "-10 h\t\t-9 e\t\t-8 l\t\t-7 l\t\t-6 o\t\t-5 w\t\t-4 o\t\t-3 r\t\t-2 l\t\t-1 d\t\t\n",
      " d d\n"
     ]
    }
   ],
   "source": [
    "# 反向递减\n",
    "\n",
    "s = 'helloworld'\n",
    "for i in range(-10,0):\n",
    "    print(i,s[i],end='\\t\\t')\n",
    "\n",
    "print('\\n',s[9],s[-1])\n"
   ]
  },
  {
   "cell_type": "markdown",
   "metadata": {},
   "source": [
    "# 序列的切片操作\n"
   ]
  },
  {
   "cell_type": "code",
   "execution_count": 14,
   "metadata": {},
   "outputs": [
    {
     "name": "stdout",
     "output_type": "stream",
     "text": [
      "hlo\n",
      "hello\n",
      "hello\n",
      "helloworld\n",
      "helloworld\n",
      "world\n",
      "world\n",
      "hlo\n",
      "hlool\n",
      "dlrowolleh\n",
      "dlrowolleh\n"
     ]
    }
   ],
   "source": [
    "s = 'helloworld'\n",
    "s1 = s[0:5:2]\n",
    "print(s1)\n",
    "\n",
    "# 省略开始位置，start从0开始\n",
    "print(s[:5:1])\n",
    "\n",
    "# 省略开始位置，省略步长\n",
    "print(s[:5:])\n",
    "\n",
    "# 省略结束位置，默认到序列的最后一个元素，*包含最后一个元素\n",
    "print(s[0::1])\n",
    "\n",
    "\n",
    "print(s[::])\n",
    "\n",
    "# 省略结束，省略一个步长\n",
    "print(s[5::])\n",
    "print(s[5:])\n",
    "\n",
    "#更改步长\n",
    "print(s[:5:2])\n",
    "\n",
    "# 省略开始位置,结束位置\n",
    "print(s[::2])\n",
    "\n",
    "# 步长为负数\n",
    "\n",
    "print(s[::-1])\n",
    "print(s[-1:-11:-1])\n",
    "\n",
    "\n",
    "\n"
   ]
  },
  {
   "cell_type": "markdown",
   "metadata": {},
   "source": [
    "# 序列的相加和相乘操作"
   ]
  },
  {
   "cell_type": "code",
   "execution_count": 16,
   "metadata": {},
   "outputs": [
    {
     "name": "stdout",
     "output_type": "stream",
     "text": [
      "helloworld\n",
      "hellohellohellohellohello\n",
      "----------------------------------------\n"
     ]
    }
   ],
   "source": [
    "s = 'hello'\n",
    "s2 = 'world'\n",
    "print(s+s2)\n",
    "\n",
    "print(s*5)\n",
    "print('-'*40)"
   ]
  },
  {
   "cell_type": "markdown",
   "metadata": {},
   "source": [
    "# 序列的相关操作符和函数的使用"
   ]
  },
  {
   "cell_type": "code",
   "execution_count": 23,
   "metadata": {},
   "outputs": [
    {
     "name": "stdout",
     "output_type": "stream",
     "text": [
      "True\n",
      "False\n",
      "False\n",
      "True\n",
      "10\n",
      "w\n",
      "d\n",
      "4\n",
      "2\n"
     ]
    }
   ],
   "source": [
    "s = 'helloworld'\n",
    "\n",
    "print('e' in s)\n",
    "print('v' in s)\n",
    "\n",
    "# not in\n",
    "print('e' not in s)\n",
    "print('v' not in s)\n",
    "\n",
    "# 内置函数的使用\n",
    "print(len(s))\n",
    "print(max(s))\n",
    "print(min(s))\n",
    "\n",
    "\n",
    "\n",
    "# 序列对象的方法，使用序列的名称，打点调用\n",
    "print(s.index('o'))  # o 在 s中第一次出现的索引位置\n",
    "#print(s.index('v'))  ValueError: substring not found v在字符串中根本不存在\n",
    "print(s.count('o')) #统计o在字符串s中出现的次数\n",
    "\n"
   ]
  },
  {
   "cell_type": "markdown",
   "metadata": {},
   "source": [
    "# 列表的创建与删除"
   ]
  },
  {
   "cell_type": "code",
   "execution_count": 37,
   "metadata": {},
   "outputs": [
    {
     "name": "stdout",
     "output_type": "stream",
     "text": [
      "['hello', 'world', 98, 100.5]\n",
      "['h', 'e', 'l', 'l', 'o', 'w', 'o', 'r', 'l', 'd']\n",
      "[1, 3, 5, 7, 9]\n",
      "['hello', 'world', 98, 100.5, 'h', 'e', 'l', 'l', 'o', 'w', 'o', 'r', 'l', 'd', 1, 3, 5, 7, 9]\n",
      "['hello', 'world', 98, 100.5, 'hello', 'world', 98, 100.5, 'hello', 'world', 98, 100.5]\n",
      "4\n",
      "9\n",
      "1\n",
      "2\n",
      "4\n"
     ]
    }
   ],
   "source": [
    "\n",
    "# 直接创建\n",
    "lst =['hello', 'world',98,100.5]\n",
    "print(lst)\n",
    "\n",
    "# 内置函数list()创建\n",
    "lst2 = list('helloworld')\n",
    "lst3 = list(range(1,10,2))  # 从1开始到10结束，步长2，不包含10\n",
    "print(lst2)\n",
    "print(lst3)\n",
    "\n",
    "# 列表是序列的一种，对序列的操作符，运算符，函数均可使用\n",
    "\n",
    "print(lst + lst2 + lst3)\n",
    "print(lst*3)\n",
    "print(len(lst))\n",
    "print(max(lst3))\n",
    "print(min(lst3))\n",
    "\n",
    "print(lst2.count('o'))\n",
    "print(lst2.index('o'))\n",
    "\n",
    "\n",
    "\n"
   ]
  },
  {
   "cell_type": "code",
   "execution_count": 32,
   "metadata": {},
   "outputs": [
    {
     "name": "stdout",
     "output_type": "stream",
     "text": [
      "[10, 20, 30]\n"
     ]
    }
   ],
   "source": [
    "# 列表的删除操作\n",
    "lst4 = [10,20,30]\n",
    "print(lst4)\n",
    "del(lst4)\n",
    "#print(lst4) NameError: name 'lst4' is not defined"
   ]
  },
  {
   "cell_type": "markdown",
   "metadata": {},
   "source": [
    "# 列表的遍历操作"
   ]
  },
  {
   "cell_type": "code",
   "execution_count": 44,
   "metadata": {},
   "outputs": [
    {
     "name": "stdout",
     "output_type": "stream",
     "text": [
      "hello\n",
      "world\n",
      "python\n",
      "php\n"
     ]
    }
   ],
   "source": [
    "lst = ['hello', 'world','python','php']\n",
    "\n",
    "# for 循环遍历列表元素\n",
    "for item in lst:\n",
    "    print(item)\n",
    "\n",
    "# "
   ]
  },
  {
   "cell_type": "code",
   "execution_count": 40,
   "metadata": {},
   "outputs": [
    {
     "name": "stdout",
     "output_type": "stream",
     "text": [
      "0 hello\n",
      "1 world\n",
      "2 python\n",
      "3 php\n"
     ]
    }
   ],
   "source": [
    "# for循环，range函数，len函数，根据索引遍历\n",
    "for i in range(0,len(lst)):\n",
    "    print(i,lst[i])"
   ]
  },
  {
   "cell_type": "code",
   "execution_count": 41,
   "metadata": {},
   "outputs": [
    {
     "name": "stdout",
     "output_type": "stream",
     "text": [
      "0 hello\n",
      "1 world\n",
      "2 python\n",
      "3 php\n"
     ]
    }
   ],
   "source": [
    "# 第三种遍历方式，enumerate函数\n",
    "for index,item in enumerate(lst):\n",
    "    print(index,item)   # index是序号，不是索引"
   ]
  },
  {
   "cell_type": "code",
   "execution_count": 43,
   "metadata": {},
   "outputs": [
    {
     "name": "stdout",
     "output_type": "stream",
     "text": [
      "1 hello\n",
      "2 world\n",
      "3 python\n",
      "4 php\n",
      "----------------------------------------\n",
      "1 hello\n",
      "2 world\n",
      "3 python\n",
      "4 php\n"
     ]
    }
   ],
   "source": [
    "# 手动修改序号的起始值\n",
    "for index,item in enumerate(lst,start=1):\n",
    "    print(index,item)\n",
    "print('-'*40)\n",
    "for index,item in enumerate(lst,1): # start可省略\n",
    "    print(index,item)"
   ]
  },
  {
   "cell_type": "markdown",
   "metadata": {},
   "source": [
    "# 列表的相关操作"
   ]
  },
  {
   "cell_type": "code",
   "execution_count": 39,
   "metadata": {},
   "outputs": [
    {
     "name": "stdout",
     "output_type": "stream",
     "text": [
      "['hello', 'world', 'python'] 4351044992\n"
     ]
    }
   ],
   "source": [
    "lst = ['hello', 'world','python']\n",
    "print(lst,id(lst))\n",
    "\n"
   ]
  },
  {
   "cell_type": "code",
   "execution_count": 14,
   "metadata": {},
   "outputs": [
    {
     "name": "stdout",
     "output_type": "stream",
     "text": [
      "['hello', 'world', 'python', 'sql'] 4440393216\n"
     ]
    }
   ],
   "source": [
    "# 增加元素\n",
    "lst.append('sql')\n",
    "print(lst,id(lst))"
   ]
  },
  {
   "cell_type": "code",
   "execution_count": 15,
   "metadata": {},
   "outputs": [
    {
     "name": "stdout",
     "output_type": "stream",
     "text": [
      "['hello', 100, 'world', 'python', 'sql']\n"
     ]
    }
   ],
   "source": [
    "# insert 插入元素\n",
    "lst.insert(1,100)\n",
    "print(lst)"
   ]
  },
  {
   "cell_type": "code",
   "execution_count": 16,
   "metadata": {},
   "outputs": [
    {
     "name": "stdout",
     "output_type": "stream",
     "text": [
      "['hello', 100, 'python', 'sql'] 4440393216\n"
     ]
    }
   ],
   "source": [
    "# 列表元素的删除\n",
    "lst.remove('world')\n",
    "print(lst,id(lst))"
   ]
  },
  {
   "cell_type": "code",
   "execution_count": 17,
   "metadata": {},
   "outputs": [
    {
     "name": "stdout",
     "output_type": "stream",
     "text": [
      "100\n",
      "['hello', 'python', 'sql']\n"
     ]
    }
   ],
   "source": [
    "# pop 索引将元素取出，然后再删除\n",
    "print(lst.pop(1))\n",
    "print(lst)"
   ]
  },
  {
   "cell_type": "code",
   "execution_count": 22,
   "metadata": {},
   "outputs": [
    {
     "name": "stdout",
     "output_type": "stream",
     "text": [
      "['sql', 'mysql', 'hello'] 4440343168\n",
      "[] 4440343168\n"
     ]
    }
   ],
   "source": [
    "#清除所有元素\n",
    "\n",
    "lst2 = lst.copy()\n",
    "print(lst2,id(lst2))\n",
    "lst2.clear()\n",
    "print(lst2,id(lst2))\n"
   ]
  },
  {
   "cell_type": "code",
   "execution_count": 40,
   "metadata": {},
   "outputs": [
    {
     "name": "stdout",
     "output_type": "stream",
     "text": [
      "['python', 'world', 'hello']\n",
      "None\n"
     ]
    }
   ],
   "source": [
    "# 列表的反向\n",
    "lst.reverse()\n",
    "print(lst)\n",
    "print(lst.reverse())"
   ]
  },
  {
   "cell_type": "code",
   "execution_count": 20,
   "metadata": {},
   "outputs": [
    {
     "name": "stdout",
     "output_type": "stream",
     "text": [
      "['sql', 'python', 'hello'] 4440393216\n",
      "['sql', 'python', 'hello'] 4440344704\n"
     ]
    }
   ],
   "source": [
    "# 列表的拷贝，产生新列表\n",
    "new_lst = lst.copy()\n",
    "print(lst,id(lst))\n",
    "print(new_lst,id(new_lst))\n"
   ]
  },
  {
   "cell_type": "code",
   "execution_count": 21,
   "metadata": {},
   "outputs": [
    {
     "name": "stdout",
     "output_type": "stream",
     "text": [
      "['sql', 'mysql', 'hello']\n"
     ]
    }
   ],
   "source": [
    "# 列表元素的修改操作，根据索引修改元素\n",
    "lst[1] = 'mysql'\n",
    "print(lst)"
   ]
  },
  {
   "cell_type": "markdown",
   "metadata": {},
   "source": [
    "# 列表的排序操作\n",
    "lst.sort(key=None, reverse=False)  "
   ]
  },
  {
   "cell_type": "code",
   "execution_count": 26,
   "metadata": {},
   "outputs": [
    {
     "name": "stdout",
     "output_type": "stream",
     "text": [
      "[4, 56, 3, 78, 40, 56, 89]\n",
      "[3, 4, 40, 56, 56, 78, 89]\n",
      "[89, 78, 56, 56, 40, 4, 3]\n"
     ]
    }
   ],
   "source": [
    "lst = [4,56,3,78,40,56,89]\n",
    "print(lst)\n",
    "\n",
    "# 升序\n",
    "lst.sort()  #不会产生新的列表对象\n",
    "print(lst)\n",
    "\n",
    "# 降序\n",
    "lst.sort(reverse=True)\n",
    "print(lst)\n",
    "\n"
   ]
  },
  {
   "cell_type": "code",
   "execution_count": 29,
   "metadata": {},
   "outputs": [
    {
     "name": "stdout",
     "output_type": "stream",
     "text": [
      "['banana', 'apple', 'Cat', 'Orange']\n",
      "['Cat', 'Orange', 'apple', 'banana']\n",
      "['banana', 'apple', 'Orange', 'Cat']\n",
      "['apple', 'banana', 'Cat', 'Orange']\n"
     ]
    }
   ],
   "source": [
    "lst2 = ['banana','apple','Cat','Orange']\n",
    "print(lst2)\n",
    "\n",
    "# 升序，先大写，再小写\n",
    "lst2.sort()\n",
    "print(lst2)\n",
    "\n",
    "# 降序，先小写，再大写\n",
    "lst2.sort(reverse=True)\n",
    "print(lst2)\n",
    "\n",
    "# 忽略大小写比较\n",
    "lst2.sort(key=str.lower)\n",
    "print(lst2)\n"
   ]
  },
  {
   "cell_type": "markdown",
   "metadata": {},
   "source": [
    "# 排序内置函数 sorted\n",
    "\n",
    "sorted(iterable, key = None, reverse = False)"
   ]
  },
  {
   "cell_type": "code",
   "execution_count": 32,
   "metadata": {},
   "outputs": [
    {
     "name": "stdout",
     "output_type": "stream",
     "text": [
      "[4, 56, 3, 78, 40, 56, 89]\n",
      "[3, 4, 40, 56, 56, 78, 89] [4, 56, 3, 78, 40, 56, 89]\n",
      "[89, 78, 56, 56, 40, 4, 3] [4, 56, 3, 78, 40, 56, 89]\n"
     ]
    }
   ],
   "source": [
    "lst = [4,56,3,78,40,56,89]\n",
    "print(lst)\n",
    "\n",
    "# 升序\n",
    "asc_lst = sorted(lst)\n",
    "print(asc_lst,lst)\n",
    "\n",
    "# 降序\n",
    "desc_lst = sorted(lst,reverse=True)\n",
    "print(desc_lst,lst)\n",
    "\n"
   ]
  },
  {
   "cell_type": "code",
   "execution_count": 35,
   "metadata": {},
   "outputs": [
    {
     "name": "stdout",
     "output_type": "stream",
     "text": [
      "['banana', 'apple', 'Cat', 'Orange']\n",
      "['banana', 'apple', 'Cat', 'Orange'] ['apple', 'banana', 'Cat', 'Orange']\n"
     ]
    }
   ],
   "source": [
    "lst2 = ['banana','apple','Cat','Orange']\n",
    "print(lst2)\n",
    "\n",
    "new_lst2 = sorted(lst2, key=str.lower)\n",
    "print(lst2,new_lst2)\n",
    "\n"
   ]
  },
  {
   "cell_type": "markdown",
   "metadata": {},
   "source": [
    "# 列表生成式的使用\n",
    "  \n",
    "lst = [expression for item in range]  \n",
    "  \n",
    "lst = [expression for item in range if condition]"
   ]
  },
  {
   "cell_type": "code",
   "execution_count": 47,
   "metadata": {},
   "outputs": [
    {
     "name": "stdout",
     "output_type": "stream",
     "text": [
      "[1, 2, 3, 4, 5, 6, 7, 8, 9, 10]\n",
      "[1, 4, 9, 16, 25, 36, 49, 64, 81, 100]\n",
      "[65, 81, 59, 47, 18, 1, 31, 18, 22, 13]\n",
      "[]\n"
     ]
    }
   ],
   "source": [
    "import random\n",
    "\n",
    "lst= [item for item in range(1,11)]\n",
    "print(lst)\n",
    "\n",
    "lst = [item*item for item in range(1,11)]\n",
    "print(lst)\n",
    "\n",
    "# 整个生成式中 变量不受用，用下划线_替代\n",
    "\n",
    "lst = [random.randint(1,100) for _ in range(10)]\n",
    "print(lst)\n"
   ]
  },
  {
   "cell_type": "code",
   "execution_count": 49,
   "metadata": {},
   "outputs": [
    {
     "name": "stdout",
     "output_type": "stream",
     "text": [
      "[0, 2, 4, 6, 8]\n"
     ]
    }
   ],
   "source": [
    "# 从列表当中选择符合条件的元素组成新的列表\n",
    "lst = [i for i in range(10) if i%2==0]\n",
    "print(lst)"
   ]
  },
  {
   "cell_type": "markdown",
   "metadata": {},
   "source": [
    "# 二维列表的遍历与列表生成式"
   ]
  },
  {
   "cell_type": "code",
   "execution_count": 52,
   "metadata": {},
   "outputs": [
    {
     "name": "stdout",
     "output_type": "stream",
     "text": [
      "[['city', '环比', '同比'], ['北京', 102, 103], ['上海', 104, 504], ['深圳', 100, 39]]\n",
      "city\t环比\t同比\t\n",
      "北京\t102\t103\t\n",
      "上海\t104\t504\t\n",
      "深圳\t100\t39\t\n"
     ]
    }
   ],
   "source": [
    "# 创建二维列表\n",
    "lst = [\n",
    "    ['城市', '环比', '同比'],\n",
    "    ['北京', 102,103],\n",
    "    ['上海',104,504],\n",
    "    ['深圳',100,39],\n",
    "]\n",
    "\n",
    "print(lst)\n",
    "\n",
    "# 遍历二维列表用双层for循环\n",
    "\n",
    "for row in lst:\n",
    "    for item in row:\n",
    "        print(item,end='\\t')\n",
    "    print()"
   ]
  },
  {
   "cell_type": "code",
   "execution_count": 54,
   "metadata": {},
   "outputs": [
    {
     "name": "stdout",
     "output_type": "stream",
     "text": [
      "[[0, 1, 2, 3, 4], [0, 1, 2, 3, 4], [0, 1, 2, 3, 4], [0, 1, 2, 3, 4]]\n"
     ]
    }
   ],
   "source": [
    "# 列表生成式 生成 4行5列的二维列表\n",
    "\n",
    "lst2=[ [j for j  in range(5)]for i in range(4)]\n",
    "print(lst2)"
   ]
  },
  {
   "cell_type": "markdown",
   "metadata": {},
   "source": [
    "# 元组的创建与删除"
   ]
  },
  {
   "cell_type": "code",
   "execution_count": 55,
   "metadata": {},
   "outputs": [
    {
     "name": "stdout",
     "output_type": "stream",
     "text": [
      "('hello', [10, 20, 30], 'python', 'world')\n"
     ]
    }
   ],
   "source": [
    "\n",
    "# 使用小括号创建元组\n",
    "t = ('hello',[10,20,30],'python','world')\n",
    "print(t)\n",
    "\n"
   ]
  },
  {
   "cell_type": "code",
   "execution_count": 60,
   "metadata": {},
   "outputs": [
    {
     "name": "stdout",
     "output_type": "stream",
     "text": [
      "('h', 'e', 'l', 'l', 'o', 'w', 'o', 'r', 'l', 'd')\n",
      "(10, 20, 30, 40)\n",
      "True\n",
      "False\n",
      "40\n",
      "10\n",
      "4\n",
      "0\n",
      "1\n"
     ]
    }
   ],
   "source": [
    "# 使用内置函数tuple()创建元组\n",
    "t = tuple('helloworld')\n",
    "print(t)\n",
    "\n",
    "t = tuple([10,20,30,40])\n",
    "print(t)\n",
    "\n",
    "print((10 in t))\n",
    "print((10 not in t))\n",
    "print(max(t))\n",
    "print(min(t))\n",
    "print(len(t))\n",
    "print(t.index(10))\n",
    "print(t.count(10))"
   ]
  },
  {
   "cell_type": "code",
   "execution_count": 61,
   "metadata": {},
   "outputs": [
    {
     "name": "stdout",
     "output_type": "stream",
     "text": [
      "10 <class 'int'>\n",
      "(10,) <class 'tuple'>\n"
     ]
    }
   ],
   "source": [
    "# 如果元组只有一个元素\n",
    "t = (10)\n",
    "print(t,type(t))\n",
    "\n",
    "# 如果元组只有一个元素，逗号不省\n",
    "y = (10,)\n",
    "print(y,type(y))"
   ]
  },
  {
   "cell_type": "code",
   "execution_count": 68,
   "metadata": {},
   "outputs": [],
   "source": [
    "# 元组的删除\n",
    "del t\n",
    "#print(t) NameError: name 't' is not defined"
   ]
  },
  {
   "cell_type": "markdown",
   "metadata": {},
   "source": [
    "# 元组元素的遍历与访问"
   ]
  },
  {
   "cell_type": "code",
   "execution_count": 4,
   "metadata": {},
   "outputs": [
    {
     "name": "stdout",
     "output_type": "stream",
     "text": [
      "python\n",
      "('python', 'world')\n"
     ]
    }
   ],
   "source": [
    "t = ('python','hello','world')\n",
    "\n",
    "# 根据索引访问元组\n",
    "print(t[0])\n",
    "t2 = t[0:3:2]\n",
    "print(t2)\n"
   ]
  },
  {
   "cell_type": "code",
   "execution_count": 71,
   "metadata": {},
   "outputs": [
    {
     "name": "stdout",
     "output_type": "stream",
     "text": [
      "python\n",
      "hello\n",
      "world\n",
      "0 python\n",
      "1 hello\n",
      "2 world\n"
     ]
    }
   ],
   "source": [
    "# 元组的遍历\n",
    "for item in t:\n",
    "    print(item)\n",
    "\n",
    "# for+range()+len()\n",
    "for i in range(len(t)):\n",
    "    print(i,t[i])\n",
    "\n",
    "    "
   ]
  },
  {
   "cell_type": "code",
   "execution_count": 6,
   "metadata": {},
   "outputs": [
    {
     "name": "stdout",
     "output_type": "stream",
     "text": [
      "0 python\n"
     ]
    },
    {
     "ename": "TypeError",
     "evalue": "tuple indices must be integers or slices, not str",
     "output_type": "error",
     "traceback": [
      "\u001b[0;31m---------------------------------------------------------------------------\u001b[0m",
      "\u001b[0;31mTypeError\u001b[0m                                 Traceback (most recent call last)",
      "Cell \u001b[0;32mIn[6], line 4\u001b[0m\n\u001b[1;32m      2\u001b[0m \u001b[38;5;28;01mfor\u001b[39;00m index,item \u001b[38;5;129;01min\u001b[39;00m \u001b[38;5;28menumerate\u001b[39m(t):\n\u001b[1;32m      3\u001b[0m     \u001b[38;5;28mprint\u001b[39m(index,item)\n\u001b[0;32m----> 4\u001b[0m     \u001b[38;5;28mprint\u001b[39m(\u001b[43mt\u001b[49m\u001b[43m[\u001b[49m\u001b[43mitem\u001b[49m\u001b[43m]\u001b[49m)\n",
      "\u001b[0;31mTypeError\u001b[0m: tuple indices must be integers or slices, not str"
     ]
    }
   ],
   "source": [
    "# 使用enumerate()\n",
    "for index,item in enumerate(t):\n",
    "    print(index,item)"
   ]
  },
  {
   "cell_type": "code",
   "execution_count": 74,
   "metadata": {},
   "outputs": [
    {
     "name": "stdout",
     "output_type": "stream",
     "text": [
      "11 python\n",
      "12 hello\n",
      "13 world\n"
     ]
    }
   ],
   "source": [
    "for index,item in enumerate(t,start=11):\n",
    "    print(index,item)\n",
    "    "
   ]
  },
  {
   "cell_type": "markdown",
   "metadata": {},
   "source": [
    "# 元组生成式"
   ]
  },
  {
   "cell_type": "code",
   "execution_count": 7,
   "metadata": {},
   "outputs": [
    {
     "name": "stdout",
     "output_type": "stream",
     "text": [
      "<generator object <genexpr> at 0x105d8fb30>\n",
      "1\n",
      "2\n",
      "3\n",
      "()\n"
     ]
    }
   ],
   "source": [
    "t = (i for i in range(1,4))\n",
    "print(t)\n",
    "\n",
    "print(t.__next__()) # 把所有生成体里面的元素提取出来了\n",
    "print(t.__next__())\n",
    "print(t.__next__())\n",
    "\n",
    "t = tuple(t)\n",
    "print(t)\n"
   ]
  },
  {
   "cell_type": "code",
   "execution_count": 6,
   "metadata": {},
   "outputs": [
    {
     "name": "stdout",
     "output_type": "stream",
     "text": [
      "<generator object <genexpr> at 0x105d8fcf0>\n",
      "(1, 2, 3)\n",
      "1\n",
      "2\n",
      "3\n"
     ]
    }
   ],
   "source": [
    "t = (i for i in range(1,4))\n",
    "print(t)\n",
    "t = tuple(t)\n",
    "print(t)\n",
    "\n",
    "# 遍历\n",
    "for item in t:\n",
    "    print(item)"
   ]
  },
  {
   "cell_type": "markdown",
   "metadata": {},
   "source": [
    "# 元组\n",
    "不可变序列  \n",
    "  \n",
    "无法实现添加 删除 修改选组等操作 \n",
    "   \n",
    "支持切片访问元素 不支持修改操作  \n",
    "  \n",
    "访问和处理速度快  \n",
    "  \n",
    "可以作为字典的键  \n"
   ]
  },
  {
   "cell_type": "markdown",
   "metadata": {},
   "source": [
    "# 列表\n",
    "可变序列  \n",
    "  \n",
    "append() insert() remove() pop() 等方法实现添加和删除列表元素  \n",
    "  \n",
    "支持切片访问和修改列表中的元素  \n",
    "  \n",
    "访问和处理速度慢  \n",
    "  \n",
    "不能作为字典的键"
   ]
  },
  {
   "cell_type": "markdown",
   "metadata": {},
   "source": [
    "# 字典的创建与删除"
   ]
  },
  {
   "cell_type": "code",
   "execution_count": 8,
   "metadata": {},
   "outputs": [
    {
     "name": "stdout",
     "output_type": "stream",
     "text": [
      "{10: 'cat', 20: 'zoo', 30: 'pet'}\n"
     ]
    }
   ],
   "source": [
    "# 1. 创建字典\n",
    "d = {10:'cat',20:'dog',30:'pet',20:'zoo'}\n",
    "print(d)"
   ]
  },
  {
   "cell_type": "code",
   "execution_count": 11,
   "metadata": {},
   "outputs": [
    {
     "name": "stdout",
     "output_type": "stream",
     "text": [
      "<zip object at 0x105989080>\n",
      "{10: 'cat', 20: 'dog', 30: 'zoo', 40: 'pet'}\n"
     ]
    }
   ],
   "source": [
    "# 2. zip函数\n",
    "lst1 = [10,20,30,40]\n",
    "lst2 = ['cat','dog','zoo','pet','car']\n",
    "zip_obj = zip(lst1,lst2)\n",
    "print(zip_obj)\n",
    "#print(list(zip_obj)) [(10, 'cat'), (20, 'dog'), (30, 'zoo'), (40, 'pet')]\n",
    "d = dict(zip_obj)\n",
    "print(d)"
   ]
  },
  {
   "cell_type": "code",
   "execution_count": 22,
   "metadata": {},
   "outputs": [
    {
     "name": "stdout",
     "output_type": "stream",
     "text": [
      "{'cat': 10, 'dog': 20}\n"
     ]
    }
   ],
   "source": [
    "# 使用参数创建字典\n",
    "d = dict(cat=10,dog=20)\n",
    "print(d)\n"
   ]
  },
  {
   "cell_type": "code",
   "execution_count": 14,
   "metadata": {},
   "outputs": [
    {
     "name": "stdout",
     "output_type": "stream",
     "text": [
      "{(10, 20, 30): 10}\n"
     ]
    }
   ],
   "source": [
    "t=(10,20,30)\n",
    "print({t:10})"
   ]
  },
  {
   "cell_type": "code",
   "execution_count": 17,
   "metadata": {},
   "outputs": [],
   "source": [
    "lst=[10,20,30]\n",
    "#print({lst:10})  TypeError: unhashable type: 'list'"
   ]
  },
  {
   "cell_type": "code",
   "execution_count": 16,
   "metadata": {},
   "outputs": [
    {
     "name": "stdout",
     "output_type": "stream",
     "text": [
      "dog\n",
      "cat\n",
      "2\n"
     ]
    }
   ],
   "source": [
    "# 字典属于序列\n",
    "print(max(d))\n",
    "print(min(d))\n",
    "print(len(d))\n"
   ]
  },
  {
   "cell_type": "code",
   "execution_count": 23,
   "metadata": {},
   "outputs": [],
   "source": [
    "# 字典的删除\n",
    "del d\n",
    "#print(d)  NameError: name 'd' is not defined"
   ]
  },
  {
   "cell_type": "markdown",
   "metadata": {},
   "source": [
    "# 字典元素的访问和遍历\n"
   ]
  },
  {
   "cell_type": "markdown",
   "metadata": {},
   "source": [
    "字典元素的取值：d[key] or d.get(key)  \n",
    "  \n",
    "字典元素的遍历:  \n",
    "  \n",
    "1) 元组：for element in d.items(): pass  \n",
    "  \n",
    "2) key和value： for key,value in d.items(): pass"
   ]
  },
  {
   "cell_type": "code",
   "execution_count": 1,
   "metadata": {},
   "outputs": [
    {
     "name": "stdout",
     "output_type": "stream",
     "text": [
      "10 invalid\n"
     ]
    },
    {
     "ename": "KeyError",
     "evalue": "10",
     "output_type": "error",
     "traceback": [
      "\u001b[0;31m---------------------------------------------------------------------------\u001b[0m",
      "\u001b[0;31mKeyError\u001b[0m                                  Traceback (most recent call last)",
      "Cell \u001b[0;32mIn[1], line 6\u001b[0m\n\u001b[1;32m      4\u001b[0m info \u001b[38;5;241m=\u001b[39m d\u001b[38;5;241m.\u001b[39mget(\u001b[38;5;124m'\u001b[39m\u001b[38;5;124mhell\u001b[39m\u001b[38;5;124m'\u001b[39m,\u001b[38;5;124m'\u001b[39m\u001b[38;5;124minvalid\u001b[39m\u001b[38;5;124m'\u001b[39m)\n\u001b[1;32m      5\u001b[0m \u001b[38;5;28mprint\u001b[39m(d[\u001b[38;5;124m'\u001b[39m\u001b[38;5;124mhello\u001b[39m\u001b[38;5;124m'\u001b[39m],info)\n\u001b[0;32m----> 6\u001b[0m \u001b[38;5;28mprint\u001b[39m(\u001b[43md\u001b[49m\u001b[43m[\u001b[49m\u001b[38;5;241;43m10\u001b[39;49m\u001b[43m]\u001b[49m)\n",
      "\u001b[0;31mKeyError\u001b[0m: 10"
     ]
    }
   ],
   "source": [
    "d = {'hello':10,'world':20,'python':30}\n",
    "# 访问字典中的元素\n",
    "# 1. d[key]\n",
    "info = d.get('hell','invalid')\n",
    "print(d['hello'],info)"
   ]
  },
  {
   "cell_type": "code",
   "execution_count": 26,
   "metadata": {},
   "outputs": [
    {
     "name": "stdout",
     "output_type": "stream",
     "text": [
      "10\n"
     ]
    }
   ],
   "source": [
    "# 2. d.get(key)\n",
    "print(d.get('hello'))\n"
   ]
  },
  {
   "cell_type": "code",
   "execution_count": 30,
   "metadata": {},
   "outputs": [
    {
     "name": "stdout",
     "output_type": "stream",
     "text": [
      "None\n",
      "不存在\n",
      "{'hello': 10, 'world': 20, 'python': 30}\n"
     ]
    }
   ],
   "source": [
    "# 二者之间有区别，如果key不存在，d[key]报错，d.get(key)可以指定默认值\n",
    "#print(d['java'])  KeyError: 'java'\n",
    "print(d.get('java'))\n",
    "print(d.get('java','不存在'))\n"
   ]
  },
  {
   "cell_type": "code",
   "execution_count": 31,
   "metadata": {},
   "outputs": [
    {
     "name": "stdout",
     "output_type": "stream",
     "text": [
      "('hello', 10)\n",
      "('world', 20)\n",
      "('python', 30)\n"
     ]
    }
   ],
   "source": [
    "# 字典的遍历\n",
    "\n",
    "for item in d.items():\n",
    "    print(item)"
   ]
  },
  {
   "cell_type": "code",
   "execution_count": 32,
   "metadata": {},
   "outputs": [
    {
     "name": "stdout",
     "output_type": "stream",
     "text": [
      "hello 10\n",
      "world 20\n",
      "python 30\n"
     ]
    }
   ],
   "source": [
    "# 分别获取key，value\n",
    "for key,value in d.items():\n",
    "    print(key,value)"
   ]
  },
  {
   "cell_type": "markdown",
   "metadata": {},
   "source": [
    "# 字典的相关操作方法"
   ]
  },
  {
   "cell_type": "code",
   "execution_count": 50,
   "metadata": {},
   "outputs": [
    {
     "name": "stdout",
     "output_type": "stream",
     "text": [
      "{1001: 'zhou', 1002: 'li', 1003: 'zhang'}\n",
      "{1001: 'zhou', 1002: 'li', 1003: 'zhang', 1004: 'qiu'}\n"
     ]
    }
   ],
   "source": [
    "d = {1001:'zhou',1002:'li',1003:'zhang'}\n",
    "print(d)\n",
    "\n",
    "# 相字典中添加元素\n",
    "d[1004]='qiu' # 直接使用赋值运算符向字典添加元素\n",
    "print(d)\n",
    "\n",
    "\n"
   ]
  },
  {
   "cell_type": "code",
   "execution_count": 37,
   "metadata": {},
   "outputs": [
    {
     "name": "stdout",
     "output_type": "stream",
     "text": [
      "dict_keys([1001, 1002, 1003, 1004])\n",
      "[1001, 1002, 1003, 1004]\n",
      "(1001, 1002, 1003, 1004)\n"
     ]
    }
   ],
   "source": [
    "\n",
    "# 获取字典中所有的key\n",
    "\n",
    "keys = d.keys()\n",
    "print(keys)\n",
    "print(list(keys))\n",
    "print(tuple(keys))"
   ]
  },
  {
   "cell_type": "code",
   "execution_count": 41,
   "metadata": {},
   "outputs": [
    {
     "name": "stdout",
     "output_type": "stream",
     "text": [
      "dict_values(['zhou', 'li', 'zhang', 'qiu'])\n",
      "['zhou', 'li', 'zhang', 'qiu']\n",
      "('zhou', 'li', 'zhang', 'qiu')\n"
     ]
    }
   ],
   "source": [
    "# 获取字典中所有的value\n",
    "\n",
    "values = d.values()\n",
    "print(values)\n",
    "print(list(values))\n",
    "print(tuple(values))\n"
   ]
  },
  {
   "cell_type": "code",
   "execution_count": 51,
   "metadata": {},
   "outputs": [
    {
     "name": "stdout",
     "output_type": "stream",
     "text": [
      "[(1001, 'zhou'), (1002, 'li'), (1003, 'zhang'), (1004, 'qiu')]\n",
      "{1001: 'zhou', 1002: 'li', 1003: 'zhang', 1004: 'qiu'}\n",
      "zhou\n",
      "{1002: 'li', 1003: 'zhang', 1004: 'qiu'}\n",
      "不存在\n"
     ]
    }
   ],
   "source": [
    "# 如何将字典中的数据转成key-value的形式，以元组的方式展现\n",
    "\n",
    "lst=list(d.items())\n",
    "print(lst)\n",
    "\n",
    "d = dict(lst)\n",
    "print(d)\n",
    "\n",
    "print(d.pop(1001))\n",
    "print(d)\n",
    "\n",
    "print(d.pop(1008,'不存在'))\n",
    "\n",
    "\n",
    "\n"
   ]
  },
  {
   "cell_type": "code",
   "execution_count": 52,
   "metadata": {},
   "outputs": [
    {
     "name": "stdout",
     "output_type": "stream",
     "text": [
      "(1004, 'qiu')\n",
      "{1002: 'li', 1003: 'zhang'}\n"
     ]
    }
   ],
   "source": [
    "# 随机删除\n",
    "print(d.popitem())\n",
    "print(d)\n"
   ]
  },
  {
   "cell_type": "code",
   "execution_count": 53,
   "metadata": {},
   "outputs": [
    {
     "name": "stdout",
     "output_type": "stream",
     "text": [
      "{}\n",
      "False\n"
     ]
    }
   ],
   "source": [
    "# 清空所有元素\n",
    "\n",
    "d.clear()\n",
    "print(d)\n",
    "print(bool(d))\n"
   ]
  },
  {
   "cell_type": "markdown",
   "metadata": {},
   "source": [
    "# 字典生成式\n"
   ]
  },
  {
   "cell_type": "markdown",
   "metadata": {},
   "source": [
    "字典生成式  \n",
    "\n",
    "d = { key:value for item in range}  \n",
    "  \n",
    "d = { key:value for key,value in zip(lst1,lst2)}  \n"
   ]
  },
  {
   "cell_type": "code",
   "execution_count": 54,
   "metadata": {},
   "outputs": [
    {
     "name": "stdout",
     "output_type": "stream",
     "text": [
      "{0: 29, 1: 82, 2: 43, 3: 32, 4: 29, 5: 20, 6: 9, 7: 65, 8: 79, 9: 9}\n"
     ]
    }
   ],
   "source": [
    "import random\n",
    "d = {item: random.randint(1,100) for item in range(10)}\n",
    "print(d)"
   ]
  },
  {
   "cell_type": "code",
   "execution_count": 57,
   "metadata": {},
   "outputs": [
    {
     "name": "stdout",
     "output_type": "stream",
     "text": [
      "{1001: 'zhou', 1002: 'wang', 1003: 'li'}\n"
     ]
    }
   ],
   "source": [
    "# 创建两个列表\n",
    "lst = [1001,1002,1003]\n",
    "lst2 = ['zhou', 'wang', 'li']\n",
    "d = {key:value for key,value in zip(lst,lst2)}\n",
    "print(d)\n"
   ]
  },
  {
   "cell_type": "markdown",
   "metadata": {},
   "source": [
    "# 集合的创建与删除"
   ]
  },
  {
   "cell_type": "markdown",
   "metadata": {},
   "source": [
    "集合创建方式:  \n",
    "  \n",
    "1. 使用{}直接创建  \n",
    "  \n",
    "  s = {element1,element2,element3,element4...}\n",
    "  \n",
    "2. 使用内置函数 set 创建集合  \n",
    "  \n",
    "  s = set(可迭代对象)  \n",
    "  \n",
    "del 集合名"
   ]
  },
  {
   "cell_type": "code",
   "execution_count": 64,
   "metadata": {},
   "outputs": [
    {
     "name": "stdout",
     "output_type": "stream",
     "text": [
      "{40, 10, 20, 30}\n"
     ]
    }
   ],
   "source": [
    "# {} 直接创建\n",
    "s = {10,20,30,40}\n",
    "print(s)\n",
    "\n",
    "# 集合只能存储不可变数据类型\n",
    "#print({[10,20],[30,40]}) TypeError: unhashable type: 'list'\n",
    "\n"
   ]
  },
  {
   "cell_type": "code",
   "execution_count": 1,
   "metadata": {},
   "outputs": [
    {
     "name": "stdout",
     "output_type": "stream",
     "text": [
      "set() <class 'set'> False\n",
      "{} <class 'dict'>\n"
     ]
    }
   ],
   "source": [
    "# 使用set()创建集合\n",
    "\n",
    "s = set()\n",
    "print(s,type(s),bool(s))  # 空集合的bool是false\n",
    "\n",
    "s = {}\n",
    "print(s,type(s))"
   ]
  },
  {
   "cell_type": "code",
   "execution_count": 7,
   "metadata": {},
   "outputs": [
    {
     "name": "stdout",
     "output_type": "stream",
     "text": [
      "{'w', 'l', 'h', 'd', 'o', 'e', 'r'}\n",
      "{10, 20, 30}\n",
      "{1, 2, 3, 4, 5, 6, 7, 8, 9}\n"
     ]
    }
   ],
   "source": [
    "s = set('helloworld')\n",
    "print(s)\n",
    "\n",
    "s2 = set([10,20,30])\n",
    "print(s2)\n",
    "\n",
    "s3 = set(range(1,10))\n",
    "print(s3)"
   ]
  },
  {
   "cell_type": "code",
   "execution_count": 12,
   "metadata": {},
   "outputs": [
    {
     "name": "stdout",
     "output_type": "stream",
     "text": [
      "{1, 2, 3, 4, 5, 6, 7, 8, 9}\n",
      "9\n",
      "1\n",
      "9\n",
      "True\n",
      "False\n"
     ]
    }
   ],
   "source": [
    "s3 = set(range(1,10))\n",
    "print(s3)\n",
    "# 集合属于序列中的一种\n",
    "print(max(s3))\n",
    "print(min(s3))\n",
    "print(len(s3))\n",
    "\n",
    "print((9 in s3))\n",
    "print((9 not in s3))\n",
    "\n",
    "\n"
   ]
  },
  {
   "cell_type": "code",
   "execution_count": 13,
   "metadata": {},
   "outputs": [],
   "source": [
    "# 集合删除操作\n",
    "del s3\n",
    "#print(s3) NameError: name 's3' is not defined"
   ]
  },
  {
   "cell_type": "markdown",
   "metadata": {},
   "source": [
    "# 集合的操作符"
   ]
  },
  {
   "cell_type": "code",
   "execution_count": 17,
   "metadata": {},
   "outputs": [
    {
     "name": "stdout",
     "output_type": "stream",
     "text": [
      "{50, 20, 30}\n",
      "{40, 10, 76, 50, 20, 88, 30}\n",
      "{40, 10}\n",
      "{10, 88, 40, 76}\n"
     ]
    }
   ],
   "source": [
    "a = {10,20,30,40,50}\n",
    "b = {30,50,88,76,20}\n",
    "\n",
    "# 交集 and\n",
    "print(a & b)\n",
    "\n",
    "# 并集 or\n",
    "print(a | b)\n",
    "\n",
    "# 差集\n",
    "print(a - b)\n",
    "\n",
    "# 补集\n",
    "print(a^b)\n",
    "\n",
    "\n"
   ]
  },
  {
   "cell_type": "markdown",
   "metadata": {},
   "source": [
    "# 集合的相关操作"
   ]
  },
  {
   "cell_type": "code",
   "execution_count": 19,
   "metadata": {},
   "outputs": [
    {
     "name": "stdout",
     "output_type": "stream",
     "text": [
      "{100, 10, 20, 30}\n",
      "{100, 10, 30}\n",
      "set()\n"
     ]
    }
   ],
   "source": [
    "s = {10,20,30}\n",
    "\n",
    "# 添加元素\n",
    "s.add(100)\n",
    "print(s)\n",
    "\n",
    "# 删除元素\n",
    "s.remove(20)\n",
    "print(s)\n",
    "\n",
    "# 清空\n",
    "s.clear()\n",
    "print(s)\n"
   ]
  },
  {
   "cell_type": "code",
   "execution_count": 21,
   "metadata": {},
   "outputs": [
    {
     "name": "stdout",
     "output_type": "stream",
     "text": [
      "10\n",
      "100\n",
      "30\n",
      "0 10\n",
      "1 100\n",
      "2 30\n"
     ]
    }
   ],
   "source": [
    "s = {100,10,30}\n",
    "\n",
    "# 集合的遍历操作\n",
    "for item in s:\n",
    "    print(item)\n",
    "\n",
    "\n",
    "# 使用enumerate函数\n",
    "for index,item in enumerate(s):\n",
    "    print(index,item)\n",
    "\n",
    "\n",
    "\n"
   ]
  },
  {
   "cell_type": "code",
   "execution_count": 22,
   "metadata": {},
   "outputs": [
    {
     "name": "stdout",
     "output_type": "stream",
     "text": [
      "{1, 2, 3, 4, 5, 6, 7, 8, 9}\n",
      "{1, 3, 5, 7, 9}\n"
     ]
    }
   ],
   "source": [
    "# 集合生成式\n",
    "s = {i for i in range(1,10)}\n",
    "print(s)\n",
    "\n",
    "s = {i for i in range(1,10) if i%2==1}\n",
    "print(s)"
   ]
  },
  {
   "cell_type": "markdown",
   "metadata": {},
   "source": [
    "# 结构的模式匹配"
   ]
  },
  {
   "cell_type": "code",
   "execution_count": 23,
   "metadata": {},
   "outputs": [
    {
     "ename": "SyntaxError",
     "evalue": "invalid syntax (3689795295.py, line 2)",
     "output_type": "error",
     "traceback": [
      "\u001b[0;36m  Cell \u001b[0;32mIn[23], line 2\u001b[0;36m\u001b[0m\n\u001b[0;31m    match data:\u001b[0m\n\u001b[0m          ^\u001b[0m\n\u001b[0;31mSyntaxError\u001b[0m\u001b[0;31m:\u001b[0m invalid syntax\n"
     ]
    }
   ],
   "source": [
    "data = eval(input('give input data:'))\n",
    "match data: # 3.11\n",
    "    case {'name': 'zyx','age': 20}:\n",
    "        print('dic')\n",
    "    case [10,20,30]:\n",
    "        print('lst')\n",
    "    case (10,20,30):\n",
    "        print('tuple')\n",
    "    case _:\n",
    "        print('else')"
   ]
  },
  {
   "cell_type": "markdown",
   "metadata": {},
   "source": [
    "# 合并字典运算符"
   ]
  },
  {
   "cell_type": "code",
   "execution_count": 24,
   "metadata": {},
   "outputs": [
    {
     "name": "stdout",
     "output_type": "stream",
     "text": [
      "{'a': 10, 'b': 20, 'c': 30, 'd': 40, 'e': 50}\n"
     ]
    }
   ],
   "source": [
    "d1={'a':10, 'b':20}\n",
    "d2={'c':30, 'd':40,'e':50}\n",
    "merged_dict = d1|d2 \n",
    "print(merged_dict)"
   ]
  },
  {
   "cell_type": "markdown",
   "metadata": {},
   "source": [
    "# 同步迭代"
   ]
  },
  {
   "cell_type": "code",
   "execution_count": 5,
   "metadata": {},
   "outputs": [
    {
     "name": "stdout",
     "output_type": "stream",
     "text": [
      "(('grape', 10), ('apple', 3), ('orange', 4), ('pear', 5))\n",
      "grape 10\n",
      "else\n",
      "apple 3\n",
      "else\n",
      "orange 4\n",
      "else\n",
      "pear 5\n",
      "else\n"
     ]
    }
   ],
   "source": [
    "fruits={'apple','orange','pear','grape'}\n",
    "count=[10,3,4,5]\n",
    "print(tuple(zip(fruits,count)))\n",
    "for f,c in zip(fruits,count):\n",
    "    print(f,c)\n",
    "    if f == 'apple' and c == 10:\n",
    "        print('10 apple')\n",
    "    if f == 'orange' and c == 3:\n",
    "        print('3 orange')\n",
    "    if f == 'pear' and c == 4:\n",
    "        print('4 pear')\n",
    "    if f == 'grape' and c == 5:\n",
    "        print('5 grape')\n",
    "    else:\n",
    "        print('else')"
   ]
  },
  {
   "cell_type": "markdown",
   "metadata": {},
   "source": [
    "# --------------------------------------------------------------------------\n"
   ]
  },
  {
   "cell_type": "code",
   "execution_count": 37,
   "metadata": {},
   "outputs": [
    {
     "name": "stdout",
     "output_type": "stream",
     "text": [
      "{'a': 10, 'b': 100} {'a': 10, 'b': 100}\n",
      "{'a': 10, 'b': 100, 'c': 20} {'a': 10, 'b': 100, 'c': 20}\n"
     ]
    }
   ],
   "source": [
    "d={'a':10, 'b':20}\n",
    "d2=d\n",
    "d['b']=100\n",
    "print(d2,d)\n",
    "d['c']=20\n",
    "print(d2,d)"
   ]
  },
  {
   "cell_type": "code",
   "execution_count": 41,
   "metadata": {},
   "outputs": [
    {
     "name": "stdout",
     "output_type": "stream",
     "text": [
      "None\n",
      "1\n"
     ]
    }
   ],
   "source": [
    "lst = [1,3,5,7,9]\n",
    "print(lst.reverse())\n",
    "print(lst.pop())\n"
   ]
  },
  {
   "cell_type": "markdown",
   "metadata": {},
   "source": [
    "# 千年虫\n",
    "lst [88,89,90,98,00,99]  \n",
    "  \n",
    "if not 00 then + 19\n",
    "  \n",
    "if 00 then + 200  \n"
   ]
  },
  {
   "cell_type": "code",
   "execution_count": 53,
   "metadata": {},
   "outputs": [
    {
     "name": "stdout",
     "output_type": "stream",
     "text": [
      "[88, 89, 90, 98, 0, 99]\n",
      "['1988', '1989', '1990', '1998', '2000', '1999']\n"
     ]
    }
   ],
   "source": [
    "# 遍历列表的方式\n",
    "\n",
    "lst=[88,89,90,98,00,99]\n",
    "print(lst)\n",
    "\n",
    "for index in range(len(lst)):\n",
    "    if str(lst[index]) != '0':\n",
    "        lst[index] = '19'+str(lst[index])\n",
    "    else:\n",
    "        lst[index] = '200'+str(lst[index])\n",
    "print(lst)"
   ]
  },
  {
   "cell_type": "code",
   "execution_count": 10,
   "metadata": {},
   "outputs": [
    {
     "name": "stdout",
     "output_type": "stream",
     "text": [
      "[88, 89, 90, 98, 0, 99]\n",
      "['1988', '1989', '1990', '1998', '2000', '1999']\n"
     ]
    }
   ],
   "source": [
    "# 使用 enumerate()的方式\n",
    "\n",
    "lst=[88,89,90,98,00,99]\n",
    "print(lst)\n",
    "for index,value in enumerate(lst):\n",
    "    if str(value) != '0':\n",
    "        lst[index] = '19' + str(value)\n",
    "    else:\n",
    "        lst[index] = '200'+str(value)\n",
    "print(lst)"
   ]
  },
  {
   "cell_type": "markdown",
   "metadata": {},
   "source": [
    "# 模拟京东购物流程\n",
    "键盘录入5个商品信息(1001手机)  \n",
    "  \n",
    "添加到商品列表中，展示商品信息，提示用户选择商品    \n",
    "  \n",
    "用户选中的商品添加到购物车中，购物车中的商品逆序  \n",
    "  \n",
    "输入q结束循环，显示购物车中的商品  "
   ]
  },
  {
   "cell_type": "code",
   "execution_count": 20,
   "metadata": {},
   "outputs": [
    {
     "name": "stdout",
     "output_type": "stream",
     "text": [
      "[]\n",
      "1001手机\n",
      "1002电脑\n",
      "1003照片\n",
      "1004雕像\n",
      "1005电子烟\n",
      "['1001手机', '1002电脑', '1003照片', '1004雕像', '1005电子烟']\n",
      "we find your item\n",
      "we find your item\n",
      "we find your item\n",
      "invalid item\n",
      "successfully exits\n",
      "----------------------------------------\n",
      "your item is:\n",
      "1004雕像\n",
      "1003照片\n",
      "1005电子烟\n"
     ]
    }
   ],
   "source": [
    "lst = []\n",
    "print(lst)\n",
    "for i in range(5):\n",
    "    goods = input('give number and value:')\n",
    "    lst.append(goods)\n",
    "\n",
    "for i in lst:\n",
    "    print(i)\n",
    "print(lst)\n",
    "\n",
    "cart=[]\n",
    "while True:\n",
    "    flag = False # 代表没有商品的情况\n",
    "    num = input('give number')\n",
    "    for item in lst:\n",
    "        if num == item[0:4]:\n",
    "            flag = True\n",
    "            cart.append(item)\n",
    "            print('we find your item')\n",
    "            break # 退出for循环\n",
    "    \n",
    "    if not flag and num != 'q':  # not flag 等同于 flag == False\n",
    "        print('invalid item')\n",
    "        continue\n",
    "\n",
    "    if not flag and num == 'q':\n",
    "        print('successfully exits')\n",
    "        break # 退出while循环\n",
    "\n",
    "print('-'*40)\n",
    "print('your item is:')  \n",
    "cart.reverse()\n",
    "for item in cart:\n",
    "    print(item)\n",
    "\n",
    "\n",
    "    \n"
   ]
  },
  {
   "cell_type": "markdown",
   "metadata": {},
   "source": [
    "# 模拟12306火车订票流程  \n",
    "  \n",
    "假设北京到天津有以下4个车次选择，用户选择所要购买的车次，进行购票进站"
   ]
  },
  {
   "cell_type": "code",
   "execution_count": 35,
   "metadata": {},
   "outputs": [
    {
     "name": "stdout",
     "output_type": "stream",
     "text": [
      "车次\t出发站-到达站\t出发时间\t到达时间\t历时时长\t\n",
      "G1569\t北京南-天津南\t18:06\t18:39\t00:33\t\n",
      "G1567\t北京南-天津南\t18:15\t18:49\t00:34\t\n",
      "G8917\t北京南-天津西\t18:20\t19:19\t00:59\t\n",
      "G203\t北京南-天津南\t18:35\t19:09\t00:34\t\n",
      "you have buy G8917 train ticket 北京南-天津西 18:20 start, Mr.Oliver come to pickup your ticket\n"
     ]
    }
   ],
   "source": [
    "train = [\n",
    "    ['车次','出发站-到达站','出发时间','到达时间','历时时长'],\n",
    "    ['G1569','北京南-天津南','18:06','18:39','00:33'],\n",
    "    ['G1567','北京南-天津南','18:15','18:49','00:34'],\n",
    "    ['G8917','北京南-天津西','18:20','19:19','00:59'],\n",
    "    ['G203','北京南-天津南','18:35','19:09','00:34'],\n",
    "]\n",
    "for row in train:\n",
    "    for item in row:\n",
    "        print(item,end='\\t')\n",
    "    print()\n",
    "\n",
    "\n",
    "\n",
    "i = 0\n",
    "id = input('please select the train ticket')\n",
    "name = input('please give your name,if multiple travelers please separating with \",\":')\n",
    "\n",
    "for row in train:\n",
    "    if id == row[0]:\n",
    "        print('you have buy',row[0],'train ticket',row[1],row[2],'start,','Mr.'+ name,'come to pickup your ticket')\n",
    "        break\n",
    "    if id != row[0]:\n",
    "        i += 1\n",
    "        if i == 5:\n",
    "            print('sorry, your train ticket is not in our list')\n",
    "\n",
    "    "
   ]
  },
  {
   "cell_type": "code",
   "execution_count": 47,
   "metadata": {},
   "outputs": [
    {
     "name": "stdout",
     "output_type": "stream",
     "text": [
      "车次\t出发站-到达站\t出发时间\t到达时间\t历时时长\n",
      "G1569\t北京南-天津南\t18:06\t18:39\t00:33\t\n",
      "G1567\t北京南-天津南\t18:15\t18:49\t00:34\t\n",
      "G8917\t北京南-天津西\t18:20\t19:19\t00:59\t\n",
      "G203\t北京南-天津南\t18:35\t19:09\t00:34\t\n",
      "you have buy G1569 train ticket 北京南-天津南 18:06 start Mr.Oliver come to pickup your ticket\n"
     ]
    }
   ],
   "source": [
    "dict_ticket = {\n",
    "    'G1569':['北京南-天津南','18:06','18:39','00:33'],\n",
    "    'G1567':['北京南-天津南','18:15','18:49','00:34'],\n",
    "    'G8917':['北京南-天津西','18:20','19:19','00:59'],\n",
    "    'G203':['北京南-天津南','18:35','19:09','00:34'],\n",
    "\n",
    "}\n",
    "print('车次\t出发站-到达站\t出发时间\t到达时间\t历时时长')\n",
    "\n",
    "\n",
    "for key in dict_ticket.keys():\n",
    "    print(key,end='\\t')\n",
    "    for item in dict_ticket.get(key):\n",
    "        print(item,end='\\t')\n",
    "    print()\n",
    "\n",
    "train_no = input('please select the train ticket')\n",
    "info = dict_ticket.get(train_no,'invalid')\n",
    "if info != 'invalid':\n",
    "    name = input('Please give your name:')\n",
    "    s = info[0] + ' ' + info[1] + ' start'\n",
    "    print('you have buy',train_no,'train ticket',s,'Mr.'+ name,'come to pickup your ticket')\n",
    "else:\n",
    "    print('sorry, invalid train ticket')\n",
    "\n"
   ]
  },
  {
   "cell_type": "markdown",
   "metadata": {},
   "source": [
    "# 模拟手机通讯录\n",
    "从键盘输入5位好友的姓名和电话，由于通讯录是无序的，所以可以用集合来实现  \n",
    "  \n",
    "集合"
   ]
  },
  {
   "cell_type": "code",
   "execution_count": 55,
   "metadata": {},
   "outputs": [
    {
     "name": "stdout",
     "output_type": "stream",
     "text": [
      "周12345\n",
      "鸡13579\n",
      "江54321\n",
      "王35190\n",
      "雷98643\n"
     ]
    }
   ],
   "source": [
    "s = set()\n",
    "for i in range(1,6):\n",
    "    num = input(f'请输入第{i}位好友的姓名和电话:')\n",
    "    s.add(num)\n",
    "\n",
    "for item in s:\n",
    "    print(item)\n"
   ]
  }
 ],
 "metadata": {
  "kernelspec": {
   "display_name": "Python 3",
   "language": "python",
   "name": "python3"
  },
  "language_info": {
   "codemirror_mode": {
    "name": "ipython",
    "version": 3
   },
   "file_extension": ".py",
   "mimetype": "text/x-python",
   "name": "python",
   "nbconvert_exporter": "python",
   "pygments_lexer": "ipython3",
   "version": "3.9.6"
  }
 },
 "nbformat": 4,
 "nbformat_minor": 2
}
