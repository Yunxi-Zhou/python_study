{
 "cells": [
  {
   "cell_type": "markdown",
   "metadata": {},
   "source": [
    "# 顺序结构语句\n"
   ]
  },
  {
   "cell_type": "code",
   "execution_count": 2,
   "metadata": {},
   "outputs": [
    {
     "name": "stdout",
     "output_type": "stream",
     "text": [
      "yunxi 20\n",
      "r o o m\n"
     ]
    }
   ],
   "source": [
    "\n",
    "# 赋值运算符的顺序 从右到左\n",
    "\n",
    "name = 'yunxi'\n",
    "age = 20\n",
    "print(name, age)\n",
    "\n",
    "a,b,c,d = 'room'\n",
    "print(a,b,c,d)\n",
    "\n",
    "\n"
   ]
  },
  {
   "cell_type": "code",
   "execution_count": 2,
   "metadata": {},
   "outputs": [
    {
     "name": "stdout",
     "output_type": "stream",
     "text": [
      "输入/输出语句也是典型的顺序结构\n",
      "yunxi 89\n"
     ]
    }
   ],
   "source": [
    "print('输入/输出语句也是典型的顺序结构')\n",
    "name = input('givens name')\n",
    "age = eval(input('givens age'))\n",
    "print(name, age)"
   ]
  },
  {
   "cell_type": "markdown",
   "metadata": {},
   "source": [
    "# 单分支结构"
   ]
  },
  {
   "cell_type": "code",
   "execution_count": 2,
   "metadata": {},
   "outputs": [
    {
     "name": "stdout",
     "output_type": "stream",
     "text": [
      "876543 you lose\n"
     ]
    }
   ],
   "source": [
    "# 单分支结构\n",
    "\n",
    "number = eval(input('give number'))\n",
    "if number == 987654:\n",
    "    print(number,'you win')\n",
    "if number != 987654:\n",
    "    print(number, 'you lose')\n",
    "\n",
    "\n",
    "\n"
   ]
  },
  {
   "cell_type": "code",
   "execution_count": 4,
   "metadata": {},
   "outputs": [
    {
     "name": "stdout",
     "output_type": "stream",
     "text": [
      "even\n"
     ]
    }
   ],
   "source": [
    "# if 判断的表达式 通过比较运算符计算出来 结果是bool\n",
    "n = 98\n",
    "if n % 2:\n",
    "    print('odd')\n",
    "if not n % 2:\n",
    "    print('even')\n",
    "    "
   ]
  },
  {
   "cell_type": "code",
   "execution_count": 6,
   "metadata": {},
   "outputs": [
    {
     "name": "stdout",
     "output_type": "stream",
     "text": [
      "nonempty string input\n"
     ]
    }
   ],
   "source": [
    "# 判断一个字符串是否是空字符串\n",
    "\n",
    "x = input('give string input')  \n",
    "if x:      # 非空字符串的bool是true\n",
    "    print('nonempty string input')\n",
    "if not x:\n",
    "    print('empty string input')\n"
   ]
  },
  {
   "cell_type": "code",
   "execution_count": 8,
   "metadata": {},
   "outputs": [
    {
     "name": "stdout",
     "output_type": "stream",
     "text": [
      "False\n"
     ]
    }
   ],
   "source": [
    "# 单纯的bool变量\n",
    "\n",
    "flag = eval(input('give true or false'))\n",
    "if flag:\n",
    "    print('True')\n",
    "if not flag:\n",
    "    print('False')"
   ]
  },
  {
   "cell_type": "code",
   "execution_count": 9,
   "metadata": {},
   "outputs": [
    {
     "name": "stdout",
     "output_type": "stream",
     "text": [
      "10\n"
     ]
    }
   ],
   "source": [
    "# 如果只有一个语句块 将语句块直接写在冒号的后面\n",
    "\n",
    "a = 10\n",
    "b = 5\n",
    "if a > b : max = a\n",
    "print(max)\n"
   ]
  },
  {
   "cell_type": "markdown",
   "metadata": {},
   "source": [
    "# 双分支结构"
   ]
  },
  {
   "cell_type": "code",
   "execution_count": 15,
   "metadata": {},
   "outputs": [
    {
     "name": "stdout",
     "output_type": "stream",
     "text": [
      "you win\n",
      "you win\n",
      "you win\n"
     ]
    }
   ],
   "source": [
    "number = eval(input('6 digit number'))\n",
    "if number == 987654:\n",
    "    print('you win')\n",
    "else:\n",
    "    print('you lose')\n",
    "\n",
    "\n",
    "# 条件表达式进行简化\n",
    "\n",
    "result = 'you win' if number == 987654 else 'you lose'\n",
    "print(result)\n",
    "print('you win' if number == 987654 else 'you lose')\n",
    "\n"
   ]
  },
  {
   "cell_type": "code",
   "execution_count": 17,
   "metadata": {},
   "outputs": [
    {
     "name": "stdout",
     "output_type": "stream",
     "text": [
      "A\n"
     ]
    }
   ],
   "source": [
    "# 多分支结构的使用\n",
    "\n",
    "score = eval(input('input your score'))\n",
    "\n",
    "if score< 0 or score >100:\n",
    "    print('score wrong')\n",
    "elif 0 <= score < 60:\n",
    "    print('F')\n",
    "elif 60 <= score < 70:\n",
    "    print('D')\n",
    "elif 70 <= score < 80:\n",
    "    print('C')\n",
    "elif 80 <= score < 90:\n",
    "    print('B')\n",
    "else:\n",
    "    print('A')\n",
    "\n",
    "\n",
    "\n"
   ]
  },
  {
   "cell_type": "markdown",
   "metadata": {},
   "source": [
    "# 嵌套 if 使用"
   ]
  },
  {
   "cell_type": "code",
   "execution_count": 19,
   "metadata": {},
   "outputs": [
    {
     "name": "stdout",
     "output_type": "stream",
     "text": [
      "you drink too much\n"
     ]
    }
   ],
   "source": [
    "answer = input('you drink or not')\n",
    "if answer == 'y':\n",
    "    proof = eval(input('check your alcohol'))\n",
    "    if proof < 20:\n",
    "        print('you go')\n",
    "    elif proof < 80:\n",
    "        print('you drink')\n",
    "    else:\n",
    "        print('you drink too much')\n",
    "else:\n",
    "    print('you go')\n"
   ]
  },
  {
   "cell_type": "markdown",
   "metadata": {},
   "source": [
    "# 使用 and 连接多个选择条件"
   ]
  },
  {
   "cell_type": "code",
   "execution_count": 20,
   "metadata": {},
   "outputs": [
    {
     "name": "stdout",
     "output_type": "stream",
     "text": [
      "login\n"
     ]
    }
   ],
   "source": [
    "user_name = input('give your username')\n",
    "pwd = input('give your password')\n",
    "if user_name == 'zyx' and pwd == '99999':\n",
    "    print('login')\n",
    "else:\n",
    "    print('wrong username or password')"
   ]
  },
  {
   "cell_type": "markdown",
   "metadata": {},
   "source": [
    "# 使用 or 连接多个选择条件"
   ]
  },
  {
   "cell_type": "code",
   "execution_count": 21,
   "metadata": {},
   "outputs": [
    {
     "name": "stdout",
     "output_type": "stream",
     "text": [
      "your score is 80\n"
     ]
    }
   ],
   "source": [
    "score = eval(input('please give your score'))\n",
    "if score < 0 or score > 100:\n",
    "    print('invalid score')\n",
    "else:\n",
    "    print('your score is', score)\n",
    "\n",
    "    "
   ]
  },
  {
   "cell_type": "markdown",
   "metadata": {},
   "source": [
    "# python 3.11 新特性"
   ]
  },
  {
   "cell_type": "code",
   "execution_count": 2,
   "metadata": {},
   "outputs": [
    {
     "name": "stdout",
     "output_type": "stream",
     "text": [
      "great\n"
     ]
    }
   ],
   "source": [
    "score = input('your score')\n",
    "match score:\n",
    "   case 'A':\n",
    "       print('great')\n",
    "   case 'B':\n",
    "        print('greater')\n",
    "         \n",
    "\n",
    "\n",
    "# case match 结构"
   ]
  },
  {
   "cell_type": "markdown",
   "metadata": {},
   "source": [
    "# 遍历 for 循环"
   ]
  },
  {
   "cell_type": "code",
   "execution_count": 25,
   "metadata": {},
   "outputs": [
    {
     "name": "stdout",
     "output_type": "stream",
     "text": [
      "h\n",
      "e\n",
      "l\n",
      "l\n",
      "o\n"
     ]
    }
   ],
   "source": [
    "for i in 'hello':\n",
    "    print(i)\n",
    "\n",
    "    "
   ]
  },
  {
   "cell_type": "code",
   "execution_count": 30,
   "metadata": {},
   "outputs": [
    {
     "name": "stdout",
     "output_type": "stream",
     "text": [
      "2 even\n",
      "4 even\n",
      "6 even\n",
      "8 even\n"
     ]
    }
   ],
   "source": [
    "# range 函数 产生[n,m)的整数序列，包含n，不包含m\n",
    "\n",
    "for i in range(1, 10):\n",
    "    #print(i)\n",
    "    if i % 2 == 0:\n",
    "        print(i,'even')\n",
    "\n"
   ]
  },
  {
   "cell_type": "code",
   "execution_count": 32,
   "metadata": {},
   "outputs": [
    {
     "name": "stdout",
     "output_type": "stream",
     "text": [
      "sum is  55\n"
     ]
    }
   ],
   "source": [
    "# 计算1-10累计加和\n",
    "\n",
    "s = 0\n",
    "for i in range(1,11):\n",
    "    s += i\n",
    "print('sum is ', s)"
   ]
  },
  {
   "cell_type": "code",
   "execution_count": 34,
   "metadata": {},
   "outputs": [
    {
     "name": "stdout",
     "output_type": "stream",
     "text": [
      "153\n",
      "370\n",
      "371\n",
      "407\n"
     ]
    }
   ],
   "source": [
    "# 100到999之间的水仙花数  153 = 3*3*3 + 5*5*5 + 1*1*1\n",
    "\n",
    "for i in range(100,1000):\n",
    "    sd = i % 10  #  153 % 10 ---> 3\n",
    "    tens = i // 10 % 10  # 153 // 10 --> 15 % 10 --> 5\n",
    "    hun = i // 100  #153 // 100 --> 1\n",
    "\n",
    "    if sd ** 3 + tens ** 3 + hun ** 3 == i:\n",
    "        print(i)\n",
    "        "
   ]
  },
  {
   "cell_type": "markdown",
   "metadata": {},
   "source": [
    "# 遍历循环的扩展形式"
   ]
  },
  {
   "cell_type": "code",
   "execution_count": 36,
   "metadata": {},
   "outputs": [
    {
     "name": "stdout",
     "output_type": "stream",
     "text": [
      "sum is 55\n"
     ]
    }
   ],
   "source": [
    "s = 0\n",
    "for i in range(1,11):\n",
    "    s += i\n",
    "else:\n",
    "    print('sum is', s)   # 确认遍历了十遍\n"
   ]
  },
  {
   "cell_type": "markdown",
   "metadata": {},
   "source": [
    "# 无限 while 的使用"
   ]
  },
  {
   "cell_type": "code",
   "execution_count": 38,
   "metadata": {},
   "outputs": [
    {
     "name": "stdout",
     "output_type": "stream",
     "text": [
      "work hard\n",
      "work hard\n",
      "work hard\n",
      "work hard\n",
      "work hard\n",
      "work hard\n"
     ]
    }
   ],
   "source": [
    "ans = input('come to class or not y/n')\n",
    "while ans == 'y':\n",
    "    print('work hard')\n",
    "\n",
    "    ans = input('come to class or not y/n')\n"
   ]
  },
  {
   "cell_type": "code",
   "execution_count": 42,
   "metadata": {},
   "outputs": [
    {
     "name": "stdout",
     "output_type": "stream",
     "text": [
      "1-100 sum is 5050\n"
     ]
    }
   ],
   "source": [
    "# 1-100 sum\n",
    "s = 0\n",
    "i = 1\n",
    "while i <= 100:\n",
    "    s += i\n",
    "    i += 1\n",
    "print('1-100 sum is',s)\n"
   ]
  },
  {
   "cell_type": "markdown",
   "metadata": {},
   "source": [
    "\n",
    "# 无限循环 while 的扩展形式"
   ]
  },
  {
   "cell_type": "code",
   "execution_count": 43,
   "metadata": {},
   "outputs": [
    {
     "name": "stdout",
     "output_type": "stream",
     "text": [
      "1-100 sum is 5050\n"
     ]
    }
   ],
   "source": [
    "# 1-100 sum\n",
    "s = 0\n",
    "i = 1\n",
    "while i <= 100:\n",
    "    s += i\n",
    "    i += 1\n",
    "else:\n",
    "    print('1-100 sum is',s)"
   ]
  },
  {
   "cell_type": "markdown",
   "metadata": {},
   "source": [
    "# 使用无限循环模拟用户登陆"
   ]
  },
  {
   "cell_type": "code",
   "execution_count": 48,
   "metadata": {},
   "outputs": [
    {
     "name": "stdout",
     "output_type": "stream",
     "text": [
      "invalid username or password, you still have 2 chance\n",
      "invalid username or password, you still have 1 chance\n",
      "sorry your account has been locked\n"
     ]
    }
   ],
   "source": [
    "# initialize variables\n",
    "i = 0\n",
    "while i < 3:  # 条件判断\n",
    "    user_name = input('give user name')\n",
    "    pwd = input('give password')\n",
    "    if user_name == 'zyx' and pwd == '999999':\n",
    "        print('login')\n",
    "        i = 4 # 退出循环\n",
    "    else:\n",
    "        if i < 2:\n",
    "            print('invalid username or password, you still have',2 - i, 'chance' )\n",
    "        i += 1\n",
    "if i == 3:\n",
    "    print('sorry your account has been locked')\n"
   ]
  },
  {
   "cell_type": "markdown",
   "metadata": {},
   "source": [
    "# 长方形和直角三角形"
   ]
  },
  {
   "cell_type": "code",
   "execution_count": 51,
   "metadata": {},
   "outputs": [
    {
     "name": "stdout",
     "output_type": "stream",
     "text": [
      "****\n",
      "****\n",
      "****\n"
     ]
    }
   ],
   "source": [
    "# 三行四列\n",
    "\n",
    "for i in range (1,4):\n",
    "    for j in range (1,5):\n",
    "        print('*', end = '')\n",
    "    print()\n",
    "    "
   ]
  },
  {
   "cell_type": "code",
   "execution_count": 54,
   "metadata": {},
   "outputs": [
    {
     "name": "stdout",
     "output_type": "stream",
     "text": [
      "*\n",
      "**\n",
      "***\n",
      "****\n",
      "*****\n"
     ]
    }
   ],
   "source": [
    "for i in range(1,6):\n",
    "    for j in range(1,i+1):\n",
    "        print('*',end='')\n",
    "    print()\n"
   ]
  },
  {
   "cell_type": "markdown",
   "metadata": {},
   "source": [
    "# 倒三角形和等腰三角形"
   ]
  },
  {
   "cell_type": "code",
   "execution_count": 56,
   "metadata": {},
   "outputs": [
    {
     "name": "stdout",
     "output_type": "stream",
     "text": [
      "*****\n",
      "****\n",
      "***\n",
      "**\n",
      "*\n"
     ]
    }
   ],
   "source": [
    "for i in range(1,6):\n",
    "    for j in range(1,7-i):\n",
    "        print('*', end='')\n",
    "    print()"
   ]
  },
  {
   "cell_type": "markdown",
   "metadata": {},
   "source": [
    "# ----*  \n",
    "# ---*** \n",
    "# --*****\n",
    "# -*******"
   ]
  },
  {
   "cell_type": "code",
   "execution_count": 58,
   "metadata": {},
   "outputs": [
    {
     "name": "stdout",
     "output_type": "stream",
     "text": [
      "    *\n",
      "   ***\n",
      "  *****\n",
      " *******\n",
      "*********\n"
     ]
    }
   ],
   "source": [
    "for i in range(1,6):\n",
    "\n",
    "    # 倒三角形\n",
    "    for j in range(1,6-i):\n",
    "        print(' ',end = '')\n",
    "\n",
    "    # 1，3，5，7 等腰三角形  range(1,2) (1,4) (1,6) (1,8)\n",
    "    for k in range(1,i*2):\n",
    "        print('*', end='')\n",
    "    print()"
   ]
  },
  {
   "cell_type": "markdown",
   "metadata": {},
   "source": [
    "# 菱形"
   ]
  },
  {
   "cell_type": "code",
   "execution_count": 72,
   "metadata": {},
   "outputs": [
    {
     "name": "stdout",
     "output_type": "stream",
     "text": [
      "    *\n",
      "   ***\n",
      "  *****\n",
      " *******\n",
      "*********\n",
      " *******\n",
      "  *****\n",
      "   ***\n",
      "    *\n"
     ]
    }
   ],
   "source": [
    "row = eval(input('give the row'))  # 菱形必须是奇数\n",
    "while row % 2 == 0:\n",
    "    print('regive the row')\n",
    "    row = eval(input('give the row'))\n",
    "\n",
    "# output\n",
    "\n",
    "# 上半部分\n",
    "top_row = (row + 1) // 2\n",
    "for i in range(1, top_row + 1):\n",
    "    for j in range(1, top_row + 1 - i):\n",
    "        print(' ',end = '')\n",
    "    for k in range(1, i*2):\n",
    "        print('*',end = '')\n",
    "    print()\n",
    "\n",
    "# 下半部分\n",
    "bottom_row = row// 2\n",
    "\n",
    "for i in range(1, bottom_row + 1):\n",
    "    \n",
    "    for j in range(1,i+1):\n",
    "        print(' ',end = '')\n",
    "\n",
    "    #(1,6) (1,4) (1,2)\n",
    "    for k in range(1, 2 * bottom_row - i * 2 + 2):\n",
    "        print('*',end = '')\n",
    "    print()\n",
    "\n"
   ]
  },
  {
   "cell_type": "markdown",
   "metadata": {},
   "source": [
    "# 空心菱形"
   ]
  },
  {
   "cell_type": "code",
   "execution_count": 76,
   "metadata": {},
   "outputs": [
    {
     "name": "stdout",
     "output_type": "stream",
     "text": [
      "    *\n",
      "   * *\n",
      "  *   *\n",
      " *     *\n",
      "*       *\n",
      " *     *\n",
      "  *   *\n",
      "   * *\n",
      "    *\n"
     ]
    }
   ],
   "source": [
    "row = eval(input('give the row'))  # 菱形必须是奇数\n",
    "while row % 2 == 0:\n",
    "    print('regive the row')\n",
    "    row = eval(input('give the row'))\n",
    "\n",
    "# output\n",
    "\n",
    "# 上半部分\n",
    "top_row = (row + 1) // 2\n",
    "for i in range(1, top_row + 1):\n",
    "    for j in range(1, top_row + 1 - i):\n",
    "        print(' ',end = '')\n",
    "    for k in range(1, i*2):\n",
    "\n",
    "        # 空心菱形加一个判断\n",
    "        if k == 1 or k == i * 2 -1:\n",
    "            print('*',end = '')\n",
    "        else:\n",
    "            print(' ',end = '')\n",
    "\n",
    "\n",
    "        \n",
    "    print()\n",
    "\n",
    "# 下半部分\n",
    "bottom_row = row// 2\n",
    "\n",
    "for i in range(1, bottom_row + 1):\n",
    "    \n",
    "    for j in range(1,i+1):\n",
    "        print(' ',end = '')\n",
    "\n",
    "    #(1,6) (1,4) (1,2)\n",
    "    for k in range(1, 2 * bottom_row - i * 2 + 2):\n",
    "\n",
    "\n",
    "\n",
    "        # 空心菱形加一个判断\n",
    "        if k == 1 or k == 2 * bottom_row - i * 2 + 1:\n",
    "            print('*',end = '')\n",
    "        else:\n",
    "            print(' ', end='')\n",
    "\n",
    "\n",
    "\n",
    "\n",
    "\n",
    "        \n",
    "    print()"
   ]
  },
  {
   "cell_type": "markdown",
   "metadata": {},
   "source": [
    "# 跳转语句 break 在 while 中的使用"
   ]
  },
  {
   "cell_type": "code",
   "execution_count": 81,
   "metadata": {},
   "outputs": [
    {
     "name": "stdout",
     "output_type": "stream",
     "text": [
      "when sum greater than 20, variable is 6\n"
     ]
    }
   ],
   "source": [
    "s = 0\n",
    "i = 1\n",
    "while i < 11:\n",
    "    s += i\n",
    "    if s > 20:\n",
    "        print('when sum greater than 20, variable is', i)\n",
    "        break\n",
    "    i += 1"
   ]
  },
  {
   "cell_type": "code",
   "execution_count": 82,
   "metadata": {},
   "outputs": [
    {
     "name": "stdout",
     "output_type": "stream",
     "text": [
      "you have 2 chance\n",
      "you have 1 chance\n",
      "locked\n"
     ]
    }
   ],
   "source": [
    "i = 0 # 登陆次数\n",
    "while i < 3:\n",
    "    user_name = input('give user name')\n",
    "    pwd = input('give password')\n",
    "    if user_name == 'zyx' and pwd == '1':\n",
    "        print('login')\n",
    "        break\n",
    "    else:\n",
    "        if i < 2:\n",
    "            print('you have',2-i,'chance')\n",
    "        i += 1\n",
    "else:\n",
    "    print('locked')"
   ]
  },
  {
   "cell_type": "markdown",
   "metadata": {},
   "source": [
    "# break 在 for 循环中使用"
   ]
  },
  {
   "cell_type": "code",
   "execution_count": 84,
   "metadata": {},
   "outputs": [
    {
     "name": "stdout",
     "output_type": "stream",
     "text": [
      "h\n",
      "e\n",
      "l\n",
      "l\n"
     ]
    }
   ],
   "source": [
    "for i in 'hello':\n",
    "    if i == 'o':\n",
    "        break\n",
    "    print(i)"
   ]
  },
  {
   "cell_type": "code",
   "execution_count": 85,
   "metadata": {},
   "outputs": [
    {
     "name": "stdout",
     "output_type": "stream",
     "text": [
      "you have 2 chance\n",
      "you have 1 chance\n",
      "locked\n"
     ]
    }
   ],
   "source": [
    "for i in range(3):\n",
    "    user_name = input('give user name')\n",
    "    pwd = input('give password')\n",
    "    if user_name == 'zyx' and pwd == '1':\n",
    "        print('login')\n",
    "        break\n",
    "    else:\n",
    "        if i < 2:\n",
    "            print('you have',2-i,'chance')\n",
    "        i += 1\n",
    "else:\n",
    "    print('locked')"
   ]
  },
  {
   "cell_type": "markdown",
   "metadata": {},
   "source": [
    "#  跳转语句 continue 在 while 中的使用"
   ]
  },
  {
   "cell_type": "code",
   "execution_count": 90,
   "metadata": {},
   "outputs": [
    {
     "name": "stdout",
     "output_type": "stream",
     "text": [
      "sum of even between 1-100: 2550\n"
     ]
    }
   ],
   "source": [
    "s = 0\n",
    "i = 1\n",
    "while i < 100:\n",
    "    if i%2==1:\n",
    "        i += 1\n",
    "        continue\n",
    "    s += i\n",
    "    i += 1\n",
    "print('sum of even between 1-99:',s)"
   ]
  },
  {
   "cell_type": "markdown",
   "metadata": {},
   "source": [
    "# continue 在 for 循环中的使用"
   ]
  },
  {
   "cell_type": "code",
   "execution_count": 89,
   "metadata": {},
   "outputs": [
    {
     "name": "stdout",
     "output_type": "stream",
     "text": [
      "sum of even between 1-100: 2550\n"
     ]
    }
   ],
   "source": [
    "s = 0 \n",
    "for i in range(1,101):\n",
    "    if i%2==1:\n",
    "        i+=1\n",
    "        continue\n",
    "    s+=i\n",
    "    i+=1\n",
    "print('sum of even between 1-100:',s)\n"
   ]
  },
  {
   "cell_type": "markdown",
   "metadata": {},
   "source": [
    "# 空语句 pass"
   ]
  },
  {
   "cell_type": "code",
   "execution_count": 94,
   "metadata": {},
   "outputs": [],
   "source": [
    "if True:\n",
    "    pass\n",
    "\n",
    "\n",
    "for i in range(10):\n",
    "    pass\n",
    "\n",
    "while True:\n",
    "    #pass\n",
    "    break\n",
    "\n",
    "\n"
   ]
  },
  {
   "cell_type": "markdown",
   "metadata": {},
   "source": [
    "# --------------------------------------------------------------------------"
   ]
  },
  {
   "cell_type": "markdown",
   "metadata": {},
   "source": [
    "# 输入年份 判断是否是闰年\n",
    "能被4整除但不能被100整除，或者被400整除"
   ]
  },
  {
   "cell_type": "code",
   "execution_count": 100,
   "metadata": {},
   "outputs": [
    {
     "name": "stdout",
     "output_type": "stream",
     "text": [
      "2026 is 平年\n"
     ]
    }
   ],
   "source": [
    "year = eval(input('give a year:'))\n",
    "if (year%4==0 and year%100!=0) or year%400==0:\n",
    "    print(year,'is 闰年')\n",
    "else:\n",
    "    print(year,'is 平年')\n",
    "\n"
   ]
  },
  {
   "cell_type": "markdown",
   "metadata": {},
   "source": [
    "# 模拟10086查询功能\n",
    "输入1 显示当前余额  \n",
    "输入2 显示当前的剩余流量  \n",
    "输入3 显示当前剩余通话  \n",
    "输入0 退出自助查询系统  "
   ]
  },
  {
   "cell_type": "code",
   "execution_count": 107,
   "metadata": {},
   "outputs": [
    {
     "name": "stdout",
     "output_type": "stream",
     "text": [
      "当前余额为: 234 元\n",
      "剩余流量为: 14 G\n",
      "剩余通话为: 5000 分钟\n",
      "invalid operation\n",
      "谢谢使用\n"
     ]
    }
   ],
   "source": [
    "s1 = 234\n",
    "s2 = 14\n",
    "s3 = 5000\n",
    "\n",
    "ans = 'y'\n",
    "\n",
    "while ans == 'y':\n",
    "    operation = input('请输入您当前需要需要执行的操作：')\n",
    "    \n",
    "    if operation == '1':\n",
    "        print('当前余额为:',s1,'元')\n",
    "    elif operation == '2':\n",
    "        print('剩余流量为:',s2,'G')\n",
    "    elif operation == '3':\n",
    "        print('剩余通话为:',s3,'分钟')\n",
    "    elif operation == '0':\n",
    "        print('谢谢使用')\n",
    "        break\n",
    "    else:\n",
    "        print('invalid operation')\n",
    "    ans = input('还继续操作吗？ y/n')\n",
    "else:\n",
    "    print('谢谢使用')\n",
    "\n",
    "\n",
    "    \n"
   ]
  },
  {
   "cell_type": "markdown",
   "metadata": {},
   "source": [
    "# 嵌套循环输出九九乘法表\n",
    " 1 * 1 = 1  \n",
    " 1 * 2 = 2---2 * 2 = 4  \n",
    "…………\n",
    " "
   ]
  },
  {
   "cell_type": "code",
   "execution_count": 111,
   "metadata": {},
   "outputs": [
    {
     "name": "stdout",
     "output_type": "stream",
     "text": [
      "1*1=1\t\n",
      "1*2=2\t2*2=4\t\n",
      "1*3=3\t2*3=6\t3*3=9\t\n",
      "1*4=4\t2*4=8\t3*4=12\t4*4=16\t\n",
      "1*5=5\t2*5=10\t3*5=15\t4*5=20\t5*5=25\t\n",
      "1*6=6\t2*6=12\t3*6=18\t4*6=24\t5*6=30\t6*6=36\t\n",
      "1*7=7\t2*7=14\t3*7=21\t4*7=28\t5*7=35\t6*7=42\t7*7=49\t\n",
      "1*8=8\t2*8=16\t3*8=24\t4*8=32\t5*8=40\t6*8=48\t7*8=56\t8*8=64\t\n",
      "1*9=9\t2*9=18\t3*9=27\t4*9=36\t5*9=45\t6*9=54\t7*9=63\t8*9=72\t9*9=81\t\n"
     ]
    }
   ],
   "source": [
    "for i in range(1,10):\n",
    "    for j in range(1,i+1):\n",
    "        print(str(j)+'*'+str(i)+'='+str(j*i),end='\\t')\n",
    "    print()\n"
   ]
  },
  {
   "cell_type": "markdown",
   "metadata": {},
   "source": [
    "# 猜数游戏\n",
    "随机生成1-100之间整数，对于用户输入，提示大了小了，直到准确为止，输出用户猜测次数\n"
   ]
  },
  {
   "cell_type": "code",
   "execution_count": 113,
   "metadata": {},
   "outputs": [
    {
     "name": "stdout",
     "output_type": "stream",
     "text": [
      "smaller number\n",
      "smaller number\n",
      "smaller number\n",
      "smaller number\n",
      "smaller number\n",
      "congratulation! you guessed 6 times\n"
     ]
    }
   ],
   "source": [
    "import random\n",
    "rand = random.randint(1,100)\n",
    "i = 1\n",
    "\n",
    "num = eval(input('guess a random number'))\n",
    "while num != rand:\n",
    "    if num > rand:\n",
    "        print('bigger number')\n",
    "    else:\n",
    "        print('smaller number')\n",
    "    i += 1\n",
    "    num = eval(input('guess a random number'))\n",
    "else:\n",
    "    print('congratulation! you guessed',i,'times')\n",
    "    "
   ]
  },
  {
   "cell_type": "code",
   "execution_count": null,
   "metadata": {},
   "outputs": [],
   "source": []
  }
 ],
 "metadata": {
  "kernelspec": {
   "display_name": "Python 3",
   "language": "python",
   "name": "python3"
  },
  "language_info": {
   "codemirror_mode": {
    "name": "ipython",
    "version": 3
   },
   "file_extension": ".py",
   "mimetype": "text/x-python",
   "name": "python",
   "nbconvert_exporter": "python",
   "pygments_lexer": "ipython3",
   "version": "3.12.1"
  }
 },
 "nbformat": 4,
 "nbformat_minor": 2
}
