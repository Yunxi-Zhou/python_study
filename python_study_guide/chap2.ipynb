{
 "cells": [
  {
   "cell_type": "code",
   "execution_count": 1,
   "metadata": {},
   "outputs": [
    {
     "name": "stdout",
     "output_type": "stream",
     "text": [
      "90\n",
      "100\n",
      "5000\n"
     ]
    }
   ],
   "source": [
    "# 例子1\n",
    "\n",
    "\n",
    "a = 100\n",
    "b = 50\n",
    "print(90)\n",
    "print(a)\n",
    "print(a*b)\n",
    "\n",
    "\n",
    "print('hello world ')\n",
    "print(\"hello world\")\n",
    "print('''hello world''')\n",
    "print(\"\"\"hello world\"\"\")\n",
    "\n",
    "\n",
    "\n",
    "\n"
   ]
  },
  {
   "cell_type": "code",
   "execution_count": 2,
   "metadata": {},
   "outputs": [
    {
     "name": "stdout",
     "output_type": "stream",
     "text": [
      "100 50 hello world\n"
     ]
    }
   ],
   "source": [
    "# 例子2\n",
    "\n",
    "a = 100\n",
    "b = 50\n",
    "\n",
    "\n",
    "print(a, b, 'hello world')\n",
    "\n"
   ]
  },
  {
   "cell_type": "code",
   "execution_count": 3,
   "metadata": {},
   "outputs": [
    {
     "name": "stdout",
     "output_type": "stream",
     "text": [
      "b\n",
      "b\n",
      "c\n",
      "C\n",
      "8\n",
      "8\n",
      "]\n",
      "[\n"
     ]
    }
   ],
   "source": [
    "# 例子3\n",
    "\n",
    "print('b')\n",
    "print(chr(98))\n",
    "print('c')\n",
    "print(chr(67))\n",
    "print(8)\n",
    "print(chr(56))\n",
    "print(']')\n",
    "print(chr(91))\n",
    "\n"
   ]
  },
  {
   "cell_type": "code",
   "execution_count": 5,
   "metadata": {},
   "outputs": [
    {
     "name": "stdout",
     "output_type": "stream",
     "text": [
      "21271\n",
      "20140\n",
      "北 京\n"
     ]
    }
   ],
   "source": [
    "# 例子4\n",
    "\n",
    "print(ord('北'))\n",
    "print(ord('京'))\n",
    "\n",
    "print(chr(21271),chr(20140))\n",
    "\n"
   ]
  },
  {
   "cell_type": "code",
   "execution_count": 1,
   "metadata": {},
   "outputs": [],
   "source": [
    "# 例子5\n",
    "\n",
    "#fp = open('note.txt', 'w')\n",
    "#print('hello world', file=fp)\n",
    "#fp.close()\n",
    "\n",
    "# 打开文件 write 将hello world输出到note.txt文件中，关闭文件\n",
    "\n",
    "\n",
    "\n",
    "\n"
   ]
  },
  {
   "cell_type": "code",
   "execution_count": 5,
   "metadata": {},
   "outputs": [
    {
     "name": "stdout",
     "output_type": "stream",
     "text": [
      "beijing welcome you\n"
     ]
    }
   ],
   "source": [
    "# 例子6\n",
    "\n",
    "\n",
    "print('beijing',end=' ')\n",
    "print('welcome you')\n"
   ]
  },
  {
   "cell_type": "code",
   "execution_count": 9,
   "metadata": {},
   "outputs": [
    {
     "name": "stdout",
     "output_type": "stream",
     "text": [
      "beijing welcome you2023\n"
     ]
    }
   ],
   "source": [
    "# 例子7\n",
    "\n",
    "\n",
    "print('beijing welcome you'+'2023')  # +就没有空格\n",
    "# print('beijing welcome you'+2023)  TypeError: can only concatenate str (not \"int\") to str\n",
    "\n",
    "\n",
    "\n"
   ]
  },
  {
   "cell_type": "code",
   "execution_count": 1,
   "metadata": {},
   "outputs": [
    {
     "name": "stdout",
     "output_type": "stream",
     "text": [
      "my number is89\n",
      "my number is 89\n"
     ]
    }
   ],
   "source": [
    "# 例子8\n",
    "\n",
    "num = input('put your number here:')\n",
    "print('my number is'+ num)\n",
    "num = int(num)\n",
    "print('my number is', num)\n",
    "\n",
    "\n",
    "\n"
   ]
  },
  {
   "cell_type": "code",
   "execution_count": 2,
   "metadata": {},
   "outputs": [
    {
     "name": "stdout",
     "output_type": "stream",
     "text": [
      "hello\n",
      "world\n"
     ]
    }
   ],
   "source": [
    "# 例子9\n",
    "print('hello')\n",
    "print('world')\n",
    "\n",
    "class student:\n",
    "    pass\n",
    "\n",
    "def fun():\n",
    "    pass\n",
    "\n",
    "\n",
    "\n"
   ]
  },
  {
   "cell_type": "code",
   "execution_count": 1,
   "metadata": {},
   "outputs": [
    {
     "name": "stdout",
     "output_type": "stream",
     "text": [
      "Mr. Ali is bald\n"
     ]
    }
   ],
   "source": []
  }
 ],
 "metadata": {
  "kernelspec": {
   "display_name": "Python 3",
   "language": "python",
   "name": "python3"
  },
  "language_info": {
   "codemirror_mode": {
    "name": "ipython",
    "version": 3
   },
   "file_extension": ".py",
   "mimetype": "text/x-python",
   "name": "python",
   "nbconvert_exporter": "python",
   "pygments_lexer": "ipython3",
   "version": "3.9.6"
  }
 },
 "nbformat": 4,
 "nbformat_minor": 2
}
