{
 "cells": [
  {
   "cell_type": "markdown",
   "metadata": {},
   "source": [
    "# 找出不同元素数目差\n",
    "\n"
   ]
  },
  {
   "cell_type": "code",
   "execution_count": 2,
   "metadata": {},
   "outputs": [
    {
     "name": "stdout",
     "output_type": "stream",
     "text": [
      "2\n",
      "4\n",
      "1\n",
      "--------------------\n",
      "3\n",
      "1\n",
      "--------------------\n",
      "2\n",
      "0\n",
      "--------------------\n",
      "1\n",
      "0\n",
      "--------------------\n",
      "0\n",
      "0\n",
      "--------------------\n"
     ]
    }
   ],
   "source": [
    "nums = [3,2,3,4,2]\n",
    "\n",
    "#print(len(nums[1:]))\n",
    "\n",
    "\n",
    "hash_table = dict()\n",
    "\n",
    "hash_table[nums[0]]=0\n",
    "hash_table[nums[1]]=1\n",
    "hash_table[nums[2]]=2\n",
    "\n",
    "print(len(hash_table))\n",
    "\n",
    "for i in range(0,len(nums)):\n",
    "    print(len(nums[i:])-1)\n",
    "    print(nums[i:].count(nums[i]) - 1)\n",
    "    print('-'*20)"
   ]
  },
  {
   "cell_type": "code",
   "execution_count": 1,
   "metadata": {},
   "outputs": [
    {
     "name": "stdout",
     "output_type": "stream",
     "text": [
      "left hash: {3: 0}\n",
      "right hash: {2: 1}\n",
      "right hash: {2: 1, 3: 2}\n",
      "right hash: {2: 1, 3: 2, 4: 3}\n",
      "right hash: {2: 4, 3: 2, 4: 3}\n",
      "clear right hash:  {}\n",
      "left hash: {3: 0, 2: 1}\n",
      "right hash: {3: 2}\n",
      "right hash: {3: 2, 4: 3}\n",
      "right hash: {3: 2, 4: 3, 2: 4}\n",
      "clear right hash:  {}\n",
      "left hash: {3: 2, 2: 1}\n",
      "right hash: {4: 3}\n",
      "right hash: {4: 3, 2: 4}\n",
      "clear right hash:  {}\n",
      "left hash: {3: 2, 2: 1, 4: 3}\n",
      "right hash: {2: 4}\n",
      "clear right hash:  {}\n",
      "left hash: {3: 2, 2: 4, 4: 3}\n",
      "clear right hash:  {}\n"
     ]
    },
    {
     "data": {
      "text/plain": [
       "[-2, -1, 0, 2, 3]"
      ]
     },
     "execution_count": 1,
     "metadata": {},
     "output_type": "execute_result"
    }
   ],
   "source": [
    "class Solution:\n",
    "    def distinctDifferenceArray(self, nums: list[int]) -> list[int]:\n",
    "\n",
    "        left_hash=dict()\n",
    "        right_hash=dict()\n",
    "        for i in range(0,len(nums)):\n",
    "            left_hash[nums[i]] = i\n",
    "\n",
    "            print('left hash:', left_hash)\n",
    "            \n",
    "            for j in range(i+1,len(nums)):\n",
    "                right_hash[nums[j]] = j\n",
    "\n",
    "                print('right hash:', right_hash)\n",
    "\n",
    "            left = len(left_hash)\n",
    "            right = len(right_hash)\n",
    "\n",
    "            nums[i]=left-right\n",
    "\n",
    "            right_hash.clear()\n",
    "            print('clear right hash: ', right_hash)\n",
    "        return nums\n",
    "\n",
    "    \n",
    "s = Solution()\n",
    "s.distinctDifferenceArray([3,2,3,4,2])"
   ]
  }
 ],
 "metadata": {
  "kernelspec": {
   "display_name": "Python 3",
   "language": "python",
   "name": "python3"
  },
  "language_info": {
   "codemirror_mode": {
    "name": "ipython",
    "version": 3
   },
   "file_extension": ".py",
   "mimetype": "text/x-python",
   "name": "python",
   "nbconvert_exporter": "python",
   "pygments_lexer": "ipython3",
   "version": "3.12.1"
  }
 },
 "nbformat": 4,
 "nbformat_minor": 2
}
