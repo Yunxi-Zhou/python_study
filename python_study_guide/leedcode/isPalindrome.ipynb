{
 "cells": [
  {
   "cell_type": "markdown",
   "metadata": {},
   "source": [
    "# 回文数\n",
    "\n",
    "整数x，如果回文数，true， or false\n",
    "\n",
    "121--> yes，123-> not, -121 -> not, 10 -> not"
   ]
  },
  {
   "cell_type": "code",
   "execution_count": 1,
   "metadata": {},
   "outputs": [
    {
     "name": "stdout",
     "output_type": "stream",
     "text": [
      "True\n",
      "9\n"
     ]
    }
   ],
   "source": [
    "class Solution:\n",
    "    def isPalindrome(self, x:int)->bool:\n",
    "        lst=list('{0:d}'.format(x))\n",
    "        for i in range(len(lst)//2):\n",
    "            if lst[i] != lst[len(lst)-i-1]:\n",
    "                return False\n",
    "            \n",
    "        return True\n",
    "    \n",
    "s = Solution()\n",
    "print(s.isPalindrome(9))\n",
    "\n",
    "print(9%10)\n",
    "\n",
    "        "
   ]
  }
 ],
 "metadata": {
  "kernelspec": {
   "display_name": "Python 3",
   "language": "python",
   "name": "python3"
  },
  "language_info": {
   "codemirror_mode": {
    "name": "ipython",
    "version": 3
   },
   "file_extension": ".py",
   "mimetype": "text/x-python",
   "name": "python",
   "nbconvert_exporter": "python",
   "pygments_lexer": "ipython3",
   "version": "3.9.6"
  }
 },
 "nbformat": 4,
 "nbformat_minor": 2
}
