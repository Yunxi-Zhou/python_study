{
 "cells": [
  {
   "cell_type": "markdown",
   "metadata": {},
   "source": [
    "# 两数之和  \n",
    "\n",
    "整数数组nums和整数目标target，sum为target的两个整数，并返回它们的数组下标   \n",
    "\n",
    "元素不能重复\n",
    "\n"
   ]
  },
  {
   "cell_type": "code",
   "execution_count": 1,
   "metadata": {},
   "outputs": [
    {
     "data": {
      "text/plain": [
       "[0, 1]"
      ]
     },
     "execution_count": 1,
     "metadata": {},
     "output_type": "execute_result"
    }
   ],
   "source": [
    "class Solution:\n",
    "    def twoSum(self, nums:list[int],target:int)->list[int]:\n",
    "        n=len(nums)\n",
    "        for i in range(n):\n",
    "            for j in range(i+1,n):\n",
    "                if nums[i]+nums[j]==target:\n",
    "                    return [i,j]\n",
    "        return []\n",
    "\n",
    "\n",
    "sum1=Solution()\n",
    "sum1.twoSum([3,3],6)"
   ]
  },
  {
   "cell_type": "markdown",
   "metadata": {},
   "source": [
    "# hash table"
   ]
  },
  {
   "cell_type": "code",
   "execution_count": 2,
   "metadata": {},
   "outputs": [
    {
     "data": {
      "text/plain": [
       "[1, 2]"
      ]
     },
     "execution_count": 2,
     "metadata": {},
     "output_type": "execute_result"
    }
   ],
   "source": [
    "class Solution:\n",
    "    def twoSum(self, nums:list[int],target:int)->list[int]:\n",
    "        hash_table = dict()\n",
    "        for i,num in enumerate(nums):\n",
    "            if (target - num) in hash_table:\n",
    "                return [hash_table[target-num],i]\n",
    "            hash_table[num] = i\n",
    "\n",
    "\n",
    "\n",
    "sum1=Solution()\n",
    "sum1.twoSum([3,3,4],7)     \n"
   ]
  }
 ],
 "metadata": {
  "kernelspec": {
   "display_name": "Python 3",
   "language": "python",
   "name": "python3"
  },
  "language_info": {
   "codemirror_mode": {
    "name": "ipython",
    "version": 3
   },
   "file_extension": ".py",
   "mimetype": "text/x-python",
   "name": "python",
   "nbconvert_exporter": "python",
   "pygments_lexer": "ipython3",
   "version": "3.9.6"
  }
 },
 "nbformat": 4,
 "nbformat_minor": 2
}
