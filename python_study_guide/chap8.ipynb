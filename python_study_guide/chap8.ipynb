{
 "cells": [
  {
   "cell_type": "markdown",
   "metadata": {},
   "source": [
    "# 函数的定义及使用\n",
    "  \n",
    "# 内置函数\n",
    "print(),input(),list()...\n",
    "  \n",
    "# 自定义函数\n",
    "def 函数名称(参数列表):  \n",
    "    函数体  \n",
    "    return返回值  \n",
    "  \n",
    "# 函数调用\n",
    "函数名称(参数列表)"
   ]
  },
  {
   "cell_type": "code",
   "execution_count": 1,
   "metadata": {},
   "outputs": [],
   "source": [
    "def get_sum(num):  # num是形参 10，100，1000是实参\n",
    "    s=0\n",
    "    for i in range(1,num+1):\n",
    "        s+=i\n",
    "    print(f'1到{num}的累加和为: {s}')"
   ]
  },
  {
   "cell_type": "code",
   "execution_count": 4,
   "metadata": {},
   "outputs": [
    {
     "name": "stdout",
     "output_type": "stream",
     "text": [
      "1到10的累加和为: 55\n",
      "1到100的累加和为: 5050\n",
      "1到1000的累加和为: 500500\n"
     ]
    }
   ],
   "source": [
    "get_sum(10)\n",
    "get_sum(100)\n",
    "get_sum(1000)"
   ]
  },
  {
   "cell_type": "markdown",
   "metadata": {},
   "source": [
    "# 位置参数的使用\n",
    "  \n",
    "调用时的参数个数和顺序必须和定义的参数个数和顺序相同  "
   ]
  },
  {
   "cell_type": "code",
   "execution_count": 2,
   "metadata": {},
   "outputs": [],
   "source": [
    "def happy_birthday(name,age):\n",
    "    print(f'祝{name}生日快乐')\n",
    "    print('{0}生日快乐'.format(str(age)))"
   ]
  },
  {
   "cell_type": "code",
   "execution_count": 3,
   "metadata": {},
   "outputs": [
    {
     "name": "stdout",
     "output_type": "stream",
     "text": [
      "祝zyx生日快乐\n",
      "25生日快乐\n"
     ]
    }
   ],
   "source": [
    "happy_birthday('zyx',25)\n"
   ]
  },
  {
   "cell_type": "markdown",
   "metadata": {},
   "source": [
    "# 关键字传参的使用\n",
    "  \n",
    "在函数调用时，使用 ‘形参名称=值’ 的方式进行传参，传递参数顺序可以与定义时参数的顺序不同\n"
   ]
  },
  {
   "cell_type": "code",
   "execution_count": 6,
   "metadata": {},
   "outputs": [
    {
     "name": "stdout",
     "output_type": "stream",
     "text": [
      "祝zyx生日快乐\n",
      "25生日快乐\n"
     ]
    }
   ],
   "source": [
    "#happy_birthday('zyx') TypeError: happy_birthday() missing 1 required positional argument: 'age'\n",
    "happy_birthday(age=25,name='zyx')\n"
   ]
  },
  {
   "cell_type": "markdown",
   "metadata": {},
   "source": [
    "# 位置参数在前，关键字参数在后"
   ]
  },
  {
   "cell_type": "code",
   "execution_count": 5,
   "metadata": {},
   "outputs": [
    {
     "name": "stdout",
     "output_type": "stream",
     "text": [
      "祝xyz生日快乐\n",
      "33生日快乐\n"
     ]
    }
   ],
   "source": [
    "happy_birthday('xyz',age=33)  # 正常传参，也可以关键字传参\n",
    "\n",
    "#happy_birthday(name='zyx',66)  SyntaxError: positional argument follows keyword argument"
   ]
  },
  {
   "cell_type": "markdown",
   "metadata": {},
   "source": [
    "# 默认值参数\n",
    "  \n",
    "在函数定义时，直接对形参进行赋值，在调用时如果该参数不传值，将使用默认值，  \n",
    "  \n",
    "如果该参数传值，则使用传递的值"
   ]
  },
  {
   "cell_type": "markdown",
   "metadata": {},
   "source": [
    "# 默认值参数的使用"
   ]
  },
  {
   "cell_type": "code",
   "execution_count": 13,
   "metadata": {},
   "outputs": [],
   "source": [
    "def happy_birthday(name='zyx',age=18):\n",
    "    print(f'祝{name}生日快乐')\n",
    "    print('{0}生日快乐'.format(str(age)))\n",
    "    print('-'*20)"
   ]
  },
  {
   "cell_type": "code",
   "execution_count": 14,
   "metadata": {},
   "outputs": [
    {
     "name": "stdout",
     "output_type": "stream",
     "text": [
      "祝zyx生日快乐\n",
      "18生日快乐\n",
      "--------------------\n"
     ]
    }
   ],
   "source": [
    "happy_birthday()  # 不用传参"
   ]
  },
  {
   "cell_type": "code",
   "execution_count": 15,
   "metadata": {},
   "outputs": [
    {
     "name": "stdout",
     "output_type": "stream",
     "text": [
      "祝lxh生日快乐\n",
      "18生日快乐\n",
      "--------------------\n",
      "祝zyx生日快乐\n",
      "19生日快乐\n",
      "--------------------\n",
      "祝19生日快乐\n",
      "18生日快乐\n",
      "--------------------\n"
     ]
    }
   ],
   "source": [
    "happy_birthday('lxh') # 位置传参\n",
    "\n",
    "happy_birthday(age=19) #关键字传参，name采用默认值\n",
    "\n",
    "happy_birthday(19)   # 使用位置参数，19传给name"
   ]
  },
  {
   "cell_type": "markdown",
   "metadata": {},
   "source": [
    "# 位置参数在前，默认值参数在后"
   ]
  },
  {
   "cell_type": "code",
   "execution_count": 16,
   "metadata": {},
   "outputs": [],
   "source": [
    "def fun(a,b=20):   #a为位置，b默认值参数值\n",
    "    pass"
   ]
  },
  {
   "cell_type": "code",
   "execution_count": 34,
   "metadata": {},
   "outputs": [
    {
     "ename": "SyntaxError",
     "evalue": "non-default argument follows default argument (404295901.py, line 1)",
     "output_type": "error",
     "traceback": [
      "\u001b[0;36m  Cell \u001b[0;32mIn[34], line 1\u001b[0;36m\u001b[0m\n\u001b[0;31m    def fun2(a=20,b):  # 位置参数和关键字参数同时存在时，位置参数在后会被报错\u001b[0m\n\u001b[0m                   ^\u001b[0m\n\u001b[0;31mSyntaxError\u001b[0m\u001b[0;31m:\u001b[0m non-default argument follows default argument\n"
     ]
    }
   ],
   "source": [
    "def fun2(a=20,b):  # 位置参数和关键字参数同时存在时，位置参数在后会被报错\n",
    "    pass"
   ]
  },
  {
   "cell_type": "markdown",
   "metadata": {},
   "source": [
    "# 可变参数的使用"
   ]
  },
  {
   "cell_type": "code",
   "execution_count": 23,
   "metadata": {},
   "outputs": [],
   "source": [
    "def fun(*para):\n",
    "    print(type(para))\n",
    "    for item in para:\n",
    "        print(item)\n",
    "    print('-'*20)\n",
    "    \n"
   ]
  },
  {
   "cell_type": "code",
   "execution_count": 28,
   "metadata": {},
   "outputs": [
    {
     "name": "stdout",
     "output_type": "stream",
     "text": [
      "<class 'tuple'>\n",
      "10\n",
      "20\n",
      "30\n",
      "40\n",
      "--------------------\n",
      "<class 'tuple'>\n",
      "10\n",
      "--------------------\n",
      "<class 'tuple'>\n",
      "20\n",
      "30\n",
      "--------------------\n"
     ]
    }
   ],
   "source": [
    "fun(10,20,30,40)\n",
    "\n",
    "fun(10)\n",
    "\n",
    "fun(20,30)"
   ]
  },
  {
   "cell_type": "markdown",
   "metadata": {},
   "source": [
    "# 在调用时，参数前加*，分将列表进行解包"
   ]
  },
  {
   "cell_type": "code",
   "execution_count": 29,
   "metadata": {},
   "outputs": [
    {
     "name": "stdout",
     "output_type": "stream",
     "text": [
      "<class 'tuple'>\n",
      "[10, 20, 30, 40]\n",
      "--------------------\n",
      "<class 'tuple'>\n",
      "10\n",
      "20\n",
      "30\n",
      "40\n",
      "--------------------\n"
     ]
    }
   ],
   "source": [
    "fun([10,20,30,40]) #传递一个函数\n",
    "\n",
    "# 在调用时，参数前加*，分将列表进行解包\n",
    "fun(*[10,20,30,40])"
   ]
  },
  {
   "cell_type": "markdown",
   "metadata": {},
   "source": [
    "# 个数可变的关键字参数"
   ]
  },
  {
   "cell_type": "code",
   "execution_count": 30,
   "metadata": {},
   "outputs": [],
   "source": [
    "def fun2(**kw_para):\n",
    "    print(type(kw_para))\n",
    "    for key,value in kw_para.items():\n",
    "        print(key,'---',value)\n"
   ]
  },
  {
   "cell_type": "code",
   "execution_count": 31,
   "metadata": {},
   "outputs": [
    {
     "name": "stdout",
     "output_type": "stream",
     "text": [
      "<class 'dict'>\n",
      "name --- zyx\n",
      "age --- 18\n",
      "height --- 222\n"
     ]
    }
   ],
   "source": [
    "fun2(name='zyx',age=18,height=222)"
   ]
  },
  {
   "cell_type": "code",
   "execution_count": 33,
   "metadata": {},
   "outputs": [
    {
     "name": "stdout",
     "output_type": "stream",
     "text": [
      "<class 'dict'>\n",
      "name --- zyx\n",
      "age --- 18\n",
      "height --- 222\n"
     ]
    }
   ],
   "source": [
    "d={'name':'zyx','age':18,'height':222}\n",
    "\n",
    "#fun2(d)  TypeError: fun2() takes 0 positional arguments but 1 was given\n",
    "\n",
    "fun2(**d)  #解包"
   ]
  },
  {
   "cell_type": "markdown",
   "metadata": {},
   "source": [
    "# 函数返回值的使用\n"
   ]
  },
  {
   "cell_type": "code",
   "execution_count": 34,
   "metadata": {},
   "outputs": [],
   "source": [
    "# 函数返回值\n",
    "\n",
    "def calc(a,b):\n",
    "    print(a+b)"
   ]
  },
  {
   "cell_type": "code",
   "execution_count": 37,
   "metadata": {},
   "outputs": [
    {
     "name": "stdout",
     "output_type": "stream",
     "text": [
      "30\n",
      "3\n",
      "None\n"
     ]
    }
   ],
   "source": [
    "calc(10,20)\n",
    "\n",
    "print(calc(1,2))\n"
   ]
  },
  {
   "cell_type": "code",
   "execution_count": 38,
   "metadata": {},
   "outputs": [],
   "source": [
    "def calc2(a,b):\n",
    "    s=a+b\n",
    "    return s # 将s返回给函数的调用处去使用\n",
    "\n",
    "    "
   ]
  },
  {
   "cell_type": "code",
   "execution_count": 41,
   "metadata": {},
   "outputs": [
    {
     "name": "stdout",
     "output_type": "stream",
     "text": [
      "3\n"
     ]
    }
   ],
   "source": [
    "get_s=calc2(1,2)  #存储到变量中\n",
    "print(get_s)"
   ]
  },
  {
   "cell_type": "code",
   "execution_count": 42,
   "metadata": {},
   "outputs": [
    {
     "name": "stdout",
     "output_type": "stream",
     "text": [
      "6\n"
     ]
    }
   ],
   "source": [
    "get_s2=calc2(calc2(1,2),3)\n",
    "print(get_s2)"
   ]
  },
  {
   "cell_type": "markdown",
   "metadata": {},
   "source": [
    "# 多个返回值"
   ]
  },
  {
   "cell_type": "code",
   "execution_count": 43,
   "metadata": {},
   "outputs": [],
   "source": [
    "def get_sum(num):\n",
    "    s=0\n",
    "    odd_sum=0\n",
    "    even_sum=0\n",
    "    for i in range(1,num+1):\n",
    "        if i%2!=0:\n",
    "            odd_sum+=i\n",
    "        else:\n",
    "            even_sum+=i\n",
    "        s+=i\n",
    "    return odd_sum,even_sum,s\n"
   ]
  },
  {
   "cell_type": "code",
   "execution_count": 45,
   "metadata": {},
   "outputs": [
    {
     "name": "stdout",
     "output_type": "stream",
     "text": [
      "<class 'tuple'>\n",
      "25 30 55\n"
     ]
    }
   ],
   "source": [
    "result=get_sum(10)\n",
    "print(type(result))\n",
    "print(result)"
   ]
  },
  {
   "cell_type": "markdown",
   "metadata": {},
   "source": [
    "# 解包赋值"
   ]
  },
  {
   "cell_type": "code",
   "execution_count": 46,
   "metadata": {},
   "outputs": [
    {
     "name": "stdout",
     "output_type": "stream",
     "text": [
      "25\n",
      "30\n",
      "55\n"
     ]
    }
   ],
   "source": [
    "a,b,c=get_sum(10) # 返回三个值，元组类型\n",
    "print(a)\n",
    "print(b)\n",
    "print(c)\n"
   ]
  },
  {
   "cell_type": "markdown",
   "metadata": {},
   "source": [
    "# 变量的作用域"
   ]
  },
  {
   "cell_type": "code",
   "execution_count": 47,
   "metadata": {},
   "outputs": [],
   "source": [
    "def calc(a,b):\n",
    "    s=a+b\n",
    "    return s\n",
    "\n"
   ]
  },
  {
   "cell_type": "code",
   "execution_count": 49,
   "metadata": {},
   "outputs": [],
   "source": [
    "#print(a,b,s) # a,b是函数的参数，参数是局部变量，s函数中定义的变量，局部变量\n"
   ]
  },
  {
   "cell_type": "code",
   "execution_count": 50,
   "metadata": {},
   "outputs": [
    {
     "name": "stdout",
     "output_type": "stream",
     "text": [
      "30\n"
     ]
    }
   ],
   "source": [
    "result=calc(10,20)\n",
    "print(result)"
   ]
  },
  {
   "cell_type": "markdown",
   "metadata": {},
   "source": [
    "# 全局变量的使用"
   ]
  },
  {
   "cell_type": "code",
   "execution_count": 35,
   "metadata": {},
   "outputs": [],
   "source": [
    "a=100 # #全局变量\n",
    "\n",
    "def calc(x,y):\n",
    "    return a+x+y\n",
    "\n"
   ]
  },
  {
   "cell_type": "code",
   "execution_count": 53,
   "metadata": {},
   "outputs": [
    {
     "name": "stdout",
     "output_type": "stream",
     "text": [
      "100\n",
      "130\n"
     ]
    }
   ],
   "source": [
    "print(a)\n",
    "print(calc(10,20))"
   ]
  },
  {
   "cell_type": "code",
   "execution_count": 56,
   "metadata": {},
   "outputs": [],
   "source": [
    "def calc2(x,y):\n",
    "    a=200  # 局部变量，局部变量的名称和全局变量的名称相同\n",
    "    return a+x+y  # a为局部变量，名字相同，局部变量优先级更高"
   ]
  },
  {
   "cell_type": "code",
   "execution_count": 59,
   "metadata": {},
   "outputs": [
    {
     "name": "stdout",
     "output_type": "stream",
     "text": [
      "100\n",
      "230\n"
     ]
    }
   ],
   "source": [
    "print(a)\n",
    "print(calc2(10,20))\n"
   ]
  },
  {
   "cell_type": "code",
   "execution_count": 60,
   "metadata": {},
   "outputs": [],
   "source": [
    "def calc3(x, y):\n",
    "\n",
    "\n",
    "\n",
    "    global s  # s是函数中定义的变量，使用global关键字声明使变量s变成了全局变量\n",
    "    s=300 # 声明和赋值，必须分开执行\n",
    "    \n",
    "\n",
    "\n",
    "    return s+x+y"
   ]
  },
  {
   "cell_type": "code",
   "execution_count": 62,
   "metadata": {},
   "outputs": [
    {
     "name": "stdout",
     "output_type": "stream",
     "text": [
      "300\n",
      "330\n"
     ]
    }
   ],
   "source": [
    "print(s)\n",
    "print(calc3(10,20))"
   ]
  },
  {
   "cell_type": "markdown",
   "metadata": {},
   "source": [
    "# 匿名函数的使用"
   ]
  },
  {
   "cell_type": "code",
   "execution_count": 63,
   "metadata": {},
   "outputs": [
    {
     "name": "stdout",
     "output_type": "stream",
     "text": [
      "30\n"
     ]
    }
   ],
   "source": [
    "def calc(a,b):\n",
    "    return a+b\n",
    "\n",
    "print(calc(10,20))"
   ]
  },
  {
   "cell_type": "code",
   "execution_count": 65,
   "metadata": {},
   "outputs": [
    {
     "name": "stdout",
     "output_type": "stream",
     "text": [
      "<class 'function'>\n",
      "30\n"
     ]
    }
   ],
   "source": [
    "# 匿名函数\n",
    "\n",
    "s=lambda a,b:a+b\n",
    "\n",
    "print(type(s))\n",
    "print(s(10,20))"
   ]
  },
  {
   "cell_type": "code",
   "execution_count": 69,
   "metadata": {},
   "outputs": [
    {
     "name": "stdout",
     "output_type": "stream",
     "text": [
      "10\n",
      "20\n",
      "30\n",
      "40\n",
      "50\n",
      "\n"
     ]
    }
   ],
   "source": [
    "lst=[10,20,30,40,50]\n",
    "for i in range(len(lst)):\n",
    "    print(lst[i])\n",
    "print()\n",
    "    \n"
   ]
  },
  {
   "cell_type": "code",
   "execution_count": 70,
   "metadata": {},
   "outputs": [
    {
     "name": "stdout",
     "output_type": "stream",
     "text": [
      "10\n",
      "20\n",
      "30\n",
      "40\n",
      "50\n"
     ]
    }
   ],
   "source": [
    "for i in range(len(lst)):\n",
    "    result=lambda x:x[i]  # 根据索引取值\n",
    "    print(result(lst))  # lst实际参数"
   ]
  },
  {
   "cell_type": "code",
   "execution_count": 73,
   "metadata": {},
   "outputs": [
    {
     "name": "stdout",
     "output_type": "stream",
     "text": [
      "[{'name': 'zyx', 'score': 100}, {'name': 'qhr', 'score': 75}, {'name': 'zy', 'score': 66}, {'name': 'yzx', 'score': 60}]\n"
     ]
    }
   ],
   "source": [
    "student_score=[\n",
    "    {'name':'zyx','score':100},\n",
    "    {'name':'yzx','score':60},\n",
    "    {'name':'qhr','score':75},\n",
    "    {'name':'zy','score':66},\n",
    "\n",
    "]\n",
    "\n",
    "# 按成绩排序\n",
    "student_score.sort(key=lambda x:x.get('score'),reverse=True)\n",
    "print(student_score)"
   ]
  },
  {
   "cell_type": "markdown",
   "metadata": {},
   "source": [
    "# 使用递归计算N的阶乘"
   ]
  },
  {
   "cell_type": "code",
   "execution_count": 76,
   "metadata": {},
   "outputs": [],
   "source": [
    "def fac(n):  # n的阶乘 N! = N (N-1)\n",
    "    if n==1:\n",
    "        return 1\n",
    "    else:\n",
    "        return n*fac(n-1)  # 自己调用自己"
   ]
  },
  {
   "cell_type": "code",
   "execution_count": 81,
   "metadata": {},
   "outputs": [
    {
     "name": "stdout",
     "output_type": "stream",
     "text": [
      "120\n"
     ]
    }
   ],
   "source": [
    "print(fac(5))"
   ]
  },
  {
   "cell_type": "markdown",
   "metadata": {},
   "source": [
    "# 斐波那契数列"
   ]
  },
  {
   "cell_type": "code",
   "execution_count": 83,
   "metadata": {},
   "outputs": [
    {
     "name": "stdout",
     "output_type": "stream",
     "text": [
      "34\n"
     ]
    }
   ],
   "source": [
    "def fac(n):\n",
    "    if n==1 or n==2:\n",
    "        return 1\n",
    "    else:\n",
    "        return fac(n-1)+fac(n-2)\n",
    "\n",
    "print(fac(9))"
   ]
  },
  {
   "cell_type": "code",
   "execution_count": 85,
   "metadata": {},
   "outputs": [
    {
     "name": "stdout",
     "output_type": "stream",
     "text": [
      "1  1  2  3  5  8  13  21  34  \n"
     ]
    }
   ],
   "source": [
    "\n",
    "for i in range(1,10):\n",
    "    print(fac(i),end='  ')\n",
    "print()\n"
   ]
  },
  {
   "cell_type": "markdown",
   "metadata": {},
   "source": [
    "# 常用的内置函数\n",
    "  \n",
    "bool(obj)  \n",
    "  \n",
    "str(obj)\n",
    "  \n",
    "int(x)  \n",
    "  \n",
    "float(x)  \n",
    "  \n",
    "list(sequence)  \n",
    "  \n",
    "tuple(sequence)  \n",
    "  \n",
    "set(sequence)"
   ]
  },
  {
   "cell_type": "markdown",
   "metadata": {},
   "source": [
    "# 数据类型转换函数的使用"
   ]
  },
  {
   "cell_type": "code",
   "execution_count": 86,
   "metadata": {},
   "outputs": [
    {
     "name": "stdout",
     "output_type": "stream",
     "text": [
      "True\n",
      "False\n",
      "False\n",
      "False\n",
      "False\n",
      "False\n",
      "False\n",
      "False\n"
     ]
    }
   ],
   "source": [
    "print(bool('Hello'))\n",
    "print(bool(''))\n",
    "print(bool([]))\n",
    "print(bool(list()))\n",
    "print(bool(()))\n",
    "print(bool(set()))\n",
    "print(bool({}))\n",
    "print(bool(dict()))\n"
   ]
  },
  {
   "cell_type": "code",
   "execution_count": 87,
   "metadata": {},
   "outputs": [
    {
     "name": "stdout",
     "output_type": "stream",
     "text": [
      "True\n",
      "False\n",
      "False\n"
     ]
    }
   ],
   "source": [
    "print(bool(123))\n",
    "print(bool(0))\n",
    "print(bool(0.0))\n",
    "\n"
   ]
  },
  {
   "cell_type": "code",
   "execution_count": 88,
   "metadata": {},
   "outputs": [
    {
     "name": "stdout",
     "output_type": "stream",
     "text": [
      "<class 'list'> [1, 2, 3]\n",
      "<class 'str'> [1, 2, 3]\n"
     ]
    }
   ],
   "source": [
    "lst=[1,2,3]\n",
    "print(type(lst),lst)\n",
    "s=str(lst)\n",
    "print(type(s),s)"
   ]
  },
  {
   "cell_type": "code",
   "execution_count": 92,
   "metadata": {},
   "outputs": [
    {
     "name": "stdout",
     "output_type": "stream",
     "text": [
      "188\n"
     ]
    }
   ],
   "source": [
    "print(int(98.7)+int('90'))\n",
    "\n",
    "#print(int('98.7'))  ValueError: invalid literal for int() with base 10: '98.7'\n",
    "\n",
    "#print(int('a')) ValueError: invalid literal for int() with base 10: 'a'\n"
   ]
  },
  {
   "cell_type": "code",
   "execution_count": 93,
   "metadata": {},
   "outputs": [
    {
     "name": "stdout",
     "output_type": "stream",
     "text": [
      "93.14\n"
     ]
    }
   ],
   "source": [
    "print(float(90)+float('3.14'))\n"
   ]
  },
  {
   "cell_type": "code",
   "execution_count": 94,
   "metadata": {},
   "outputs": [
    {
     "name": "stdout",
     "output_type": "stream",
     "text": [
      "['h', 'e', 'l', 'l', 'o']\n"
     ]
    }
   ],
   "source": [
    "s='hello'\n",
    "print(list(s))\n"
   ]
  },
  {
   "cell_type": "code",
   "execution_count": 119,
   "metadata": {},
   "outputs": [
    {
     "name": "stdout",
     "output_type": "stream",
     "text": [
      "(1, 2, 3, 4, 5, 6, 7, 8, 9)\n",
      "[1, 2, 3, 4, 5, 6, 7, 8, 9]\n"
     ]
    }
   ],
   "source": [
    "seq = range(1,10)\n",
    "print(tuple(seq))\n",
    "print(list(seq))\n"
   ]
  },
  {
   "cell_type": "markdown",
   "metadata": {},
   "source": [
    "# 数学函数的使用"
   ]
  },
  {
   "cell_type": "markdown",
   "metadata": {},
   "source": [
    "abs(x)----|x|  \n",
    "  \n",
    "divmod(x,y)----x//y and x%y  \n",
    "  \n",
    "max(seq)---- e.g. max(10,20,30)=30  \n",
    "  \n",
    "min(seq)  \n",
    "  \n",
    "sum(iter) \n",
    "  \n",
    "pow(x,y)----x**y  \n",
    "  \n",
    "round(x,d)---- 保留d位x的小数  \n",
    "\n"
   ]
  },
  {
   "cell_type": "code",
   "execution_count": 104,
   "metadata": {},
   "outputs": [
    {
     "name": "stdout",
     "output_type": "stream",
     "text": [
      "100 100 0\n"
     ]
    }
   ],
   "source": [
    "print(abs(100),abs(-100),abs(0))"
   ]
  },
  {
   "cell_type": "code",
   "execution_count": 107,
   "metadata": {},
   "outputs": [
    {
     "name": "stdout",
     "output_type": "stream",
     "text": [
      "(3, 1)\n",
      "3\n",
      "1\n"
     ]
    }
   ],
   "source": [
    "print(divmod(13,4))\n",
    "print(13//4)\n",
    "print(13%4)\n"
   ]
  },
  {
   "cell_type": "code",
   "execution_count": 108,
   "metadata": {},
   "outputs": [
    {
     "name": "stdout",
     "output_type": "stream",
     "text": [
      "o\n",
      "99\n"
     ]
    }
   ],
   "source": [
    "print(max('hello'))\n",
    "print(max([10,1,2,3,4,99]))\n"
   ]
  },
  {
   "cell_type": "code",
   "execution_count": 109,
   "metadata": {},
   "outputs": [
    {
     "name": "stdout",
     "output_type": "stream",
     "text": [
      "e\n",
      "1\n"
     ]
    }
   ],
   "source": [
    "print(min('hello'))\n",
    "print(min([10,1,2,3,4,99]))"
   ]
  },
  {
   "cell_type": "code",
   "execution_count": 110,
   "metadata": {},
   "outputs": [
    {
     "name": "stdout",
     "output_type": "stream",
     "text": [
      "69\n"
     ]
    }
   ],
   "source": [
    "print(sum([10,34,25]))"
   ]
  },
  {
   "cell_type": "code",
   "execution_count": 112,
   "metadata": {},
   "outputs": [
    {
     "name": "stdout",
     "output_type": "stream",
     "text": [
      "8\n"
     ]
    }
   ],
   "source": [
    "print(pow(2,3))"
   ]
  },
  {
   "cell_type": "code",
   "execution_count": 118,
   "metadata": {},
   "outputs": [
    {
     "name": "stdout",
     "output_type": "stream",
     "text": [
      "3\n",
      "3.142\n",
      "4\n",
      "310.0\n",
      "300.0\n",
      "0.0\n"
     ]
    }
   ],
   "source": [
    "print(round(3.1415926))\n",
    "print(round(3.1415926,3))\n",
    "print(round(3.912345))\n",
    "print(round(314.15926,-1))\n",
    "print(round(314.15926,-2))\n",
    "print(round(314.15926,-3))\n",
    "\n"
   ]
  },
  {
   "cell_type": "markdown",
   "metadata": {},
   "source": [
    "# 迭代器操作函数的使用"
   ]
  },
  {
   "cell_type": "markdown",
   "metadata": {},
   "source": [
    "sorted(iter)  \n",
    "  \n",
    "reversed(sequence)  1，3，2=2，3，1\n",
    "  \n",
    "zip(iter1,iter2)  = tuple1+tuple2  \n",
    "  \n",
    "enumerate(iter)  \n",
    "  \n",
    "all(iter)  all bool == True/False  \n",
    "  \n",
    "any(iter) any bool == True/False  \n",
    "  \n",
    "next(iter)----获取liter下一个元素\n",
    "  \n",
    "filter(fun,iter)----指定条件过滤，并返回一个迭代器对象 \n",
    "\n",
    "map(functions,iter)----通过function对iter的操作返回一个迭代器对象  \n",
    "\n",
    "  \n",
    "\n",
    "\n"
   ]
  },
  {
   "cell_type": "code",
   "execution_count": 1,
   "metadata": {},
   "outputs": [
    {
     "name": "stdout",
     "output_type": "stream",
     "text": [
      "[12, 13, 14, 66, 3, 2222, 34]\n",
      "[3, 12, 13, 14, 34, 66, 2222]\n",
      "[2222, 66, 34, 14, 13, 12, 3]\n"
     ]
    }
   ],
   "source": [
    "lst=[12,13,14,66,3,2222,34]\n",
    "\n",
    "asc_lst=sorted(lst)\n",
    "desc_lst=sorted(lst,reverse=True)\n",
    "print(lst)\n",
    "print(asc_lst)\n",
    "print(desc_lst)"
   ]
  },
  {
   "cell_type": "code",
   "execution_count": 3,
   "metadata": {},
   "outputs": [
    {
     "name": "stdout",
     "output_type": "stream",
     "text": [
      "<class 'list_reverseiterator'>\n",
      "[34, 2222, 3, 66, 14, 13, 12]\n"
     ]
    }
   ],
   "source": [
    "new_lst=reversed(lst)\n",
    "print(type(new_lst))  # 迭代器\n",
    "print(list(new_lst))"
   ]
  },
  {
   "cell_type": "code",
   "execution_count": 4,
   "metadata": {},
   "outputs": [
    {
     "name": "stdout",
     "output_type": "stream",
     "text": [
      "<zip object at 0x1044fd100>\n",
      "<class 'zip'>\n",
      "[('a', 10), ('b', 20), ('c', 30), ('d', 40)]\n"
     ]
    }
   ],
   "source": [
    "x=['a','b','c','d']\n",
    "y=[10,20,30,40,50]\n",
    "\n",
    "zip_obj=zip(x,y)\n",
    "print(zip_obj)\n",
    "print(type(zip_obj))\n",
    "print(list(zip_obj))\n",
    "\n"
   ]
  },
  {
   "cell_type": "code",
   "execution_count": 5,
   "metadata": {},
   "outputs": [
    {
     "name": "stdout",
     "output_type": "stream",
     "text": [
      "<class 'enumerate'>\n",
      "((1, 10), (2, 20), (3, 30), (4, 40), (5, 50))\n"
     ]
    }
   ],
   "source": [
    "enum=enumerate(y,start=1)\n",
    "print(type(enum))\n",
    "print(tuple(enum))"
   ]
  },
  {
   "cell_type": "code",
   "execution_count": 7,
   "metadata": {},
   "outputs": [
    {
     "name": "stdout",
     "output_type": "stream",
     "text": [
      "True\n",
      "False\n"
     ]
    }
   ],
   "source": [
    "\n",
    "lst=[10,20,30]\n",
    "lst2=[10,20,'',30]\n",
    "\n",
    "\n",
    "print(all(lst))\n",
    "print(all(lst2))"
   ]
  },
  {
   "cell_type": "code",
   "execution_count": 8,
   "metadata": {},
   "outputs": [
    {
     "name": "stdout",
     "output_type": "stream",
     "text": [
      "True\n"
     ]
    }
   ],
   "source": [
    "print(any(lst2))"
   ]
  },
  {
   "cell_type": "code",
   "execution_count": 10,
   "metadata": {},
   "outputs": [
    {
     "name": "stdout",
     "output_type": "stream",
     "text": [
      "('a', 10)\n",
      "('b', 20)\n",
      "('c', 30)\n"
     ]
    }
   ],
   "source": [
    "x=['a','b','c','d']\n",
    "y=[10,20,30,40,50]\n",
    "\n",
    "zip_obj=zip(x,y)\n",
    "\n",
    "print(next(zip_obj))\n",
    "print(next(zip_obj))\n",
    "print(next(zip_obj))\n"
   ]
  },
  {
   "cell_type": "code",
   "execution_count": 13,
   "metadata": {},
   "outputs": [
    {
     "name": "stdout",
     "output_type": "stream",
     "text": [
      "[1, 3, 5, 7, 9]\n"
     ]
    }
   ],
   "source": [
    "def fun(num):\n",
    "    return num%2==1\n",
    "\n",
    "obj=filter(fun,range(10))  # 0-9 执行一次\n",
    "print(list(obj))\n"
   ]
  },
  {
   "cell_type": "code",
   "execution_count": 17,
   "metadata": {},
   "outputs": [
    {
     "name": "stdout",
     "output_type": "stream",
     "text": [
      "['HELLO', 'WORLD', 'PYTHON']\n"
     ]
    }
   ],
   "source": [
    "def upper(x):\n",
    "    return x.upper()\n",
    "\n",
    "new_lst2=['hello','world','python']\n",
    "obj2=map(upper,new_lst2)\n",
    "print(list(obj2))"
   ]
  },
  {
   "cell_type": "markdown",
   "metadata": {},
   "source": [
    "# 其他函数的使用"
   ]
  },
  {
   "cell_type": "markdown",
   "metadata": {},
   "source": [
    "format(value,format_spec) 将value以format_spec的格式进行显示  \n",
    "  \n",
    "lens(s) 获取s的长度或s元素的个数  \n",
    "  \n",
    "id(obj) 获取对象的内存地址  \n",
    "  \n",
    "type(x) 获取x的数据类型  \n",
    "  \n",
    "eval(s) 执s字符多表示的代码"
   ]
  },
  {
   "cell_type": "code",
   "execution_count": 24,
   "metadata": {},
   "outputs": [
    {
     "name": "stdout",
     "output_type": "stream",
     "text": [
      "                3.14\n",
      "hello               \n",
      "hello***************\n",
      "***************hello\n",
      "*******hello********\n",
      "3.14\n",
      "10100\n",
      "24\n",
      "14\n",
      "14\n"
     ]
    }
   ],
   "source": [
    "print(format(3.14,'20'))   # 右对齐\n",
    "print(format('hello','20')) # 左对齐\n",
    "print(format('hello','*<20')) # < 表示左对齐， * 填充物， 20表示宽度\n",
    "print(format('hello','*>20')) # > 表示右对齐， * 填充物， 20表示宽度\n",
    "print(format('hello','*^20')) # ^ 表示中对齐， * 填充物， 20表示宽度\n",
    "\n",
    "print(format(3.1415926,'.2f'))\n",
    "# n位 nf\n",
    "\n",
    "print((format(20,'b')))\n",
    "print((format(20,'o')))\n",
    "print((format(20,'x')))\n",
    "print((format(20,'X')))\n",
    "\n",
    "\n"
   ]
  },
  {
   "cell_type": "code",
   "execution_count": 25,
   "metadata": {},
   "outputs": [
    {
     "name": "stdout",
     "output_type": "stream",
     "text": [
      "10\n",
      "5\n"
     ]
    }
   ],
   "source": [
    "print(len('helloworld'))\n",
    "print(len([10,20,30,40,50]))\n",
    "\n"
   ]
  },
  {
   "cell_type": "code",
   "execution_count": null,
   "metadata": {},
   "outputs": [],
   "source": [
    "print(id(10))\n",
    "print(id('helloworld'))\n",
    "print(type('hello'),type(10))\n"
   ]
  },
  {
   "cell_type": "code",
   "execution_count": 26,
   "metadata": {},
   "outputs": [
    {
     "name": "stdout",
     "output_type": "stream",
     "text": [
      "40\n",
      "False\n"
     ]
    }
   ],
   "source": [
    "print(eval('10+30'))\n",
    "print(eval('10>30'))\n"
   ]
  },
  {
   "cell_type": "markdown",
   "metadata": {},
   "source": [
    "# --------------------------------------------------------------------------\n"
   ]
  },
  {
   "cell_type": "markdown",
   "metadata": {},
   "source": [
    "# 编写函数实现计算列表中元素的最大值\n",
    "  \n",
    "随机产生10个元素，存储到列表中，编写函数获取这个列表中元素的最大值"
   ]
  },
  {
   "cell_type": "code",
   "execution_count": 71,
   "metadata": {},
   "outputs": [
    {
     "data": {
      "text/plain": [
       "([62, 49, 83, 71, 4, 57, 65, 14, 67, 41], 83)"
      ]
     },
     "execution_count": 71,
     "metadata": {},
     "output_type": "execute_result"
    }
   ],
   "source": [
    "import random\n",
    "\n",
    "def fun(n):\n",
    "\n",
    "    lst=[]\n",
    "    m=0\n",
    "\n",
    "    for i in range(n):\n",
    "\n",
    "        ran = random.randint(1,100)\n",
    "        lst.append(ran)\n",
    "\n",
    "        if lst[-1]>=m:\n",
    "            m=lst[-1]\n",
    "\n",
    "    \n",
    "    return lst,m\n",
    "\n",
    "fun(10)\n"
   ]
  },
  {
   "cell_type": "markdown",
   "metadata": {},
   "source": [
    "# 编写函数实现提取指定字符串中的数字并求和\n",
    "  \n",
    "input()获取一个字符串，编写并传参，  \n",
    "  \n",
    "isdigit()提取数字，求和，存储返回\n",
    "\n"
   ]
  },
  {
   "cell_type": "code",
   "execution_count": 72,
   "metadata": {},
   "outputs": [
    {
     "name": "stdout",
     "output_type": "stream",
     "text": [
      "hello123world456\n"
     ]
    },
    {
     "data": {
      "text/plain": [
       "([1, 2, 3, 4, 5, 6], 21)"
      ]
     },
     "execution_count": 72,
     "metadata": {},
     "output_type": "execute_result"
    }
   ],
   "source": [
    "def get_num():\n",
    "\n",
    "    s=input('give a string')\n",
    "    print(s)\n",
    "\n",
    "    lst=[]\n",
    "    m=0\n",
    "\n",
    "    for i in s:\n",
    "        if i.isdigit():\n",
    "            lst.append(int(i))\n",
    "            m+=int(i)\n",
    "\n",
    "    return lst,m\n",
    "\n",
    "\n",
    "get_num()"
   ]
  },
  {
   "cell_type": "code",
   "execution_count": 70,
   "metadata": {},
   "outputs": [
    {
     "name": "stdout",
     "output_type": "stream",
     "text": [
      "[1, 2, 3, 4, 5, 6]\n",
      "21\n"
     ]
    }
   ],
   "source": [
    "def get_digit(x):\n",
    "    s=0\n",
    "    lst=[]\n",
    "\n",
    "    for i in x:\n",
    "        if i.isdigit():\n",
    "            lst.append(int(i))\n",
    "\n",
    "    s=sum(lst)\n",
    "\n",
    "    return lst,s\n",
    "\n",
    "\n",
    "s=input('give a string')\n",
    "lst,x=get_digit(s)\n",
    "print(lst)\n",
    "print(x)\n"
   ]
  },
  {
   "cell_type": "markdown",
   "metadata": {},
   "source": [
    "# 编写函数实现将字符串中字母的大小写转换  \n",
    "  \n",
    "使用input获取字符串，编写并传参，将字符串中所有的小转大，大写转小"
   ]
  },
  {
   "cell_type": "code",
   "execution_count": 2,
   "metadata": {},
   "outputs": [
    {
     "name": "stdout",
     "output_type": "stream",
     "text": [
      "gIVE A wORD 123\n"
     ]
    }
   ],
   "source": [
    "def upper_lower(x):\n",
    "    s=''\n",
    "\n",
    "    for i in x:\n",
    "        if i.islower():\n",
    "            s+=i.upper()\n",
    "        elif i.isupper():\n",
    "            s+=i.lower()\n",
    "        else:\n",
    "            s+=i\n",
    "    \n",
    "    return s\n",
    "\n",
    "\n",
    "str1=input('please give a string')\n",
    "a=upper_lower(str1)\n",
    "print(a)\n",
    "    "
   ]
  },
  {
   "cell_type": "code",
   "execution_count": 2,
   "metadata": {},
   "outputs": [
    {
     "name": "stdout",
     "output_type": "stream",
     "text": [
      "gIVE A wORD 123\n"
     ]
    }
   ],
   "source": [
    "# unicode 实现\n",
    "def lower_upper(x):\n",
    "    lst=[]\n",
    "    for i in x:\n",
    "        # chr: Return a Unicode string of one character with ordinal i; 0 <= i <= 0x10ffff.\n",
    "        if 'A'<=i<='Z':\n",
    "            lst.append(chr(ord(i)+32))\n",
    "        elif 'a'<=i<='z':\n",
    "            lst.append(chr(ord(i)-32))\n",
    "        else:\n",
    "            lst.append(i)\n",
    "\n",
    "    return ''.join(lst)\n",
    "\n",
    "\n",
    "\n",
    "str2=input('please give a string')\n",
    "b=lower_upper(str2)\n",
    "print(b)\n",
    "        "
   ]
  },
  {
   "cell_type": "markdown",
   "metadata": {},
   "source": [
    "# 编写函数实现操作符in的功能\n",
    "  \n",
    "input()从键盘获取一个字符串，判断这个字符串在列表中是否存在，不能使用in，返回结果为True or False\n"
   ]
  },
  {
   "cell_type": "code",
   "execution_count": 10,
   "metadata": {},
   "outputs": [
    {
     "name": "stdout",
     "output_type": "stream",
     "text": [
      "no\n"
     ]
    }
   ],
   "source": [
    "def in_or_not(s,lst):\n",
    "\n",
    "    for i in lst:\n",
    "        if s == i:\n",
    "            return True\n",
    "    return False\n",
    "\n",
    "\n",
    "lst = [1,2,3,4,5,6,7,8,9,10]\n",
    "s=eval(input('please give a number'))\n",
    "result = in_or_not(s,lst)\n",
    "print('yes' if result else 'no')\n",
    "\n"
   ]
  },
  {
   "cell_type": "code",
   "execution_count": null,
   "metadata": {},
   "outputs": [],
   "source": [
    "import pubchempy as pcp\n",
    "import pandas as pd\n",
    "\n",
    "# 读取CSV文件\n",
    "df = pd.read_csv('chemicals.csv')  # 假设文件名为chemicals.csv\n",
    "df.dropna(subset=['PUBCHEM_CID'], inplace=True)  # 删除PUBCHEM_CID列中有缺失值的行\n",
    "\n",
    "# 确保PUBCHEM_CID列的数据类型是整数\n",
    "df['PUBCHEM_CID'] = df['PUBCHEM_CID'].astype(int)\n",
    "\n",
    "# 获取PUBCHEM_CID列的值\n",
    "cids = df['PUBCHEM_CID']\n",
    "\n",
    "smiles = []  # 用于存储SMILES字符串的列表\n",
    "\n",
    "# 遍历CID列表，获取每个化合物的Canonical SMILES\n",
    "for cid in cids:\n",
    "    try:\n",
    "        properties = pcp.get_properties('CanonicalSMILES', cid, namespace='cid', as_dataframe=False)\n",
    "        if properties:  # 检查返回的列表是否非空\n",
    "            smiles_str = properties[0]['CanonicalSMILES']  # 获取SMILES字符串\n",
    "            smiles.append(smiles_str)  # 将SMILES字符串添加到列表中\n",
    "        else:\n",
    "            smiles.append('N/A')  # 如果没有找到对应的化合物，添加'N/A'\n",
    "    except Exception as e:\n",
    "        print(f\"Error retrieving data for CID {cid}: {e}\")\n",
    "        smiles.append('Error')  # 发生错误时，在列表中添加'Error'\n",
    "\n",
    "# 创建一个包含SMILES字符串的新DataFrame\n",
    "smiles_df = pd.DataFrame(smiles, columns=['CanonicalSMILES'])\n",
    "\n",
    "# 如果需要，将原始数据的CID列和新的SMILES列合并到一个DataFrame中\n",
    "result_df = pd.concat([df['PUBCHEM_CID'], smiles_df], axis=1)\n",
    "\n",
    "# 将结果保存到新的CSV文件中\n",
    "result_df.to_csv('canonical_smiles.csv', index=False)"
   ]
  }
 ],
 "metadata": {
  "kernelspec": {
   "display_name": "Python 3",
   "language": "python",
   "name": "python3"
  },
  "language_info": {
   "codemirror_mode": {
    "name": "ipython",
    "version": 3
   },
   "file_extension": ".py",
   "mimetype": "text/x-python",
   "name": "python",
   "nbconvert_exporter": "python",
   "pygments_lexer": "ipython3",
   "version": "3.12.1"
  }
 },
 "nbformat": 4,
 "nbformat_minor": 2
}
