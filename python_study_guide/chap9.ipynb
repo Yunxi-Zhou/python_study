{
 "cells": [
  {
   "cell_type": "markdown",
   "metadata": {},
   "source": [
    "# 查看对象的数据类型"
   ]
  },
  {
   "cell_type": "code",
   "execution_count": 1,
   "metadata": {},
   "outputs": [
    {
     "name": "stdout",
     "output_type": "stream",
     "text": [
      "<class 'int'> <class 'float'> <class 'str'>\n"
     ]
    }
   ],
   "source": [
    "a=10\n",
    "b=9.8\n",
    "s='hello'\n",
    "print(type(a),type(b),type(s))\n",
    "\n",
    "\n"
   ]
  },
  {
   "cell_type": "markdown",
   "metadata": {},
   "source": [
    "# 自定义数据类型"
   ]
  },
  {
   "cell_type": "code",
   "execution_count": null,
   "metadata": {},
   "outputs": [],
   "source": [
    "class Person():\n",
    "    pass\n",
    "\n",
    "class Cat():\n",
    "    pass\n",
    "\n",
    "class Dog():\n",
    "    pass\n",
    "\n",
    "class Student():\n",
    "    pass\n"
   ]
  },
  {
   "cell_type": "markdown",
   "metadata": {},
   "source": [
    "# 创建自定义类型的对象"
   ]
  },
  {
   "cell_type": "code",
   "execution_count": 2,
   "metadata": {},
   "outputs": [
    {
     "name": "stdout",
     "output_type": "stream",
     "text": [
      "<class '__main__.Person'> <class '__main__.Cat'> <class '__main__.Dog'> <class '__main__.Student'>\n"
     ]
    }
   ],
   "source": [
    "class Person():\n",
    "    pass\n",
    "\n",
    "class Cat():\n",
    "    pass\n",
    "\n",
    "class Dog():\n",
    "    pass\n",
    "\n",
    "class Student():\n",
    "    pass\n",
    "\n",
    "\n",
    "# 创建类的对象， 对象名=类名()\n",
    "per=Person()\n",
    "c=Cat()\n",
    "d=Dog()\n",
    "stu=Student()\n",
    "print(type(per), type(c), type(d), type(stu))"
   ]
  },
  {
   "cell_type": "markdown",
   "metadata": {},
   "source": [
    "# 类的组成\n",
    "  \n",
    "类属性-->直接定义在类中，方法外的变量  \n",
    "  \n",
    "实例变量-->定义在__init__方法中，使用self打点的变量  \n",
    "    \n",
    "实例方法-->定义在类中的函数，而且自带参数self   \n",
    "\n",
    "静态方法-->使用装饰器@staticmethod修饰的方法        \n",
    "\n",
    "类方法-->使用装饰器@classmethod修饰的方法   "
   ]
  },
  {
   "cell_type": "markdown",
   "metadata": {},
   "source": [
    "# 属性和实例属性的定义"
   ]
  },
  {
   "cell_type": "code",
   "execution_count": null,
   "metadata": {},
   "outputs": [],
   "source": [
    "class Student:\n",
    "    # 类属性，定义在类中，方法外的变量\n",
    "\n",
    "    school='Mcmaster University'\n",
    "\n",
    "    # 初始方法\n",
    "    def __init__(self,xm,age):  # xm,age是方法的参数，是局部变量, xm,age的作用域是整个__init__方法\n",
    "\n",
    "        self.name=xm  # 左侧是实例属性，xm是局部变量，将局部变量的值xm赋值给实例属性self.name\n",
    "        self.age=age #实例的名称和局部变量的名称可以相同"
   ]
  },
  {
   "cell_type": "markdown",
   "metadata": {},
   "source": [
    "# 类的组成"
   ]
  },
  {
   "cell_type": "code",
   "execution_count": 1,
   "metadata": {},
   "outputs": [
    {
     "name": "stdout",
     "output_type": "stream",
     "text": [
      "Yunxi Zhou 18\n",
      "Mcmaster University\n",
      "my name is:Yunxi Zhou,18 years old\n",
      "这是一个类方法，不能调用实例属性，也不能调用实例方法\n",
      "这是一个静态方法，不能调用实例属性，也不能调用实例方法\n"
     ]
    }
   ],
   "source": [
    "class Student:\n",
    "    # 类属性，定义在类中，方法外的变量\n",
    "\n",
    "    school='Mcmaster University'\n",
    "\n",
    "    # 初始方法\n",
    "    def __init__(self,xm,age):  # xm,age是方法的参数，是局部变量, xm,age的作用域是整个__init__方法\n",
    "\n",
    "        self.name=xm  # 左侧是实例属性，xm是局部变量，将局部变量的值xm赋值给实例属性self.name\n",
    "        self.age=age #实例的名称和局部变量的名称可以相同\n",
    "\n",
    "\n",
    "    # 定义在类中的函数，称为方法，自带一个参数self\n",
    "    def show(self):\n",
    "        print(f'my name is:{self.name},{self.age} years old')\n",
    "\n",
    "\n",
    "    # 静态方法\n",
    "    @staticmethod\n",
    "    def sm():\n",
    "        #print(self.name)\n",
    "        #self.show()\n",
    "        print('这是一个静态方法，不能调用实例属性，也不能调用实例方法')\n",
    "\n",
    "\n",
    "    @classmethod\n",
    "    def cm(cls):   # cls-->class的简写\n",
    "        print('这是一个类方法，不能调用实例属性，也不能调用实例方法')\n",
    "\n",
    "\n",
    "#创建类的对象\n",
    "zyx=Student('Yunxi Zhou',18)  # 两个参数-->__init__方法中有两个形参，自带参数，无需手动传参\n",
    "\n",
    "# 实例属性，使用对象名进行打点调用的\n",
    "print(zyx.name,zyx.age)\n",
    "\n",
    "# 类属性，直接用类名，打点调用\n",
    "print(Student.school)\n",
    "\n",
    "# 实例方法，使用对象名进行打点调用\n",
    "zyx.show()\n",
    "\n",
    "# 类方法，@classmehod进行修饰的方法，直接用类名打点调用\n",
    "Student.cm()\n",
    "\n",
    "# 静态方法，@staticmehod进行修饰的方法，直接用类名打点调用\n",
    "Student.sm()\n"
   ]
  },
  {
   "cell_type": "markdown",
   "metadata": {},
   "source": [
    "# 编写学生类并创建4个学生对象"
   ]
  },
  {
   "cell_type": "code",
   "execution_count": 7,
   "metadata": {},
   "outputs": [
    {
     "name": "stdout",
     "output_type": "stream",
     "text": [
      "<class '__main__.Student'> <class '__main__.Student'> <class '__main__.Student'> <class '__main__.Student'>\n",
      "my name is:zyx,19 years old\n",
      "my name is:yzx,23 years old\n",
      "my name is:yuaa,33 years old\n",
      "my name is:marry,29 years old\n"
     ]
    }
   ],
   "source": [
    "class Student:\n",
    "    # 类属性，定义在类中，方法外的变量\n",
    "\n",
    "    school='Mcmaster University'\n",
    "\n",
    "    # 初始方法\n",
    "    def __init__(self,xm,age):  # xm,age是方法的参数，是局部变量, xm,age的作用域是整个__init__方法\n",
    "\n",
    "        self.name=xm  # 左侧是实例属性，xm是局部变量，将局部变量的值xm赋值给实例属性self.name\n",
    "        self.age=age #实例的名称和局部变量的名称可以相同\n",
    "\n",
    "\n",
    "    # 定义在类中的函数，称为方法，自带一个参数self\n",
    "    def show(self):\n",
    "        print(f'my name is:{self.name},{self.age} years old')\n",
    "\n",
    "# 根据图纸可以创建n多个对象\n",
    "\n",
    "stu=Student('zyx',19)\n",
    "stu2=Student('yzx',23)\n",
    "stu3=Student('yuaa',33)\n",
    "stu4=Student('marry',29)\n",
    "\n",
    "print(type(stu),type(stu2),type(stu3),type(stu4))\n",
    "\n",
    "Student.school='Beijing University'  #给类的类属性赋值\n",
    "\n",
    "# 将学生对象存储到列表中\n",
    "\n",
    "lst=[stu,stu2,stu3,stu4]  # Student类型的对象\n",
    "\n",
    "for item in lst:  # 列表元素item，Student类型的对象\n",
    "    item.show() # 对象名打点调用实例方法\n",
    "\n",
    "\n",
    "\n",
    "\n"
   ]
  },
  {
   "cell_type": "markdown",
   "metadata": {},
   "source": [
    "# 动态绑定属性和方法"
   ]
  },
  {
   "cell_type": "code",
   "execution_count": 13,
   "metadata": {},
   "outputs": [
    {
     "name": "stdout",
     "output_type": "stream",
     "text": [
      "zyx yzx\n",
      "19 27\n",
      "yzx 27 Male\n",
      "我是一个普通的函数，我被动态绑定成了stu2对象的方法\n"
     ]
    }
   ],
   "source": [
    "class Student:\n",
    "    # 类属性，定义在类中，方法外的变量\n",
    "\n",
    "    school='Mcmaster University'\n",
    "\n",
    "    # 初始方法\n",
    "    def __init__(self,xm,age):  # xm,age是方法的参数，是局部变量, xm,age的作用域是整个__init__方法\n",
    "\n",
    "        self.name=xm  # 左侧是实例属性，xm是局部变量，将局部变量的值xm赋值给实例属性self.name\n",
    "        self.age=age #实例的名称和局部变量的名称可以相同\n",
    "\n",
    "\n",
    "    # 定义在类中的函数，称为方法，自带一个参数self\n",
    "    def show(self):\n",
    "        print(f'my name is:{self.name},{self.age} years old')\n",
    "\n",
    "# 创建两个student类型的对象\n",
    "\n",
    "stu=Student('zyx',19)\n",
    "stu2=Student('yzx',27)\n",
    "print(stu.name,stu2.name)\n",
    "print(stu.age,stu2.age)\n",
    "\n",
    "\n",
    "# 为stu2绑定一个实例属性\n",
    "\n",
    "stu2.gender='Male'\n",
    "\n",
    "print(stu2.name,stu2.age,stu2.gender)\n",
    "\n",
    "\n",
    "# print(stu.gender) AttributeError: 'Student' object has no attribute 'gender'\n",
    "\n",
    "# 动态绑定方法\n",
    "\n",
    "def introduce():\n",
    "    print('我是一个普通的函数，我被动态绑定成了stu2对象的方法')\n",
    "\n",
    "stu2.fun=introduce  # 函数的一个赋值\n",
    "\n",
    "# fun就是stu2对象的方法\n",
    "\n",
    "# 调用\n",
    "\n",
    "stu2.fun()"
   ]
  },
  {
   "cell_type": "markdown",
   "metadata": {},
   "source": [
    "# 面向对象的三大特征 重点\n",
    "  \n",
    "封装-->隐藏内部细节，对外提供操作方式   \n",
    "\n",
    "继承-->是在函数调用时，使用“形参名称=值”的方式进行传参，传递参数顺序可以与定义时参数的顺序不同  \n",
    "\n",
    "多态-->是在函数定义时，直接对形式参数进行赋值，在调用时如果该参数不传值，将使用默认值，如果该参数传值，则使用传递的值\n"
   ]
  },
  {
   "cell_type": "markdown",
   "metadata": {},
   "source": [
    "# 封装 \n",
    "\n",
    "# 权限：public > protected > private    \n",
    "\n",
    "权限控制-->通过对属性或方法添加下划线，双下划线以及收尾双下划线来实现的  \n",
    "\n",
    "单下划线开头(_)-->表示protected受保护的成员，仅供内部使用，允许类本身和子类进行访问，实际上可以被外部代码访问  \n",
    "\n",
    "双下划线开头(__)-->表示private私有成员，这类成员只允许定义该属性或方法的类本身进行访问  \n",
    "\n",
    "首尾双下划线(__ xxx __)-->一般表示特殊的方法"
   ]
  },
  {
   "cell_type": "markdown",
   "metadata": {},
   "source": [
    "# 权限控制"
   ]
  },
  {
   "cell_type": "code",
   "execution_count": 24,
   "metadata": {},
   "outputs": [
    {
     "name": "stdout",
     "output_type": "stream",
     "text": [
      "zyx\n",
      "子类及本身可以访问\n",
      "23\n",
      "只有定义的类可以访问\n",
      "['_Student__age', '_Student__fun2', '__class__', '__delattr__', '__dict__', '__dir__', '__doc__', '__eq__', '__format__', '__ge__', '__getattribute__', '__gt__', '__hash__', '__init__', '__init_subclass__', '__le__', '__lt__', '__module__', '__ne__', '__new__', '__reduce__', '__reduce_ex__', '__repr__', '__setattr__', '__sizeof__', '__str__', '__subclasshook__', '__weakref__', '_fun1', '_name', 'gender', 'show']\n"
     ]
    }
   ],
   "source": [
    "class Student():\n",
    "    \n",
    "    # 首尾双下划线\n",
    "    def __init__(self,name,age,gender):\n",
    "        self._name = name   # self.name是受保护的，只能本类和子类访问\n",
    "        self.__age = age # self.age表示私有的，只能类本身去访问\n",
    "        self.gender = gender # public 普通的实例属性，类内部，外部及子类都可以访问\n",
    "\n",
    "\n",
    "    def _fun1(self):\n",
    "        print('子类及本身可以访问')\n",
    "\n",
    "    def __fun2(self):\n",
    "        print('只有定义的类可以访问')\n",
    "    \n",
    "    def show(self):  # 普通的实例方法\n",
    "        self._fun1() # 类本身受保护的方法\n",
    "        self.__fun2() # 类本身访问私有方法\n",
    "        print(self._name) # 受保护的实例属性\n",
    "        print(self.__age) # 私有的实例属性\n",
    "\n",
    "\n",
    "# 创建一个学生类的对象\n",
    "stu=Student('zyx',23,'Male')\n",
    "\n",
    "# 类的外部\n",
    "print(stu._name)\n",
    "# print(stu.__age) AttributeError: 'Student' object has no attribute '__age'\n",
    "\n",
    "\n",
    "# 调用受保护的实例方法\n",
    "stu._fun1() # 子类及本身可以访问\n",
    "#stu.__fun2() # AttributeError: 'Student' object has no attribute '__fun2'\n",
    "\n",
    "# 私有的实例属性是否能访问  **********\n",
    "\n",
    "print(stu._Student__age)  # 非常不推荐\n",
    "\n",
    "stu._Student__fun2()\n",
    "\n",
    "# 为什么可以这样访问\n",
    "\n",
    "print(dir(stu))  #可以访问的方法/属性名"
   ]
  },
  {
   "cell_type": "markdown",
   "metadata": {},
   "source": [
    "# 属性的设置"
   ]
  },
  {
   "cell_type": "code",
   "execution_count": 6,
   "metadata": {},
   "outputs": [
    {
     "name": "stdout",
     "output_type": "stream",
     "text": [
      "zyx 的性别是 male\n",
      "wrong gender, auto setting to female\n",
      "zyx 的性别是 female\n"
     ]
    }
   ],
   "source": [
    "# get and set in Python\n",
    "\n",
    "class Student:\n",
    "    def __init__ (self,name,gender):\n",
    "        self.name = name\n",
    "        self.__gender = gender  # private\n",
    "\n",
    "    # 使用 @property 修改方法，将方法转成属性使用\n",
    "    @property  # get\n",
    "    def gender(self):  # 只能查看值，不能修改实例属性的值\n",
    "        return self.__gender\n",
    "    \n",
    "    # 将我们的gender这个属性设置为可写属性\n",
    "    @gender.setter  # set\n",
    "    def gender(self,value):\n",
    "        if value != 'male' and value != 'female':\n",
    "            print('wrong gender, auto setting to female')\n",
    "            self.__gender = 'female'\n",
    "        else:\n",
    "            self.__gender = value\n",
    "    \n",
    "stu=Student('zyx','male')\n",
    "print(stu.name,'的性别是',stu.gender)  # stu.gender就会去执行stu.gender()\n",
    "\n",
    "\n",
    "# 尝试修改属性值 without gender.setter\n",
    "# stu.gender='female' # AttributeError: can't set attribute   \n",
    "\n",
    "stu.gender='ha'\n",
    "print(stu.name,'的性别是',stu.gender)  # stu.gender就会去执行stu.gender()\n",
    "\n",
    "\n"
   ]
  },
  {
   "cell_type": "markdown",
   "metadata": {},
   "source": [
    "# 继承  \n",
    "\n",
    "在python中一个子类可以继承n多个父类     \n",
    "    \n",
    "一个父类也可以拥有N多个子类 \n",
    "\n",
    "如果一个类没有继承任何类，那么这个类默认继承的是object类"
   ]
  },
  {
   "cell_type": "markdown",
   "metadata": {},
   "source": [
    "# 继承的语法结构\n",
    "\n",
    "class 类名(父类1，父类2，...父类N):\n",
    "    pass"
   ]
  },
  {
   "cell_type": "code",
   "execution_count": 44,
   "metadata": {},
   "outputs": [
    {
     "name": "stdout",
     "output_type": "stream",
     "text": [
      "我叫: zyx, 25岁了\n",
      "我叫: 巴嘎, 88岁了\n"
     ]
    }
   ],
   "source": [
    "class Person:  # 默认继承了object\n",
    "    def __init__ (self,name,age):\n",
    "        self.name = name\n",
    "        self.age = age\n",
    "    def show(self):\n",
    "        print(f'我叫: {self.name}, {self.age}岁了')\n",
    "\n",
    "\n",
    "# Student 继承 Person 类\n",
    "class Student(Person):\n",
    "    # 编写初始化的方法\n",
    "    def __init__ (self,name,age,stu_id):\n",
    "        super().__init__(name,age)  # 调用父类的初始化方法\n",
    "        self.stu_id = stu_id\n",
    "\n",
    "\n",
    "# Doctor 继承 Person 类\n",
    "class Doctor(Person):\n",
    "    # 编写初始化的方法\n",
    "    def __init__ (self,name,age,department):\n",
    "        super().__init__(name,age)  # 调用父类的初始化方法\n",
    "        self.department = department\n",
    "\n",
    "\n",
    "# 创建第一个子类对象\n",
    "stu=Student('zyx',25,'218')\n",
    "stu.show()\n",
    "\n",
    "doctor=Doctor('巴嘎',88,'Surgery')\n",
    "doctor.show()\n"
   ]
  },
  {
   "cell_type": "markdown",
   "metadata": {},
   "source": [
    "# 多继承"
   ]
  },
  {
   "cell_type": "code",
   "execution_count": 4,
   "metadata": {},
   "outputs": [
    {
     "name": "stdout",
     "output_type": "stream",
     "text": [
      "父类a中的方法\n",
      "父类b中的方法\n"
     ]
    }
   ],
   "source": [
    "class FatherA():\n",
    "    def __init__(self, name):\n",
    "        self.name = name\n",
    "    \n",
    "    def showA(self):\n",
    "        print('父类a中的方法')\n",
    "\n",
    "    \n",
    "class FatherB():\n",
    "    def __init__(self, age):\n",
    "        self.age = age\n",
    "\n",
    "    def showB(self):\n",
    "        print('父类b中的方法')\n",
    "\n",
    "# 多继承\n",
    "class Son(FatherA, FatherB):\n",
    "    def __init__(self, name, age, gender):\n",
    "        # 需要调用两个父类的初始化方法\n",
    "        FatherA.__init__(self,name)\n",
    "        FatherB.__init__(self,age)\n",
    "        self.gender = gender\n",
    "\n",
    "\n",
    "son = Son('zyx',23,'boy')  # 调用Son类中的__init__执行\n",
    "son.showA()\n",
    "son.showB()\n",
    "\n",
    "\n"
   ]
  },
  {
   "cell_type": "markdown",
   "metadata": {},
   "source": [
    "# 方法重写"
   ]
  },
  {
   "cell_type": "code",
   "execution_count": 9,
   "metadata": {},
   "outputs": [
    {
     "name": "stdout",
     "output_type": "stream",
     "text": [
      "我叫: zyx, 25岁了\n",
      "我的学号是218\n",
      "我叫: 巴嘎, 88岁了，我的科室是Surgery\n"
     ]
    }
   ],
   "source": [
    "class Person:  # 默认继承了object\n",
    "    def __init__ (self,name,age):\n",
    "        self.name = name\n",
    "        self.age = age\n",
    "    def show(self):\n",
    "        print(f'我叫: {self.name}, {self.age}岁了')\n",
    "\n",
    "\n",
    "# Student 继承 Person 类\n",
    "class Student(Person):\n",
    "    # 编写初始化的方法\n",
    "    def __init__ (self,name,age,stu_id):\n",
    "        super().__init__(name,age)  # 调用父类的初始化方法\n",
    "        self.stu_id = stu_id\n",
    "\n",
    "    def show(self):\n",
    "        # 调用父类中的方法\n",
    "        super().show()\n",
    "        print(f'我的学号是{self.stu_id}')\n",
    "\n",
    "\n",
    "# Doctor 继承 Person 类\n",
    "class Doctor(Person):\n",
    "    # 编写初始化的方法\n",
    "    def __init__ (self,name,age,department):\n",
    "        super().__init__(name,age)  # 调用父类的初始化方法\n",
    "        self.department = department\n",
    "\n",
    "    def show(self):\n",
    "        #super.show()  # 调用父类中show的方法\n",
    "        print(f'我叫: {self.name}, {self.age}岁了，我的科室是{self.department}')\n",
    "\n",
    "# 创建第一个子类对象\n",
    "stu=Student('zyx',25,'218')\n",
    "stu.show()  # 调用子类自己的show方法\n",
    "\n",
    "doctor=Doctor('巴嘎',88,'Surgery')\n",
    "doctor.show()  # 调用子类自己的show()方法"
   ]
  },
  {
   "cell_type": "markdown",
   "metadata": {},
   "source": [
    "# 多态\n",
    "\n",
    "多种形态    \n",
    "\n",
    "根据变量引用对象的数据类型，动态决定调用哪个对象的方法  \n",
    "\n",
    "不关心数据类型，类之间是否存在继承关系，只关心对象的方法。只要不同class中有同名的方法，即可实现多态"
   ]
  },
  {
   "cell_type": "code",
   "execution_count": 6,
   "metadata": {},
   "outputs": [
    {
     "name": "stdout",
     "output_type": "stream",
     "text": [
      "I eat everything\n",
      "I eat fish\n",
      "I eat bone\n"
     ]
    }
   ],
   "source": [
    "class Person():\n",
    "    def eat(self):\n",
    "        print('I eat everything')\n",
    "\n",
    "\n",
    "class Cat():\n",
    "    def eat(self):\n",
    "        print('I eat fish')\n",
    "\n",
    "\n",
    "class Dog():\n",
    "    def eat(self):\n",
    "        print('I eat bone')\n",
    "\n",
    "\n",
    "# 三个类 都有同名函数 eat\n",
    "\n",
    "def fun(obj):  # obj 是函数的形参\n",
    "    obj.eat()  # 通过变量obj调用eat方法\n",
    "\n",
    "\n",
    "per = Person()\n",
    "cat = Cat()\n",
    "dog = Dog()\n",
    "\n",
    "\n",
    "\n",
    "# 调用fun函数\n",
    "fun(per)   # python多态，不关心对象的数据类型，只关心对象是否具有同名方法\n",
    "fun(cat)\n",
    "fun(dog)\n"
   ]
  },
  {
   "cell_type": "markdown",
   "metadata": {},
   "source": [
    "# 指定对象的属性\n",
    "\n",
    "__ new __:  自动的  \n",
    "\n",
    "__ init __: 赋值的  \n",
    "\n",
    "__ str __: 描述的"
   ]
  },
  {
   "cell_type": "code",
   "execution_count": 8,
   "metadata": {},
   "outputs": [
    {
     "name": "stdout",
     "output_type": "stream",
     "text": [
      "['__class__', '__delattr__', '__dict__', '__dir__', '__doc__', '__eq__', '__format__', '__ge__', '__getattribute__', '__gt__', '__hash__', '__init__', '__init_subclass__', '__le__', '__lt__', '__module__', '__ne__', '__new__', '__reduce__', '__reduce_ex__', '__repr__', '__setattr__', '__sizeof__', '__str__', '__subclasshook__', '__weakref__', 'age', 'name', 'show']\n",
      "<__main__.Person object at 0x109916250>\n"
     ]
    }
   ],
   "source": [
    "class Person(object):\n",
    "    def __init__(self,name,age):\n",
    "        self.name = name\n",
    "        self.age = age\n",
    "    \n",
    "\n",
    "    def show(self):\n",
    "        print(f'我叫: {self.name}, {self.age}岁了')\n",
    "\n",
    "\n",
    "# 创建一个person类的对象\n",
    "per=Person('zyx',22) # 创建对象的时候会自动调用__init__方法()\n",
    "print(dir(per))\n",
    "\n",
    "print(per)  # 自动调用了__str__方法\n"
   ]
  },
  {
   "cell_type": "markdown",
   "metadata": {},
   "source": [
    "# __str__方法重写"
   ]
  },
  {
   "cell_type": "code",
   "execution_count": 10,
   "metadata": {},
   "outputs": [
    {
     "name": "stdout",
     "output_type": "stream",
     "text": [
      "<__main__.Person object at 0x109999100>\n"
     ]
    }
   ],
   "source": [
    "# before\n",
    "\n",
    "class Person(object):\n",
    "    def __init__(self,name,age):\n",
    "        self.name = name\n",
    "        self.age = age\n",
    "    \n",
    "\n",
    "# 创建person类的对象\n",
    "per=Person('zyx',20)\n",
    "\n",
    "print(per)\n"
   ]
  },
  {
   "cell_type": "code",
   "execution_count": 12,
   "metadata": {},
   "outputs": [
    {
     "name": "stdout",
     "output_type": "stream",
     "text": [
      "this is a person\n",
      "this is a person\n"
     ]
    }
   ],
   "source": [
    "\n",
    "# after\n",
    "\n",
    "class Person(object):\n",
    "    def __init__(self,name,age):\n",
    "        self.name = name\n",
    "        self.age = age\n",
    "\n",
    "\n",
    "    def __str__(self):\n",
    "        return 'this is a person'  # 返回值是一个字符串\n",
    "    \n",
    "\n",
    "# 创建person类的对象\n",
    "per=Person('zyx',20)\n",
    "\n",
    "print(per)  # 不是内存地址，__str__方法中的内容， 直接输出对象名， 实际上是调用__str__方法\n",
    "print(per.__str__())  # 手动调用\n"
   ]
  },
  {
   "cell_type": "markdown",
   "metadata": {},
   "source": [
    "# 特殊方法"
   ]
  },
  {
   "cell_type": "code",
   "execution_count": 22,
   "metadata": {},
   "outputs": [
    {
     "name": "stdout",
     "output_type": "stream",
     "text": [
      "['__abs__', '__add__', '__and__', '__bool__', '__ceil__', '__class__', '__delattr__', '__dir__', '__divmod__', '__doc__', '__eq__', '__float__', '__floor__', '__floordiv__', '__format__', '__ge__', '__getattribute__', '__getnewargs__', '__gt__', '__hash__', '__index__', '__init__', '__init_subclass__', '__int__', '__invert__', '__le__', '__lshift__', '__lt__', '__mod__', '__mul__', '__ne__', '__neg__', '__new__', '__or__', '__pos__', '__pow__', '__radd__', '__rand__', '__rdivmod__', '__reduce__', '__reduce_ex__', '__repr__', '__rfloordiv__', '__rlshift__', '__rmod__', '__rmul__', '__ror__', '__round__', '__rpow__', '__rrshift__', '__rshift__', '__rsub__', '__rtruediv__', '__rxor__', '__setattr__', '__sizeof__', '__str__', '__sub__', '__subclasshook__', '__truediv__', '__trunc__', '__xor__', 'as_integer_ratio', 'bit_length', 'conjugate', 'denominator', 'from_bytes', 'imag', 'numerator', 'real', 'to_bytes']\n",
      "------------------------------\n",
      "30\n",
      "30\n",
      "-10\n",
      "------------------------------\n",
      "a<b? True\n",
      "a<=b? True\n",
      "a==b? False\n",
      "------------------------------\n",
      "a>b? False\n",
      "a>=b? False\n",
      "a!=b? True\n",
      "------------------------------\n",
      "200\n",
      "0.5\n",
      "10\n",
      "0\n",
      "100\n"
     ]
    }
   ],
   "source": [
    "a=10\n",
    "b=20\n",
    "print(dir(a))\n",
    "\n",
    "print('-'*30)\n",
    "print(a+b)\n",
    "print(a.__add__(b))\n",
    "print(a.__sub__(b))\n",
    "\n",
    "print('-'*30)\n",
    "print('a<b?',a.__lt__(b))\n",
    "print('a<=b?',a.__le__(b))\n",
    "print('a==b?',a.__eq__(b))\n",
    "\n",
    "print('-'*30)\n",
    "print('a>b?',a.__gt__(b))\n",
    "print('a>=b?',a.__ge__(b))\n",
    "print('a!=b?',a.__ne__(b))\n",
    "\n",
    "print('-'*30)\n",
    "print(a.__mul__(b))\n",
    "print(a.__truediv__(b))  # 除\n",
    "print(a.__mod__(b))  # 余\n",
    "print(a.__floordiv__(b))  # 整除\n",
    "print(a.__pow__(2))\n",
    "\n"
   ]
  },
  {
   "cell_type": "markdown",
   "metadata": {},
   "source": [
    "# 特殊属性"
   ]
  },
  {
   "cell_type": "code",
   "execution_count": 33,
   "metadata": {},
   "outputs": [
    {
     "name": "stdout",
     "output_type": "stream",
     "text": [
      "a 属性字典 {}\n",
      "b 被属性字典 {}\n",
      "c 属性字典 {'name': 'zyx', 'age': 22}\n",
      "--------------------------------------------------\n",
      "对象a所属的类 <class '__main__.A'>\n",
      "对象b所属的类 <class '__main__.B'>\n",
      "对象c所属的类 <class '__main__.C'>\n",
      "--------------------------------------------------\n",
      "a 父类元组 (<class 'object'>,)\n",
      "b 父类元组 (<class 'object'>,)\n",
      "c 父类元组 (<class '__main__.A'>, <class '__main__.B'>)\n",
      "--------------------------------------------------\n",
      "a 父类 <class 'object'>\n",
      "b 父类 <class 'object'>\n",
      "c 父类 <class '__main__.A'>\n",
      "--------------------------------------------------\n",
      "a 层次结构 (<class '__main__.A'>, <class 'object'>)\n",
      "b 层次结构 (<class '__main__.B'>, <class 'object'>)\n",
      "c 层次结构 (<class '__main__.C'>, <class '__main__.A'>, <class '__main__.B'>, <class 'object'>)\n",
      "--------------------------------------------------\n",
      "[<class '__main__.C'>]\n",
      "[<class '__main__.C'>]\n",
      "[]\n",
      "--------------------------------------------------\n"
     ]
    }
   ],
   "source": [
    "class A:\n",
    "    pass\n",
    "class B:\n",
    "    pass\n",
    "class C(A,B):\n",
    "    def __init__(self,name,age):\n",
    "\n",
    "        self.name = name\n",
    "        self.age = age\n",
    "\n",
    "# 创建类的对象\n",
    "a=A()\n",
    "b=B()\n",
    "\n",
    "# 创建C类的对象\n",
    "c=C('zyx',22)\n",
    "\n",
    "print('a 属性字典',a.__dict__)\n",
    "print('b 被属性字典',b.__dict__)\n",
    "print('c 属性字典',c.__dict__)\n",
    "print('-'*50)\n",
    "\n",
    "print('对象a所属的类',a.__class__)\n",
    "print('对象b所属的类',b.__class__)\n",
    "print('对象c所属的类',c.__class__)\n",
    "print('-'*50)\n",
    "\n",
    "print('a 父类元组',A.__bases__)\n",
    "print('b 父类元组',B.__bases__)\n",
    "print('c 父类元组',C.__bases__)\n",
    "print('-'*50)\n",
    "\n",
    "print('a 父类',A.__base__)\n",
    "print('b 父类',B.__base__)\n",
    "print('c 父类',C.__base__)  # A类，如果继承了N多个父类，结果只显示一个父类\n",
    "print('-'*50)\n",
    "\n",
    "print('a 层次结构',A.__mro__)\n",
    "print('b 层次结构',B.__mro__)\n",
    "print('c 层次结构',C.__mro__)  # C类继承了A类，B类，间接继承了object类\n",
    "print('-'*50)\n",
    "\n",
    "# 子类列表\n",
    "print(A.__subclasses__())\n",
    "print(B.__subclasses__())\n",
    "print(C.__subclasses__())\n",
    "print('-'*50)\n",
    "\n",
    "                 \n"
   ]
  },
  {
   "cell_type": "markdown",
   "metadata": {},
   "source": [
    "# 类的深拷贝和浅拷贝\n",
    "\n",
    "变量的赋值：只是形成两个变量，实际上还是指向同一个对象  \n",
    "\n",
    "浅拷贝：拷贝时，对象包含的子对象内容不拷贝，源对象与拷贝对象会引用同一个子对象  \n",
    "\n",
    "深拷贝：使用copy板块的deepcopy函数，递归拷贝对象中包含的子对象，源对象和拷贝对象也不相同"
   ]
  },
  {
   "cell_type": "code",
   "execution_count": 5,
   "metadata": {},
   "outputs": [
    {
     "name": "stdout",
     "output_type": "stream",
     "text": [
      "<__main__.Computer object at 0x103827e20> <__main__.CPU object at 0x1038274f0> <__main__.Disk object at 0x103827730>\n",
      "<__main__.Computer object at 0x103827e20> <__main__.CPU object at 0x1038274f0> <__main__.Disk object at 0x103827730>\n",
      "--------------------------------------------------\n",
      "<__main__.Computer object at 0x103827e20> <__main__.CPU object at 0x1038274f0> <__main__.Disk object at 0x103827730>\n",
      "<__main__.Computer object at 0x103849f40> <__main__.CPU object at 0x1038274f0> <__main__.Disk object at 0x103827730>\n",
      "--------------------------------------------------\n",
      "<__main__.Computer object at 0x103827e20> <__main__.CPU object at 0x1038274f0> <__main__.Disk object at 0x103827730>\n",
      "<__main__.Computer object at 0x103849e80> <__main__.CPU object at 0x10387a250> <__main__.Disk object at 0x10387a130>\n"
     ]
    }
   ],
   "source": [
    "class CPU():\n",
    "    pass\n",
    "\n",
    "\n",
    "class Disk():\n",
    "    pass\n",
    "\n",
    "\n",
    "class Computer():\n",
    "    # 计算机由cpu和硬盘组成\n",
    "\n",
    "\n",
    "    def __init__(self,cpu,disk):\n",
    "        self.cpu = cpu\n",
    "        self.disk = disk\n",
    "\n",
    "\n",
    "cpu=CPU()  # 创建类一个cpu对象\n",
    "disk=Disk()  # 创建了一个硬盘对象\n",
    "\n",
    "\n",
    "\n",
    "\n",
    "\n",
    "#创建一个计算机对象\n",
    "com=Computer(cpu,disk)\n",
    "#变量的赋值\n",
    "com1=com\n",
    "print(com,com.cpu,com.disk)\n",
    "print(com1,com1.cpu,com1.disk)\n",
    "\n",
    "\n",
    "\n",
    "#类对象的浅拷贝\n",
    "import copy\n",
    "print('-'*50)\n",
    "com2=copy.copy(com)  # com2新产生的子对象，cpu，disk不变\n",
    "print(com,com.cpu,com.disk)\n",
    "print(com2,com2.cpu,com2.disk)\n",
    "\n",
    "\n",
    "\n",
    "#类对象的深拷贝\n",
    "print('-'*50)\n",
    "com3=copy.deepcopy(com)  # com3新产生的子对象，cpu，disk不变\n",
    "print(com,com.cpu,com.disk)\n",
    "print(com3,com3.cpu,com3.disk)\n",
    "\n",
    "\n"
   ]
  },
  {
   "cell_type": "markdown",
   "metadata": {},
   "source": [
    "# --------------------------------------------------------------------------\n"
   ]
  },
  {
   "cell_type": "markdown",
   "metadata": {},
   "source": [
    "# 定义一个圆的类计算面积和周长\n",
    "\n",
    "定义一个圆类 circle，提供一个属性r，提供两个方法get_area(self) and get_perimeter(self)"
   ]
  },
  {
   "cell_type": "code",
   "execution_count": 17,
   "metadata": {},
   "outputs": [
    {
     "name": "stdout",
     "output_type": "stream",
     "text": [
      "28.27 18.85\n"
     ]
    }
   ],
   "source": [
    "class Circle():\n",
    "    def __init__(self, r):\n",
    "        self.r = r\n",
    "        self.pi = 3.1415926\n",
    "\n",
    "    def get_area(self):\n",
    "        return round(self.pi*pow(self.r,2),2)\n",
    "    \n",
    "    def get_perimeter(self):\n",
    "        return round(2*self.pi*self.r,2)\n",
    "    \n",
    "    \n",
    "\n",
    "r1=eval(input('give length of radius'))\n",
    "cir=Circle(r1)\n",
    "area=cir.get_area()\n",
    "per=cir.get_perimeter()\n",
    "print(area,per)\n"
   ]
  },
  {
   "cell_type": "markdown",
   "metadata": {},
   "source": [
    "# 定义学生类录入5个学生信息存储到列表中\n",
    "\n",
    "类 Student, 属性：姓名，年龄，性别，分数, 学生信息输出info(self)        \n",
    "\n",
    "test: for loop 5次录入信息,#分隔，使用split (chap 6)，list存储信息，遍历，调用"
   ]
  },
  {
   "cell_type": "code",
   "execution_count": 25,
   "metadata": {},
   "outputs": [
    {
     "name": "stdout",
     "output_type": "stream",
     "text": [
      "[<__main__.Student object at 0x103beff70>, <__main__.Student object at 0x103970e80>, <__main__.Student object at 0x10397d4c0>, <__main__.Student object at 0x103b3a8e0>, <__main__.Student object at 0x103aaccd0>]\n",
      "zyx 20 m 99\n",
      "zy 30 m 100\n",
      "yx 23 f 96\n",
      "hy 25 m 83\n",
      "yy 26 f 100\n"
     ]
    }
   ],
   "source": [
    "\n",
    "class Student:\n",
    "    def __init__(self,name,age,gender,scores):\n",
    "        self.name = name\n",
    "        self.age = age\n",
    "        self.gender = gender\n",
    "        self.scores = scores\n",
    "\n",
    "    def info(self):\n",
    "        print(self.name, self.age, self.gender, self.scores)\n",
    "\n",
    "\n",
    "\n",
    "lst=[]\n",
    "for i in range(1,6):\n",
    "    inp=input(f'请输入第{i}位学生信息')\n",
    "    s=inp.split('#')\n",
    "    stu=Student(s[0],s[1],s[2],s[3])\n",
    "    lst.append(stu)\n",
    "\n",
    "#print(lst)\n",
    "\n",
    "for item in lst:\n",
    "    item.info()\n",
    "\n"
   ]
  },
  {
   "cell_type": "markdown",
   "metadata": {},
   "source": [
    "# 面向对象实现乐器弹奏  \n",
    "\n",
    "音乐类：instrument，方法make_sound()定义乐器类的子类：erhu，piano，violin   \n",
    "\n",
    "定义一个函数可以弹奏各种乐器play(instrument),测试给不同的乐器让他弹奏   \n"
   ]
  },
  {
   "cell_type": "code",
   "execution_count": 26,
   "metadata": {},
   "outputs": [
    {
     "name": "stdout",
     "output_type": "stream",
     "text": [
      "Erhu在弹奏\n",
      "Piano在演奏\n",
      "Violin在演奏\n"
     ]
    }
   ],
   "source": [
    "class Instrument:\n",
    "    def make_sound(self):\n",
    "        pass\n",
    "\n",
    "class Erhu(Instrument):\n",
    "    def make_sound(self):\n",
    "        print('Erhu在弹奏')\n",
    "\n",
    "class Piano(Instrument):\n",
    "    def make_sound(self):\n",
    "        print('Piano在演奏')\n",
    "\n",
    "\n",
    "class Violin(Instrument):\n",
    "    def make_sound(self):\n",
    "        print('Violin在演奏')\n",
    "    \n",
    "def play(obj):\n",
    "    obj.make_sound()\n",
    "\n",
    "er=Erhu()\n",
    "pia=Piano()\n",
    "vio=Violin()\n",
    "\n",
    "play(er)\n",
    "play(pia)\n",
    "play(vio)\n",
    "\n",
    "        "
   ]
  },
  {
   "cell_type": "markdown",
   "metadata": {},
   "source": [
    "# 使用面向对象的思想，设计自定义类，描述出租车和家用车的信息    \n",
    "\n",
    "出租车类：属性包括-->车型，车牌，所属出租公司；方法包括：启动，停止     \n",
    "\n",
    "家用轿车类：属性包括-->车型，车牌，车主姓名；方法包括：启动，停止"
   ]
  },
  {
   "cell_type": "code",
   "execution_count": 30,
   "metadata": {},
   "outputs": [
    {
     "name": "stdout",
     "output_type": "stream",
     "text": [
      "welcome,666Hamilton,clfx227\n",
      "starting vehicle\n",
      "Destination\n",
      "----------------------------------------------------------------------------------------------------\n",
      "Toyota,laxs222,zyx\n",
      "Destination\n"
     ]
    }
   ],
   "source": [
    "class Vehicle:\n",
    "    def __init__(self,make,plate):\n",
    "        self.make = make\n",
    "        self.plate = plate\n",
    "    \n",
    "\n",
    "    def start(self):\n",
    "        print('starting vehicle')\n",
    "\n",
    "    def stop(self):\n",
    "        print('Destination')\n",
    "\n",
    "\n",
    "class Taxi(Vehicle):\n",
    "    def __init__(self,make,plate,company):\n",
    "        super().__init__(make,plate)\n",
    "        self.company = company\n",
    "\n",
    "    def start(self):\n",
    "        print(f'welcome,{self.company},{self.plate}')\n",
    "        super().start()\n",
    "\n",
    "    def stop(self):\n",
    "        super().stop()\n",
    "    \n",
    "class Sedan(Vehicle):\n",
    "\n",
    "    def __init__(self,make,plate,name):\n",
    "        super().__init__(make,plate)\n",
    "        self.name = name\n",
    "\n",
    "    def start(self):\n",
    "        print(f'{self.make},{self.plate},{self.name}')\n",
    "\n",
    "    def stop(self):\n",
    "        super().stop()\n",
    "\n",
    "\n",
    "taxi=Taxi('Ford','clfx227','666Hamilton')\n",
    "taxi.start()\n",
    "taxi.stop()\n",
    "print('-'*100)\n",
    "sedan=Sedan('Toyota','laxs222','zyx')\n",
    "sedan.start()\n",
    "sedan.stop()\n",
    "\n",
    "    \n",
    "\n"
   ]
  }
 ],
 "metadata": {
  "kernelspec": {
   "display_name": "Python 3",
   "language": "python",
   "name": "python3"
  },
  "language_info": {
   "codemirror_mode": {
    "name": "ipython",
    "version": 3
   },
   "file_extension": ".py",
   "mimetype": "text/x-python",
   "name": "python",
   "nbconvert_exporter": "python",
   "pygments_lexer": "ipython3",
   "version": "3.9.6"
  }
 },
 "nbformat": 4,
 "nbformat_minor": 2
}
