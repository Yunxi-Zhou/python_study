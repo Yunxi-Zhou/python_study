{
 "cells": [
  {
   "cell_type": "markdown",
   "metadata": {},
   "source": [
    "# 模块的导入\n",
    "\n",
    "import导入方式的语法结构：import 模块名称 [as 别名] \n",
    "\n",
    "from...import导入方式的语法结构：from 模块名称 import 变量/函数/类/*   \n",
    "\n",
    "\n"
   ]
  },
  {
   "cell_type": "code",
   "execution_count": 5,
   "metadata": {},
   "outputs": [
    {
     "name": "stdout",
     "output_type": "stream",
     "text": [
      "zyx\n",
      "hello, my name is zyx\n"
     ]
    }
   ],
   "source": [
    "import my_info\n",
    "print(my_info.name)\n",
    "my_info.info()\n"
   ]
  },
  {
   "cell_type": "code",
   "execution_count": 6,
   "metadata": {},
   "outputs": [
    {
     "name": "stdout",
     "output_type": "stream",
     "text": [
      "zyx\n",
      "hello, my name is zyx\n"
     ]
    }
   ],
   "source": [
    "import my_info as a\n",
    "print(a.name)\n",
    "a.info()\n"
   ]
  },
  {
   "cell_type": "code",
   "execution_count": 7,
   "metadata": {},
   "outputs": [
    {
     "name": "stdout",
     "output_type": "stream",
     "text": [
      "zyx\n"
     ]
    }
   ],
   "source": [
    "from my_info import name\n",
    "print(name)\n",
    "#info() NameError: name 'info' is not defined\n",
    "\n"
   ]
  },
  {
   "cell_type": "code",
   "execution_count": 8,
   "metadata": {},
   "outputs": [
    {
     "name": "stdout",
     "output_type": "stream",
     "text": [
      "hello, my name is zyx\n"
     ]
    }
   ],
   "source": [
    "from my_info import info\n",
    "info()\n"
   ]
  },
  {
   "cell_type": "code",
   "execution_count": 9,
   "metadata": {},
   "outputs": [
    {
     "name": "stdout",
     "output_type": "stream",
     "text": [
      "zyx\n",
      "hello, my name is zyx\n"
     ]
    }
   ],
   "source": [
    "# 通配符\n",
    "from my_info import *\n",
    "print(name)\n",
    "info()\n"
   ]
  },
  {
   "cell_type": "code",
   "execution_count": null,
   "metadata": {},
   "outputs": [],
   "source": [
    "# 同时导入多个模块\n",
    "\n",
    "import math,time,random\n",
    "\n",
    "\n"
   ]
  },
  {
   "cell_type": "code",
   "execution_count": 10,
   "metadata": {},
   "outputs": [
    {
     "name": "stdout",
     "output_type": "stream",
     "text": [
      "name:yzx,age:18\n"
     ]
    }
   ],
   "source": [
    "from my_info import *\n",
    "from introduce import *\n",
    "# 具有同名变量和函数\n",
    "# 后导入的会将之前导入的进行覆盖\n",
    "\n",
    "\n",
    "info()\n",
    "\n"
   ]
  },
  {
   "cell_type": "code",
   "execution_count": 12,
   "metadata": {},
   "outputs": [
    {
     "name": "stdout",
     "output_type": "stream",
     "text": [
      "hello my name is zyx\n",
      "name:zyx,age:18\n"
     ]
    }
   ],
   "source": [
    "# 如果不想覆盖，解决方案，可以使用import\n",
    "import my_info\n",
    "import introduce\n",
    "# 使用模块中的函数或变量时，模块名打点调用\n",
    "\n",
    "my_info.info()\n",
    "introduce.info()\n"
   ]
  },
  {
   "cell_type": "markdown",
   "metadata": {},
   "source": [
    "# python中的包  \n",
    "\n",
    "含有__init__.py文件的文件夹 \n",
    "\n",
    "可以避免模块名称相冲突的问题    "
   ]
  },
  {
   "cell_type": "markdown",
   "metadata": {},
   "source": [
    "# 包的导入"
   ]
  },
  {
   "cell_type": "code",
   "execution_count": 11,
   "metadata": {},
   "outputs": [
    {
     "name": "stdout",
     "output_type": "stream",
     "text": [
      "this is yunxi\n",
      "worker: zyx\n",
      "hello world, my name is zyx, 23 years old\n",
      "hello world, my name is zyx, 23 years old\n"
     ]
    }
   ],
   "source": [
    "import admin.my_admin as a\n",
    "\n",
    "\n",
    "a.info()\n",
    "\n",
    "from admin import my_admin as b\n",
    "b.info()\n",
    "\n",
    "# 可能为兼容问题"
   ]
  },
  {
   "cell_type": "markdown",
   "metadata": {},
   "source": [
    "# python 中常用的内置模块"
   ]
  },
  {
   "cell_type": "markdown",
   "metadata": {},
   "source": [
    "# random模块的使用"
   ]
  },
  {
   "cell_type": "code",
   "execution_count": 8,
   "metadata": {},
   "outputs": [
    {
     "name": "stdout",
     "output_type": "stream",
     "text": [
      "0.5714025946899135\n",
      "0.4288890546751146\n",
      "--------------------------------------------------\n",
      "74\n",
      "1\n",
      "4\n",
      "4\n",
      "7\n",
      "1\n",
      "1\n",
      "4\n",
      "4\n",
      "4\n",
      "7\n",
      "81.25126013057475\n",
      "1\n",
      "[5, 4, 10, 7, 3, 2, 1, 6, 8, 9]\n",
      "[3, 4, 5, 6, 8, 10, 7, 1, 2, 9]\n"
     ]
    }
   ],
   "source": [
    "import random\n",
    "\n",
    "random.seed(10)  # 设置随机数种子 默认为当前系统时间  定住随机数\n",
    "print(random.random())  # [0.0,1.0)  不包括1\n",
    "print(random.random())\n",
    "\n",
    "\n",
    "print('-'*50)\n",
    "random.seed(10)  # 设置随机数种子\n",
    "print(random.randint(1,100))  # [1，100]\n",
    "\n",
    "\n",
    "for i in range(10):  # [m,n) 步长为k, m-->start-->1,n-->stop-->10, k-->step-->\n",
    "    print(random.randrange(1,10,3))  # 执行了十次  [1,10)  step 3 --> 1,4,7中的随机数\n",
    "\n",
    "\n",
    "print(random.uniform(1,100))  # [a,b]随机小数\n",
    "\n",
    "\n",
    "lst=[i for i in range(1,11)]\n",
    "print(random.choice(lst))   # 从列表中随机选择一个元素\n",
    "\n",
    "random.shuffle(lst)  # 将seq中元素随机排列，返回打乱后的序列\n",
    "print(lst)\n",
    "\n",
    "random.shuffle(lst)\n",
    "print(lst)\n",
    "\n",
    "\n"
   ]
  },
  {
   "cell_type": "markdown",
   "metadata": {},
   "source": [
    "# time模块的使用\n"
   ]
  },
  {
   "cell_type": "code",
   "execution_count": 22,
   "metadata": {},
   "outputs": [
    {
     "name": "stdout",
     "output_type": "stream",
     "text": [
      "1706337372.858318\n",
      "time.struct_time(tm_year=2024, tm_mon=1, tm_mday=27, tm_hour=14, tm_min=36, tm_sec=12, tm_wday=5, tm_yday=27, tm_isdst=0)\n",
      "time.struct_time(tm_year=1970, tm_mon=1, tm_mday=1, tm_hour=8, tm_min=1, tm_sec=0, tm_wday=3, tm_yday=1, tm_isdst=0)\n",
      "<class 'time.struct_time'>\n",
      "year 1970\n",
      "month 1\n",
      "day 1\n",
      "hour 8\n",
      "minute 1\n",
      "second 0\n",
      "week 3\n",
      "day of year 1\n",
      "Sat Jan 27 14:36:12 2024\n",
      "2024-01-27\n",
      "14:36:12\n",
      "%B month January\n",
      "%A week Saturday\n",
      "time.struct_time(tm_year=2008, tm_mon=8, tm_mday=8, tm_hour=0, tm_min=0, tm_sec=0, tm_wday=4, tm_yday=221, tm_isdst=-1)\n",
      "helloworld\n"
     ]
    }
   ],
   "source": [
    "import time \n",
    "now=time.time()\n",
    "print(now)\n",
    "\n",
    "obj=time.localtime()  # struct_time对象 \n",
    "print(obj)\n",
    "\n",
    "obj2=time.localtime(60)  # 60s year 1970 1.1 8:01:00  AM 东八区所以八点\n",
    "print(obj2)\n",
    "print(type(obj2))\n",
    "\n",
    "print('year',obj2.tm_year)\n",
    "print('month',obj2.tm_mon)\n",
    "print('day',obj2.tm_mday)\n",
    "print('hour',obj2.tm_hour)\n",
    "print('minute',obj2.tm_min)\n",
    "print('second',obj2.tm_sec)\n",
    "print('week',obj2.tm_wday)  # [0,6]  3--> Thursday 2-->Wednesday\n",
    "print('day of year',obj2.tm_yday)\n",
    "print(time.ctime())  #  易读字符串 Sat Jan 27 14:29:04 2024\n",
    "\n",
    "\n",
    "# 日期时间格式化\n",
    "print(time.strftime('%Y-%m-%d',time.localtime()))\n",
    "print(time.strftime('%H:%M:%S',time.localtime()))\n",
    "\n",
    "print('%B month',time.strftime('%B',time.localtime()))\n",
    "print('%A week',time.strftime('%A',time.localtime()))\n",
    "\n",
    "\n",
    "# 字符串转换成struct_time\n",
    "\n",
    "print(time.strptime('2008-08-08','%Y-%m-%d'))\n",
    "\n",
    "\n",
    "time.sleep(20)  # 程序暂停20秒\n",
    "print('helloworld')\n"
   ]
  },
  {
   "cell_type": "markdown",
   "metadata": {},
   "source": [
    "# datetime的使用"
   ]
  },
  {
   "cell_type": "code",
   "execution_count": 39,
   "metadata": {},
   "outputs": [
    {
     "name": "stdout",
     "output_type": "stream",
     "text": [
      "current time 2024-01-27 15:07:03.788732\n",
      "type <class 'datetime.datetime'> ,datetime 2028-08-08 20:08:00\n",
      "year 2028 month 8 day 8\n",
      "hour 20 minute 8 second 0\n",
      "2028.5.1 < 2028.10.1? True\n",
      "now_dt type <class 'datetime.datetime'> ,now_dt data 2024-01-27 15:07:03.789256\n",
      "now_dt_str type <class 'str'> ,now_dt data 20240127 15;07;03\n",
      "str_dt type <class 'str'> ,str_dt 2028年8月8日 20点8分\n",
      "dt3 type <class 'datetime.datetime'> ,dt3 2028-08-08 20:08:00\n"
     ]
    }
   ],
   "source": [
    "from datetime import datetime # from module import class\n",
    "\n",
    "dt=datetime.now()\n",
    "print('current time',dt)\n",
    "\n",
    "\n",
    "# datetime 是一个类，手动创建这个类的对象\n",
    "\n",
    "dt2=datetime(2028,8,8,20,8)\n",
    "print('type', type(dt2),',datetime',dt2)\n",
    "\n",
    "print('year',dt2.year,'month',dt2.month,'day',dt2.day)\n",
    "print('hour',dt2.hour,'minute',dt2.minute,'second',dt2.second)\n",
    "\n",
    "\n",
    "\n",
    "# 比较两个datetime类型对象的大小\n",
    "\n",
    "lb_day=datetime(2028,5,1,0,0,0)\n",
    "na_day=datetime(2028,10,1,0,0,0)\n",
    "print('2028.5.1 < 2028.10.1?',lb_day<na_day)\n",
    "\n",
    "\n",
    "# datetime类型与字符串进行转换\n",
    "\n",
    "now_dt=datetime.now()\n",
    "now_dt_str=now_dt.strftime('%Y%m%d %H;%M;%S')\n",
    "print('now_dt type',type(now_dt),',now_dt data',now_dt)\n",
    "print('now_dt_str type',type(now_dt_str),',now_dt data',now_dt_str)\n",
    "\n",
    "\n",
    "# 字符串转换成datetime类型\n",
    "\n",
    "str_dt='2028年8月8日 20点8分'\n",
    "dt3=datetime.strptime(str_dt,'%Y年%m月%d日 %H点%M分')\n",
    "print('str_dt type',type(str_dt),',str_dt',str_dt)\n",
    "print('dt3 type',type(dt3),',dt3',dt3)\n",
    "\n"
   ]
  },
  {
   "cell_type": "markdown",
   "metadata": {},
   "source": [
    "# timedelta类的使用"
   ]
  },
  {
   "cell_type": "code",
   "execution_count": 49,
   "metadata": {},
   "outputs": [
    {
     "name": "stdout",
     "output_type": "stream",
     "text": [
      "delta1 type: <class 'datetime.timedelta'> ,delta1 data: 153 days, 0:00:00\n",
      "2028.5.1 + 153: 2028-10-01 00:00:00\n",
      "create a 10 days timedelta: 10 days, 0:00:00\n",
      "create a 10 days 11 secs timedelta: 10 days, 0:00:11\n"
     ]
    }
   ],
   "source": [
    "from datetime import datetime # from module import class\n",
    "from datetime import timedelta\n",
    "\n",
    "# 创建两个datetime对象\n",
    "\n",
    "delta1=datetime(2028,10,1)-datetime(2028,5,1)\n",
    "print('delta1 type:',type(delta1),',delta1 data:',delta1)\n",
    "\n",
    "print('2028.5.1 + 153:', datetime(2028,5,1)+delta1)\n",
    "\n",
    "\n",
    "# 通过传入参数的方式创建一个timedelta对象\n",
    "\n",
    "dt1=timedelta(10)\n",
    "print('create a 10 days timedelta:',dt1)\n",
    "dt2=timedelta(10,11)\n",
    "print('create a 10 days 11 secs timedelta:',dt2)\n",
    "\n",
    "\n",
    "\n"
   ]
  },
  {
   "cell_type": "markdown",
   "metadata": {},
   "source": [
    "# 第三方模块的安装和卸载\n",
    "\n",
    "安装：pip3 install 模块名称 or pip3 install 模块名 -i https://github.com/...  \n",
    "\n",
    "卸载：pip3 uninstall 模块名称    \n",
    "\n",
    "升级pip：python -m pip3 install --upgrade pip"
   ]
  },
  {
   "cell_type": "markdown",
   "metadata": {},
   "source": [
    "# 爬取景区天气预报"
   ]
  },
  {
   "cell_type": "code",
   "execution_count": 8,
   "metadata": {},
   "outputs": [
    {
     "name": "stdout",
     "output_type": "stream",
     "text": [
      "[['景区', '天气', '气温', '旅游指数'], ['三亚', '多云', '24/32℃', '适宜'], ['九寨沟', '中雨转小雨', '11/19℃', '一般'], ['大理', '多云', '10/23℃', '适宜'], ['张家界', '大雨转中雨', '17/21℃', '较不宜'], ['桂林', '阵雨', '24/32℃', '适宜'], ['青岛', '多云转阴', '8/16℃', '适宜']]\n",
      "['景区', '天气', '气温', '旅游指数']\n",
      "['三亚', '多云', '24/32℃', '适宜']\n",
      "['九寨沟', '中雨转小雨', '11/19℃', '一般']\n",
      "['大理', '多云', '10/23℃', '适宜']\n",
      "['张家界', '大雨转中雨', '17/21℃', '较不宜']\n",
      "['桂林', '阵雨', '24/32℃', '适宜']\n",
      "['青岛', '多云转阴', '8/16℃', '适宜']\n"
     ]
    }
   ],
   "source": [
    "import requests\n",
    "import re\n",
    "url='http://www.weather.com.cn/weather1d/101310201.shtml'\n",
    "\n",
    "resp=requests.get(url)\n",
    "resp.encoding = 'utf-8'\n",
    "#print(resp.text)\n",
    "\n",
    "city = re.findall('<span class=\"name\">([\\u4e00-\\u9fa5]*)</span>',resp.text)\n",
    "weather = re.findall('<span class=\"weather\">([\\u4e00-\\u9fa5]*)</span>',resp.text)\n",
    "wd = re.findall('<span class=\"wd\">(.*)</span>',resp.text)\n",
    "zs = re.findall('<span class=\"zs\">([\\u4e00-\\u9fa5]*)</span>',resp.text)\n",
    "\n",
    "#print(city)\n",
    "#print(weather)\n",
    "#print(wd)\n",
    "#print(zs)\n",
    "\n",
    "\n",
    "lst = []\n",
    "for a,b,c,d in zip(city,weather, wd, zs):\n",
    "    lst.append([a,b,c,d])\n",
    "print(lst)\n",
    "for item in lst:\n",
    "    print(item)\n",
    "\n",
    "\n"
   ]
  },
  {
   "cell_type": "markdown",
   "metadata": {},
   "source": [
    "# 爬取百度logo的图片"
   ]
  },
  {
   "cell_type": "code",
   "execution_count": 9,
   "metadata": {},
   "outputs": [],
   "source": [
    "import requests\n",
    "url = 'https://www.baidu.com/img/PCtm_d9c8750bed0b3c7d089fa7d55720d6cf.png'\n",
    "\n",
    "resp = requests.get(url)\n",
    "\n",
    "# 保存到本地\n",
    "\n",
    "with open('logo.png','wb') as file:\n",
    "    file.write(resp.content)\n",
    "\n"
   ]
  },
  {
   "cell_type": "markdown",
   "metadata": {},
   "source": [
    "# weather\n"
   ]
  },
  {
   "cell_type": "code",
   "execution_count": null,
   "metadata": {},
   "outputs": [],
   "source": [
    "import requests\n",
    "import re\n",
    "\n",
    "# 定义函数\n",
    "\n",
    "def get_html():\n",
    "    url='http://www.weather.com.cn/weather1d/101310201.shtml'\n",
    "\n",
    "    resp=requests.get(url)\n",
    "    resp.encoding = 'utf-8'\n",
    "    return resp.text\n",
    "\n",
    "def parse_html(html_str):\n",
    "\n",
    "    city = re.findall('<span class=\"name\">([\\u4e00-\\u9fa5]*)</span>',html.text)\n",
    "    weather = re.findall('<span class=\"weather\">([\\u4e00-\\u9fa5]*)</span>',html.text)\n",
    "    wd = re.findall('<span class=\"wd\">(.*)</span>',html.text)\n",
    "    zs = re.findall('<span class=\"zs\">([\\u4e00-\\u9fa5]*)</span>',html.text)\n",
    "\n",
    "    lst = []\n",
    "    for a,b,c,d in zip(city,weather, wd, zs):\n",
    "        lst.append([a,b,c,d])"
   ]
  },
  {
   "cell_type": "code",
   "execution_count": 3,
   "metadata": {},
   "outputs": [
    {
     "name": "stdout",
     "output_type": "stream",
     "text": [
      "+-------+-----------+-----------+-----------+-----------+-----------+\n",
      "|  行号 |   table1  |   table2  |   table3  |   table4  |   table5  |\n",
      "+-------+-----------+-----------+-----------+-----------+-----------+\n",
      "| 第1行 | available | available | available | available | available |\n",
      "| 第2行 | available | available | available | available | available |\n",
      "| 第3行 | available | available | available | available | available |\n",
      "| 第4行 | available | available | available | available | available |\n",
      "| 第5行 | available | available | available | available | available |\n",
      "| 第6行 | available | available | available | available | available |\n",
      "+-------+-----------+-----------+-----------+-----------+-----------+\n",
      "+-------+-----------+-----------+-----------+-----------+-----------+\n",
      "|  行号 |   table1  |   table2  |   table3  |   table4  |   table5  |\n",
      "+-------+-----------+-----------+-----------+-----------+-----------+\n",
      "| 第1行 | available | available | available | available | available |\n",
      "| 第2行 | available | available | available | available | available |\n",
      "| 第3行 | available | available | available | available | available |\n",
      "| 第4行 | available | available |    sold   | available | available |\n",
      "| 第5行 | available | available | available | available | available |\n",
      "| 第6行 | available | available | available | available | available |\n",
      "+-------+-----------+-----------+-----------+-----------+-----------+\n"
     ]
    }
   ],
   "source": [
    "import prettytable as pt\n",
    "\n",
    "# 显示坐席\n",
    "\n",
    "def show_ticket(row_num):\n",
    "    tb=pt.PrettyTable() # 创建一张表格\n",
    "    # 设置标题(表格的排头部分)\n",
    "    tb.field_names = ['行号','table1','table2','table3','table4','table5']\n",
    "\n",
    "    # 遍历有票\n",
    "\n",
    "    for i in range(1,row_num+1):\n",
    "        lst=[f'第{i}行','available','available','available','available','available']\n",
    "        tb.add_row(lst)\n",
    "    \n",
    "    print(tb)\n",
    "\n",
    "# 订票\n",
    "    \n",
    "def order_ticket(row_num, row, column):\n",
    "    tb=pt.PrettyTable() # 创建一张表格\n",
    "    # 设置标题(表格的排头部分)\n",
    "    tb.field_names = ['行号','table1','table2','table3','table4','table5']\n",
    "    for i in range(1,row_num+1):\n",
    "        if int(row) == i:\n",
    "            lst=[f'第{i}行','available','available','available','available','available']\n",
    "            lst[int(column)]='sold'\n",
    "            tb.add_row(lst)\n",
    "        else:\n",
    "            lst=[f'第{i}行','available','available','available','available','available']\n",
    "            tb.add_row(lst)\n",
    "\n",
    "    print(tb)\n",
    "\n",
    "\n",
    "\n",
    "\n",
    "\n",
    "if __name__ == '__main__':\n",
    "    row_num = 6\n",
    "    show_ticket(row_num)\n",
    "\n",
    "    choose_num=input('please give your table: 4,3 = row 4 column 3:')\n",
    "    row,column = choose_num.split(',')   # 系列解包赋值\n",
    "    order_ticket(row_num,row,column)"
   ]
  },
  {
   "cell_type": "code",
   "execution_count": 3,
   "metadata": {},
   "outputs": [
    {
     "name": "stdout",
     "output_type": "stream",
     "text": [
      "bye\n"
     ]
    }
   ],
   "source": [
    "data=b'bye'.decode('utf-8')\n",
    "print(data)"
   ]
  }
 ],
 "metadata": {
  "kernelspec": {
   "display_name": "Python 3",
   "language": "python",
   "name": "python3"
  },
  "language_info": {
   "codemirror_mode": {
    "name": "ipython",
    "version": 3
   },
   "file_extension": ".py",
   "mimetype": "text/x-python",
   "name": "python",
   "nbconvert_exporter": "python",
   "pygments_lexer": "ipython3",
   "version": "3.12.1"
  }
 },
 "nbformat": 4,
 "nbformat_minor": 2
}
