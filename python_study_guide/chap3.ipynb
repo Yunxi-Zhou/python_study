{
 "cells": [
  {
   "cell_type": "code",
   "execution_count": 2,
   "metadata": {},
   "outputs": [
    {
     "name": "stdout",
     "output_type": "stream",
     "text": [
      "['False', 'None', 'True', '__peg_parser__', 'and', 'as', 'assert', 'async', 'await', 'break', 'class', 'continue', 'def', 'del', 'elif', 'else', 'except', 'finally', 'for', 'from', 'global', 'if', 'import', 'in', 'is', 'lambda', 'nonlocal', 'not', 'or', 'pass', 'raise', 'return', 'try', 'while', 'with', 'yield']\n",
      "36\n"
     ]
    }
   ],
   "source": [
    "#保留字\n",
    "\n",
    "import keyword\n",
    "print(keyword.kwlist)\n",
    "print(len(keyword.kwlist))\n",
    "\n",
    "\n"
   ]
  },
  {
   "cell_type": "code",
   "execution_count": 4,
   "metadata": {},
   "outputs": [],
   "source": [
    "# 保留字严格区分大小写\n",
    "\n",
    "true = 'zhen'\n",
    "#True = 'zhen'  SyntaxError: cannot assign to True\n"
   ]
  },
  {
   "cell_type": "code",
   "execution_count": 4,
   "metadata": {},
   "outputs": [
    {
     "name": "stdout",
     "output_type": "stream",
     "text": [
      "luck_number type is <class 'int'>\n",
      "Yunxi Zhou luck_number is 8\n",
      "luck_number type is <class 'str'>\n",
      "1024 1024\n",
      "4373798704 4373798704\n"
     ]
    }
   ],
   "source": [
    "# 变量的定义\n",
    "\n",
    "luck_number = 8\n",
    "\n",
    "my_name = \"Yunxi Zhou\"\n",
    "\n",
    "print('luck_number type is',type(luck_number))\n",
    "print(my_name,'luck_number is',luck_number)\n",
    "\n",
    "\n",
    "luck_number = 'Beijing welcome you'\n",
    "print('luck_number type is',type(luck_number))   \n",
    "\n",
    "\n",
    "#允许多个变量指向同一个值\n",
    "\n",
    "no = number = 1024\n",
    "print(no, number)\n",
    "print(id(no),id(number))\n",
    "\n",
    "\n",
    "#谨慎使用小写字母i和大写字母O\n",
    "\n",
    "\n",
    "\n"
   ]
  },
  {
   "cell_type": "code",
   "execution_count": 6,
   "metadata": {},
   "outputs": [],
   "source": [
    "# 常量的定义\n",
    "\n",
    "pi = 3.1415926\n",
    "\n",
    "PI = 3.1415926   #常量在运行过程中，值不允许改变的量，用全部大写字母和下划线命名\n",
    "\n"
   ]
  },
  {
   "cell_type": "code",
   "execution_count": 7,
   "metadata": {},
   "outputs": [
    {
     "name": "stdout",
     "output_type": "stream",
     "text": [
      "987\n",
      "85\n",
      "501\n",
      "555711\n"
     ]
    }
   ],
   "source": [
    "#整数的四种表示形式\n",
    "\n",
    "num = 987   #默认十进制\n",
    "num2 = 0b1010101  #二进制\n",
    "num3 = 0o765 #八进制\n",
    "num4 = 0x87ABF #十六进制\n",
    "\n",
    "print(num)\n",
    "print(num2)\n",
    "print(num3)\n",
    "print(num4)\n"
   ]
  },
  {
   "cell_type": "code",
   "execution_count": 14,
   "metadata": {},
   "outputs": [
    {
     "name": "stdout",
     "output_type": "stream",
     "text": [
      "187.6 <class 'float'>\n",
      "<class 'int'> <class 'float'>\n",
      "<class 'float'>\n",
      "0.30000000000000004\n",
      "0.3\n"
     ]
    }
   ],
   "source": [
    "# 浮点数类型的使用\n",
    "\n",
    "height = 187.6\n",
    "print(height, type(height))\n",
    "\n",
    "\n",
    "x = 10\n",
    "y = 10.0\n",
    "print(type(x), type(y))\n",
    "\n",
    "\n",
    "x = 1.99E1013\n",
    "print(type(x))\n",
    "\n",
    "#不确定的尾数问题\n",
    "print(0.1 + 0.2)\n",
    "\n",
    "print(round(0.1 + 0.2, 1)) # 1是保留一位小数\n",
    "\n",
    "\n",
    "\n",
    "\n",
    "\n"
   ]
  },
  {
   "cell_type": "code",
   "execution_count": 17,
   "metadata": {},
   "outputs": [
    {
     "name": "stdout",
     "output_type": "stream",
     "text": [
      "123.0\n",
      "456.0\n"
     ]
    }
   ],
   "source": [
    "# 复数类型的使用\n",
    "\n",
    "x = 123 + 456j\n",
    "print(x.real)\n",
    "print(x.imag)\n"
   ]
  },
  {
   "cell_type": "code",
   "execution_count": 21,
   "metadata": {},
   "outputs": [
    {
     "name": "stdout",
     "output_type": "stream",
     "text": [
      "shanghai shanghai City\n",
      "address is shanghai city\n",
      "    phone number: 123\n",
      "\n",
      "--------------------------------\n",
      "address is shanghai city\n",
      "    phone number: 123\n",
      "\n"
     ]
    }
   ],
   "source": [
    "# 字符串类型的使用  \n",
    "\n",
    "city = 'shanghai'\n",
    "address = \"shanghai City\"\n",
    "print(city, address)\n",
    "\n",
    "info = '''address is shanghai city\n",
    "    phone number: 123\n",
    "'''\n",
    "\n",
    "info2 =\"\"\"address is shanghai city\n",
    "    phone number: 123\n",
    "\"\"\"\n",
    "\n",
    "print(info)\n",
    "print('--------------------------------')\n",
    "print(info2)\n",
    "\n"
   ]
  },
  {
   "cell_type": "code",
   "execution_count": 1,
   "metadata": {},
   "outputs": [
    {
     "name": "stdout",
     "output_type": "stream",
     "text": [
      "hello\n",
      "world\n",
      "--------------------------------\n",
      "hello\n",
      "world\n",
      "hello\tworld\n",
      "helooooooo\n",
      "hello'world\n",
      "hello\"world\n",
      "hello\\nworld\n",
      "hello\\nworld\n"
     ]
    }
   ],
   "source": [
    "# 转义字符的使用\n",
    "\n",
    "print('hello')\n",
    "print('world')\n",
    "print('--------------------------------')\n",
    "\n",
    "print('hello\\nworld')  # 换行\n",
    "\n",
    "print('hello\\tworld')   #一个制表位是八个字符 8-5 = 3\n",
    "print('helooooooo')\n",
    "\n",
    "\n",
    "print('hello\\'world')  \n",
    "print('hello\\\"world')  \n",
    "\n",
    "\n",
    "#原字符，转译字符失效的符号r或者R\n",
    "print(r'hello\\nworld')  \n",
    "print(R'hello\\nworld')  \n",
    "\n",
    "\n"
   ]
  },
  {
   "cell_type": "code",
   "execution_count": 8,
   "metadata": {},
   "outputs": [
    {
     "name": "stdout",
     "output_type": "stream",
     "text": [
      "h h\n",
      "o\n",
      "o\n",
      "llowo\n",
      "llowo\n",
      "hello\n",
      "world\n"
     ]
    }
   ],
   "source": [
    "# 字符串中的索引和切片\n",
    "\n",
    "s = 'helloworld'\n",
    "print(s[0],s[-10])\n",
    "print('helloworld'[4])\n",
    "print('helloworld'[-6])\n",
    "\n",
    "\n",
    "print(s[2:7])  #2到7不包括7 正向递增\n",
    "print(s[-8:-3]) # 反向递增\n",
    "print(s[:5])  # 默认从0开始\n",
    "print(s[5:])  # 默认切到字符串结尾\n",
    "\n",
    "\n",
    "\n",
    "\n"
   ]
  },
  {
   "cell_type": "code",
   "execution_count": 12,
   "metadata": {},
   "outputs": [
    {
     "name": "stdout",
     "output_type": "stream",
     "text": [
      "year 2022hello world\n",
      "year 2022year 2022year 2022year 2022year 2022year 2022year 2022year 2022year 2022year 2022\n",
      "year 2022year 2022year 2022year 2022year 2022year 2022year 2022year 2022year 2022year 2022\n",
      "True\n",
      "False\n"
     ]
    }
   ],
   "source": [
    "# 字符串类型的操作\n",
    "\n",
    "x = 'year 2022'\n",
    "y = 'hello world'\n",
    "print(x + y)\n",
    "print(x * 10)\n",
    "print(10 * x)\n",
    "\n",
    "print('hello' in y)\n",
    "print('shit' in y)\n",
    "\n",
    "\n"
   ]
  },
  {
   "cell_type": "code",
   "execution_count": 18,
   "metadata": {},
   "outputs": [
    {
     "name": "stdout",
     "output_type": "stream",
     "text": [
      "True\n",
      "<class 'bool'>\n",
      "11\n",
      "10\n",
      "True\n",
      "False False\n",
      "True\n",
      "False\n",
      "False\n",
      "False\n"
     ]
    }
   ],
   "source": [
    "# boolean 值的使用\n",
    "\n",
    "x = True\n",
    "print(x)\n",
    "print(type(x))\n",
    "print(x + 10)    #  1 + 10\n",
    "print(False + 10)  # 0 + 10\n",
    "\n",
    "\n",
    "print(bool(18))\n",
    "print(bool(0), bool(0.0))\n",
    "# 非0的整数的bool都是true\n",
    "\n",
    "print(bool('helloworld'))\n",
    "print(bool())\n",
    "# 所有非空字符串的bool都是true\n",
    "\n",
    "print(bool(False))\n",
    "print(bool(None))\n",
    "\n",
    "\n",
    "\n"
   ]
  },
  {
   "cell_type": "code",
   "execution_count": 2,
   "metadata": {},
   "outputs": [
    {
     "name": "stdout",
     "output_type": "stream",
     "text": [
      "3.3333333333333335 <class 'float'>\n",
      "3\n",
      "3\n",
      "-3\n",
      "-3\n",
      "10.0\n",
      "300\n",
      "21608\n",
      "周\n",
      "0x6768\n",
      "0o63550\n",
      "0b110011101101000\n"
     ]
    }
   ],
   "source": [
    "# 数据类型之间的转换\n",
    "\n",
    "x = 10\n",
    "y = 3\n",
    "z = x/y\n",
    "print(z, type(z))  # 隐式转换 通过运算隐式转了结果类型\n",
    "\n",
    "\n",
    "# float --> int\n",
    "print(int(3.14))\n",
    "print(int(3.9))\n",
    "print(int(-3.14))\n",
    "print(int(-3.9))\n",
    "\n",
    "# int --> float\n",
    "print(float(10))\n",
    "\n",
    "# string --> int\n",
    "print(int('100') + int('200'))\n",
    "\n",
    "\n",
    "# error situation\n",
    "# print(int('18a'))  ValueError: invalid literal for int() with base 10: '18a'\n",
    "#print(int('3.14'))  ValueError: invalid literal for int() with base 10: '18a'\n",
    "#print(float('45a.987'))\n",
    "\n",
    "\n",
    "# char()ord()\n",
    "print(ord('周'))\n",
    "print(chr(21608))\n",
    "\n",
    "\n",
    "# 进制之间转换 \n",
    "\n",
    "print(hex(26472))\n",
    "print(oct(26472))\n",
    "print(bin(26472))\n",
    "\n",
    "\n",
    "\n",
    "\n",
    "\n",
    "\n",
    "\n"
   ]
  },
  {
   "cell_type": "code",
   "execution_count": 5,
   "metadata": {},
   "outputs": [
    {
     "name": "stdout",
     "output_type": "stream",
     "text": [
      "0b101010001101000\n"
     ]
    }
   ],
   "source": [
    "print(bin(ord('周')))"
   ]
  },
  {
   "cell_type": "code",
   "execution_count": 5,
   "metadata": {},
   "outputs": [
    {
     "name": "stdout",
     "output_type": "stream",
     "text": [
      "3.14 + 3 <class 'str'>\n",
      "6.140000000000001 <class 'float'>\n",
      "hello world\n",
      "hello world\n"
     ]
    }
   ],
   "source": [
    "# eval function\n",
    "\n",
    "s = '3.14 + 3'\n",
    "print(s, type(s))\n",
    "x = eval(s)\n",
    "print(x, type(x))\n",
    "\n",
    "\n",
    "hello = 'hello world'\n",
    "print(hello)\n",
    "print(eval('hello'))\n",
    "#print(eval('hello world'))  SyntaxError: unexpected EOF while parsing\n",
    "\n",
    "\n"
   ]
  },
  {
   "cell_type": "code",
   "execution_count": 1,
   "metadata": {},
   "outputs": [
    {
     "name": "stdout",
     "output_type": "stream",
     "text": [
      "67 <class 'int'>\n",
      "187 <class 'int'>\n"
     ]
    }
   ],
   "source": [
    "# use with input()function , get user input values\n",
    "age = eval(input('give age:'))\n",
    "print(age, type(age))\n",
    "\n",
    "\n",
    "height = eval(input('height:'))\n",
    "print(height, type(height))"
   ]
  },
  {
   "cell_type": "code",
   "execution_count": 13,
   "metadata": {},
   "outputs": [
    {
     "name": "stdout",
     "output_type": "stream",
     "text": [
      "2\n",
      "0\n",
      "6\n",
      "5.0\n",
      "3\n",
      "1\n",
      "16\n"
     ]
    }
   ],
   "source": [
    "#算数运算符的使用\n",
    "\n",
    "print(1 + 1)\n",
    "print(1 - 1)\n",
    "print(2 * 3)\n",
    "print(10/2)\n",
    "print(10//3)\n",
    "print(10%3)\n",
    "print(2 **4)\n",
    "#print(10/0)  ZeroDivisionError: division by zero\n",
    "\n",
    "\n",
    "\n",
    "\n"
   ]
  },
  {
   "cell_type": "code",
   "execution_count": 28,
   "metadata": {},
   "outputs": [
    {
     "name": "stdout",
     "output_type": "stream",
     "text": [
      "30\n",
      "30\n",
      "300\n",
      "30.0 <class 'float'>\n",
      "0.0\n",
      "3\n",
      "9\n",
      "100 100 100\n",
      "10 20\n",
      "----------------------------------------------------------------\n",
      "20 10\n"
     ]
    }
   ],
   "source": [
    "# 赋值运算符的使用\n",
    "\n",
    "x = 20\n",
    "y = 10\n",
    "x = x + y\n",
    "print(x)\n",
    "x += y\n",
    "#print(x)\n",
    "x -= y\n",
    "print(x)\n",
    "x *= y\n",
    "print(x)\n",
    "x /= y\n",
    "print(x,type(x))\n",
    "x %= 2\n",
    "print(x)\n",
    "z = 3\n",
    "y //= z\n",
    "print(y)\n",
    "\n",
    "y **= 2\n",
    "print(y)\n",
    "\n",
    "#python 支持链式赋值\n",
    "\n",
    "a = b = c = 100\n",
    "print(a,b,c)\n",
    "\n",
    "#python 自持系列解包赋值\n",
    "\n",
    "a,b = 10,20\n",
    "print(a,b)\n",
    "\n",
    "\n",
    "print('----------------------------------------------------------------')\n",
    "# 交换两个变量的值\n",
    "\n",
    "a,b = b,a\n",
    "print(a,b)\n",
    "\n",
    "\n",
    "\n"
   ]
  },
  {
   "cell_type": "code",
   "execution_count": 34,
   "metadata": {},
   "outputs": [
    {
     "name": "stdout",
     "output_type": "stream",
     "text": [
      "True\n",
      "False\n",
      "False\n",
      "True\n",
      "True\n",
      "False\n"
     ]
    }
   ],
   "source": [
    "# 比较运算符的使用\n",
    "\n",
    "print(98>90)\n",
    "print(98<90)\n",
    "\n",
    "print(98 == 90)\n",
    "print(98 != 90)\n",
    "print(98 >= 90)\n",
    "print(98 <= 90)\n",
    "\n"
   ]
  },
  {
   "cell_type": "code",
   "execution_count": 41,
   "metadata": {},
   "outputs": [
    {
     "name": "stdout",
     "output_type": "stream",
     "text": [
      "True\n",
      "False\n",
      "False\n",
      "False\n",
      "----------------------------------------\n",
      "True\n",
      "False\n",
      "False\n",
      "----------------------------------------\n",
      "True\n",
      "True\n",
      "False\n",
      "True\n",
      "----------------------------------------\n",
      "True\n",
      "----------------------------------------\n",
      "False\n",
      "True\n",
      "False\n"
     ]
    }
   ],
   "source": [
    "# 逻辑运算符的使用\n",
    "\n",
    "print(True and True)\n",
    "print(True and False)\n",
    "print(False and False)\n",
    "print(False and True)\n",
    "\n",
    "print('-' * 40)\n",
    "print(8>7 and 6>5)\n",
    "print(8>7 and 6<5)\n",
    "print(8<7 and 10/0)  # 10/0 没有执行运算， 第一个表达式为False直接得结果，不会计算and右侧的表达式\n",
    "\n",
    "print('-' * 40)\n",
    "print(True or True)\n",
    "print(True or False)\n",
    "print(False or False)\n",
    "print(False or True)\n",
    "\n",
    "print('-' * 40)\n",
    "print(8>7 or 10/0) # 左侧表达式结果为True时，不会计算or右侧表达式\n",
    "\n",
    "print('-' * 40)\n",
    "print(not True)\n",
    "print(not False)\n",
    "print(not 8>7)\n",
    "\n",
    "\n",
    "\n"
   ]
  },
  {
   "cell_type": "code",
   "execution_count": 2,
   "metadata": {},
   "outputs": [
    {
     "name": "stdout",
     "output_type": "stream",
     "text": [
      "8\n",
      "12\n",
      "9\n",
      "-124\n",
      "8\n",
      "16\n",
      "2\n",
      "-2\n"
     ]
    }
   ],
   "source": [
    "# 位运算\n",
    "\n",
    "# 转换2进制 & 如果两个结果都为1 为1，其他为0 ，｜ 两个结果有一个是1 就是1，^ 两个位置上相同为0，否则为1，～ 一个操作数，1 和 0 对调\n",
    "\n",
    "print(12&8)\n",
    "print(4|8)\n",
    "print(31^22)\n",
    "print(~123)\n",
    "\n",
    "print(2<<2)  # 表示2向左移动两位  2*2*2\n",
    "print(2<<3) # 表示向左移动三位 2*2*2*2\n",
    "\n",
    "print(8>>2) # 8向右移动两位， 相当于8//2，4//2\n",
    "print(-8>>2)\n",
    "\n",
    "\n",
    "\n"
   ]
  }
 ],
 "metadata": {
  "kernelspec": {
   "display_name": "Python 3",
   "language": "python",
   "name": "python3"
  },
  "language_info": {
   "codemirror_mode": {
    "name": "ipython",
    "version": 3
   },
   "file_extension": ".py",
   "mimetype": "text/x-python",
   "name": "python",
   "nbconvert_exporter": "python",
   "pygments_lexer": "ipython3",
   "version": "3.9.6"
  }
 },
 "nbformat": 4,
 "nbformat_minor": 2
}
